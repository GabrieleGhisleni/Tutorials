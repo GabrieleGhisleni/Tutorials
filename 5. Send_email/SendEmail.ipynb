{
 "cells": [
  {
   "cell_type": "markdown",
   "metadata": {},
   "source": [
    "# Basic messages"
   ]
  },
  {
   "cell_type": "code",
   "execution_count": 17,
   "metadata": {},
   "outputs": [],
   "source": [
    "import smtplib\n",
    "email_address = os.environ.get(\"EMAIL_USER\")\n",
    "email_pasw = os.environ.get(\"EMAIL_PASS\")\n",
    "with smtplib.SMTP(\"smtp.gmail.com\", 587) as smtp:\n",
    "    smtp.ehlo() \n",
    "    smtp.starttls()\n",
    "    smtp.ehlo() \n",
    "    \n",
    "    smtp.login(mail_user, mail_psw)\n",
    "    subject = \"Daily report of cars\"\n",
    "    body = \"i know i have to try to hide my pse\"\n",
    "    message = f'Subject:{subject}\\n\\n{body}'\n",
    "    smtp.sendmail(\"gabriele.ghisleni01@gmail.com\", \"pr05@live.it\",message)\n",
    "    "
   ]
  },
  {
   "cell_type": "markdown",
   "metadata": {},
   "source": [
    "## Test on local"
   ]
  },
  {
   "cell_type": "code",
   "execution_count": 29,
   "metadata": {},
   "outputs": [],
   "source": [
    "email_address = os.environ.get(\"EMAIL_USER\")\n",
    "email_pasw = os.environ.get(\"EMAIL_PASS\")\n",
    "row = 1\n",
    "with smtplib.SMTP(\"localhost\", 1025) as smtp:\n",
    "    subject = \"Daily report of cars\"\n",
    "    body = \"\"\"This email is proudly generated automatically through Python.\\nEach day at 6pm you will receive this excel file containing all the cars that have been upload during the last 24 hours.\\nToday there were uploaded {} new cars\"\"\".format(row)\n",
    "    message = f'Subject:{subject}\\n\\n{body}'\n",
    "    smtp.sendmail(\"gabriele.ghisleni01@gmail.com\", \"pr05@live.it\",message)"
   ]
  },
  {
   "cell_type": "markdown",
   "metadata": {},
   "source": [
    "## EmailMessage class"
   ]
  },
  {
   "cell_type": "markdown",
   "metadata": {},
   "source": [
    "### attach a photo"
   ]
  },
  {
   "cell_type": "code",
   "execution_count": 48,
   "metadata": {},
   "outputs": [],
   "source": [
    "from email.message import EmailMessage\n",
    "import imghdr\n",
    "import pandas as pd\n",
    "\n",
    "email_address = os.environ.get(\"EMAIL_USER\")\n",
    "email_pasw = os.environ.get(\"EMAIL_PASS\")\n",
    "\n",
    "msg = EmailMessage()\n",
    "msg[\"Subject\"] = \"Daily report of cars\"\n",
    "msg[\"From\"] = \"gabriele.ghisleni01@gmail.com\"\n",
    "msg[\"To\"] = \"pr05@live.it\"\n",
    "msg.set_content(\"\"\"This email is proudly generated automatically through Python.\\nEach day at 6pm you will receive this excel file containing all the cars that have been upload during the last 24 hours.\\nToday there were uploaded {} new cars\"\"\".format(row))\n",
    "\n",
    "with open(\"000017.png\", \"rb\") as f:\n",
    "    file_data =f.read()\n",
    "    file_type = imghdr.what(f.name)\n",
    "    file_name = f.name\n",
    "\n",
    "    \n",
    "msg.add_attachment(file_data, maintype=\"image\", subtype=file_type, filename=file_name)\n"
   ]
  },
  {
   "cell_type": "markdown",
   "metadata": {},
   "source": [
    "### Attach a file! "
   ]
  },
  {
   "cell_type": "code",
   "execution_count": 57,
   "metadata": {},
   "outputs": [],
   "source": [
    "import smtplib\n",
    "from email.mime.multipart import MIMEMultipart\n",
    "from email.mime.base import MIMEBase\n",
    "from email.mime.text import MIMEText\n",
    "from email.utils import COMMASPACE\n",
    "from email import encoders\n",
    "msg = MIMEMultipart()\n",
    "mail_user = \"gabriele.ghisleni01@gmail.com\"\n",
    "mail_psw = os.environ.get(\"EMAIL_PASS\")\n",
    "msg[\"From\"] = mail_user\n",
    "msg[\"To\"] = \"pr05@live.it\"\n",
    "msg[\"Subject\"] = \"try\"\n",
    "msg.set_content(\"\"\"This email is proudly generated automatically through Python.\\nEach day at 6pm you will receive this excel file containing all the cars that have been upload during the last 24 hours.\\nToday there were uploaded {} new cars\"\"\".format(1))\n",
    "part = MIMEBase(\"application\", \"octet-stream\")\n",
    "part.set_payload(open(\"Whole_data.xlsx\", \"rb\").read())\n",
    "encoders.encode_base64(part)\n",
    "part.add_header(\"Content-Disposition\", \"attachment\", filename=\"Cars_data.xlsx\")  # or\n",
    "msg.attach(part)\n",
    "\n",
    "with smtplib.SMTP_SSL(\"smtp.gmail.com\", 465) as smtp:\n",
    "    smtp.login(mail_user, mail_psw)\n",
    "    smtp.send_message(msg)"
   ]
  },
  {
   "cell_type": "markdown",
   "metadata": {},
   "source": [
    "### Multiple send\n",
    "we just create a list of mail to which."
   ]
  },
  {
   "cell_type": "code",
   "execution_count": null,
   "metadata": {},
   "outputs": [],
   "source": [
    "msg[\"To\"] = [\"myemail\", \"yourmail\", \"soon\"]"
   ]
  }
 ],
 "metadata": {
  "kernelspec": {
   "display_name": "Python 3",
   "language": "python",
   "name": "python3"
  },
  "language_info": {
   "codemirror_mode": {
    "name": "ipython",
    "version": 3
   },
   "file_extension": ".py",
   "mimetype": "text/x-python",
   "name": "python",
   "nbconvert_exporter": "python",
   "pygments_lexer": "ipython3",
   "version": "3.8.8"
  },
  "toc": {
   "base_numbering": 1,
   "nav_menu": {},
   "number_sections": true,
   "sideBar": true,
   "skip_h1_title": false,
   "title_cell": "Table of Contents",
   "title_sidebar": "Contents",
   "toc_cell": false,
   "toc_position": {},
   "toc_section_display": true,
   "toc_window_display": false
  }
 },
 "nbformat": 4,
 "nbformat_minor": 4
}
