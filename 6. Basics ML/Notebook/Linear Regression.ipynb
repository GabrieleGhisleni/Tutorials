{
 "cells": [
  {
   "cell_type": "markdown",
   "metadata": {},
   "source": [
    "# Linear regression"
   ]
  },
  {
   "cell_type": "markdown",
   "metadata": {},
   "source": [
    "## Simple linear regression"
   ]
  },
  {
   "cell_type": "markdown",
   "metadata": {},
   "source": [
    "As we seen we will try to perform a linear model between a some predictor variable and the depent variable. it is used for many reasons as forecasting, estimation and so on."
   ]
  },
  {
   "cell_type": "code",
   "execution_count": 1,
   "metadata": {},
   "outputs": [],
   "source": [
    "import pandas as pd\n",
    "import numpy as np"
   ]
  },
  {
   "cell_type": "code",
   "execution_count": 2,
   "metadata": {},
   "outputs": [
    {
     "data": {
      "text/html": [
       "<div>\n",
       "<style scoped>\n",
       "    .dataframe tbody tr th:only-of-type {\n",
       "        vertical-align: middle;\n",
       "    }\n",
       "\n",
       "    .dataframe tbody tr th {\n",
       "        vertical-align: top;\n",
       "    }\n",
       "\n",
       "    .dataframe thead th {\n",
       "        text-align: right;\n",
       "    }\n",
       "</style>\n",
       "<table border=\"1\" class=\"dataframe\">\n",
       "  <thead>\n",
       "    <tr style=\"text-align: right;\">\n",
       "      <th></th>\n",
       "      <th>mpg</th>\n",
       "      <th>cylinders</th>\n",
       "      <th>displacement</th>\n",
       "      <th>horsepower</th>\n",
       "      <th>weight</th>\n",
       "      <th>acceleration</th>\n",
       "      <th>model_year</th>\n",
       "      <th>origin</th>\n",
       "      <th>name</th>\n",
       "    </tr>\n",
       "  </thead>\n",
       "  <tbody>\n",
       "    <tr>\n",
       "      <th>0</th>\n",
       "      <td>18.0</td>\n",
       "      <td>8</td>\n",
       "      <td>307.0</td>\n",
       "      <td>130</td>\n",
       "      <td>3504</td>\n",
       "      <td>12.0</td>\n",
       "      <td>70</td>\n",
       "      <td>1</td>\n",
       "      <td>chevrolet chevelle malibu</td>\n",
       "    </tr>\n",
       "  </tbody>\n",
       "</table>\n",
       "</div>"
      ],
      "text/plain": [
       "    mpg  cylinders  displacement  horsepower  weight  acceleration  \\\n",
       "0  18.0          8         307.0         130    3504          12.0   \n",
       "\n",
       "   model_year  origin                       name  \n",
       "0          70       1  chevrolet chevelle malibu  "
      ]
     },
     "execution_count": 2,
     "metadata": {},
     "output_type": "execute_result"
    }
   ],
   "source": [
    "df = pd.read_csv(\"mpg.csv\")\n",
    "df = df.loc[df[\"horsepower\"] != \"?\"]\n",
    "df[\"horsepower\"] = df[\"horsepower\"].apply(int)\n",
    "df.head(1)"
   ]
  },
  {
   "cell_type": "markdown",
   "metadata": {},
   "source": [
    "By now we split manually the dataframe into the traning set and the test set using the module randon"
   ]
  },
  {
   "cell_type": "code",
   "execution_count": 3,
   "metadata": {},
   "outputs": [
    {
     "data": {
      "text/plain": [
       "array([ True,  True,  True, False,  True,  True,  True,  True,  True])"
      ]
     },
     "execution_count": 3,
     "metadata": {},
     "output_type": "execute_result"
    }
   ],
   "source": [
    "msk = np.random.rand(len(df)) < 0.8 # this return an array of T/F with 80% of TRUE\n",
    "msk[0:9]"
   ]
  },
  {
   "cell_type": "code",
   "execution_count": 4,
   "metadata": {},
   "outputs": [],
   "source": [
    "train = df.loc[msk]\n",
    "test = df.loc[~msk] # in pandas the not is given by ~"
   ]
  },
  {
   "cell_type": "markdown",
   "metadata": {},
   "source": [
    "We perform the linear model using the package scikit-learn as following: first we create an empty model and then we pass into out data!"
   ]
  },
  {
   "cell_type": "code",
   "execution_count": 5,
   "metadata": {},
   "outputs": [
    {
     "data": {
      "text/plain": [
       "array([[165],\n",
       "       [150],\n",
       "       [140],\n",
       "       [198]], dtype=int64)"
      ]
     },
     "execution_count": 5,
     "metadata": {},
     "output_type": "execute_result"
    }
   ],
   "source": [
    "from sklearn import linear_model\n",
    "reg1 = linear_model.LinearRegression()\n",
    "# before pass into the model we have to transoform the pandas series into a numpy array!\n",
    "train_x = np.asanyarray(train[[\"weight\"]])   # must have the second square brackets\n",
    "train_y = np.asanyarray(train[[\"horsepower\"]])\n",
    "train_y[1:5]"
   ]
  },
  {
   "cell_type": "code",
   "execution_count": 6,
   "metadata": {},
   "outputs": [
    {
     "data": {
      "text/plain": [
       "sklearn.linear_model._base.LinearRegression"
      ]
     },
     "execution_count": 6,
     "metadata": {},
     "output_type": "execute_result"
    }
   ],
   "source": [
    "fitted_reg = reg1.fit(train_x, train_y)\n",
    "type(fitted_reg)"
   ]
  },
  {
   "cell_type": "code",
   "execution_count": 7,
   "metadata": {},
   "outputs": [
    {
     "name": "stdout",
     "output_type": "stream",
     "text": [
      "[[0.03914781]] [-12.32316676]\n"
     ]
    }
   ],
   "source": [
    "print(fitted_reg.coef_,fitted_reg.intercept_)"
   ]
  },
  {
   "cell_type": "markdown",
   "metadata": {},
   "source": [
    "To have a proper summary as in R we have to use a different tool! (why)\n",
    "well let's see how it works on our test data"
   ]
  },
  {
   "cell_type": "code",
   "execution_count": 8,
   "metadata": {},
   "outputs": [
    {
     "data": {
      "text/html": [
       "<table class=\"simpletable\">\n",
       "<tr>\n",
       "          <td>Model:</td>                 <td>OLS</td>       <td>Adj. R-squared (uncentered):</td>    <td>0.967</td>  \n",
       "</tr>\n",
       "<tr>\n",
       "    <td>Dependent Variable:</td>           <td>y</td>                    <td>AIC:</td>              <td>4928.9913</td>\n",
       "</tr>\n",
       "<tr>\n",
       "           <td>Date:</td>          <td>2021-03-16 10:11</td>             <td>BIC:</td>              <td>4932.7533</td>\n",
       "</tr>\n",
       "<tr>\n",
       "     <td>No. Observations:</td>           <td>318</td>              <td>Log-Likelihood:</td>         <td>-2463.5</td> \n",
       "</tr>\n",
       "<tr>\n",
       "         <td>Df Model:</td>                <td>1</td>                <td>F-statistic:</td>            <td>9447.</td>  \n",
       "</tr>\n",
       "<tr>\n",
       "       <td>Df Residuals:</td>             <td>317</td>            <td>Prob (F-statistic):</td>      <td>5.27e-238</td>\n",
       "</tr>\n",
       "<tr>\n",
       "  <td>R-squared (uncentered):</td>       <td>0.968</td>                 <td>Scale:</td>            <td>3.1457e+05</td>\n",
       "</tr>\n",
       "</table>\n",
       "<table class=\"simpletable\">\n",
       "<tr>\n",
       "   <td></td>   <th>Coef.</th>  <th>Std.Err.</th>    <th>t</th>     <th>P>|t|</th> <th>[0.025</th>  <th>0.975]</th> \n",
       "</tr>\n",
       "<tr>\n",
       "  <th>x1</th> <td>27.3820</td>  <td>0.2817</td>  <td>97.1945</td> <td>0.0000</td> <td>26.8278</td> <td>27.9363</td>\n",
       "</tr>\n",
       "</table>\n",
       "<table class=\"simpletable\">\n",
       "<tr>\n",
       "     <td>Omnibus:</td>    <td>94.013</td>  <td>Durbin-Watson:</td>    <td>0.974</td> \n",
       "</tr>\n",
       "<tr>\n",
       "  <td>Prob(Omnibus):</td>  <td>0.000</td> <td>Jarque-Bera (JB):</td> <td>365.214</td>\n",
       "</tr>\n",
       "<tr>\n",
       "       <td>Skew:</td>     <td>-1.222</td>     <td>Prob(JB):</td>      <td>0.000</td> \n",
       "</tr>\n",
       "<tr>\n",
       "     <td>Kurtosis:</td>    <td>7.647</td>  <td>Condition No.:</td>      <td>1</td>   \n",
       "</tr>\n",
       "</table>"
      ],
      "text/plain": [
       "<class 'statsmodels.iolib.summary2.Summary'>\n",
       "\"\"\"\n",
       "                        Results: Ordinary least squares\n",
       "================================================================================\n",
       "Model:                  OLS              Adj. R-squared (uncentered): 0.967     \n",
       "Dependent Variable:     y                AIC:                         4928.9913 \n",
       "Date:                   2021-03-16 10:11 BIC:                         4932.7533 \n",
       "No. Observations:       318              Log-Likelihood:              -2463.5   \n",
       "Df Model:               1                F-statistic:                 9447.     \n",
       "Df Residuals:           317              Prob (F-statistic):          5.27e-238 \n",
       "R-squared (uncentered): 0.968            Scale:                       3.1457e+05\n",
       "--------------------------------------------------------------------------------------\n",
       "          Coef.        Std.Err.          t          P>|t|         [0.025        0.975]\n",
       "--------------------------------------------------------------------------------------\n",
       "x1       27.3820         0.2817       97.1945       0.0000       26.8278       27.9363\n",
       "--------------------------------------------------------------------------------\n",
       "Omnibus:                  94.013            Durbin-Watson:               0.974  \n",
       "Prob(Omnibus):            0.000             Jarque-Bera (JB):            365.214\n",
       "Skew:                     -1.222            Prob(JB):                    0.000  \n",
       "Kurtosis:                 7.647             Condition No.:               1      \n",
       "================================================================================\n",
       "\n",
       "\"\"\""
      ]
     },
     "execution_count": 8,
     "metadata": {},
     "output_type": "execute_result"
    }
   ],
   "source": [
    "import statsmodels.api as sm\n",
    "mod = sm.OLS(train_x,train_y)\n",
    "fii = mod.fit()\n",
    "fii.summary2()"
   ]
  },
  {
   "cell_type": "code",
   "execution_count": 9,
   "metadata": {},
   "outputs": [],
   "source": [
    "from sklearn.metrics import r2_score\n",
    "test_x = np.asanyarray(test[[\"weight\"]])   # must have the second square brackets\n",
    "res_x = np.asanyarray(test[[\"horsepower\"]])"
   ]
  },
  {
   "cell_type": "code",
   "execution_count": 10,
   "metadata": {},
   "outputs": [
    {
     "data": {
      "text/plain": [
       "array([[122],\n",
       "       [127],\n",
       "       [ 82]])"
      ]
     },
     "execution_count": 10,
     "metadata": {},
     "output_type": "execute_result"
    }
   ],
   "source": [
    "prediction = reg1.predict(test_x)\n",
    "prediction = prediction.astype(np.int32) # converted into an int because horsepower is int!\n",
    "prediction[0:3]"
   ]
  },
  {
   "cell_type": "code",
   "execution_count": 11,
   "metadata": {},
   "outputs": [
    {
     "name": "stdout",
     "output_type": "stream",
     "text": [
      "Mean absolute error: 12.58108108108108\n",
      "Residual sum of squares (MSE): 287.3378378378378\n",
      "R2-score: 0.7877690229167782\n"
     ]
    }
   ],
   "source": [
    "print(\"Mean absolute error: {}\".format(np.mean(np.absolute(prediction - res_x))))\n",
    "print(\"Residual sum of squares (MSE): {}\".format( np.mean((prediction - res_x) ** 2)))\n",
    "print(\"R2-score: {}\".format(r2_score(res_x , prediction) ))"
   ]
  },
  {
   "cell_type": "markdown",
   "metadata": {},
   "source": [
    "## Multiple regression"
   ]
  },
  {
   "cell_type": "markdown",
   "metadata": {},
   "source": [
    "the process is the same as before, we just care about the numpy array that we are passing in the model:"
   ]
  },
  {
   "cell_type": "code",
   "execution_count": 12,
   "metadata": {},
   "outputs": [
    {
     "data": {
      "text/plain": [
       "array([[3504.,    8.,   18.],\n",
       "       [3693.,    8.,   15.],\n",
       "       [3436.,    8.,   18.]])"
      ]
     },
     "execution_count": 12,
     "metadata": {},
     "output_type": "execute_result"
    }
   ],
   "source": [
    "train_x = np.asanyarray(train[[\"weight\",\"cylinders\",\"mpg\"]]) \n",
    "train_y = np.asanyarray(train[[\"horsepower\"]])\n",
    "train_x[0:3]\n",
    "# now is more similar than a matrix!"
   ]
  },
  {
   "cell_type": "code",
   "execution_count": 13,
   "metadata": {},
   "outputs": [],
   "source": [
    "from sklearn import linear_model\n",
    "reg2 = linear_model.LinearRegression() \n",
    "fitted_reg2 = reg2.fit(train_x, train_y)"
   ]
  },
  {
   "cell_type": "code",
   "execution_count": 14,
   "metadata": {},
   "outputs": [
    {
     "name": "stdout",
     "output_type": "stream",
     "text": [
      "[[ 0.01946206  7.06244775 -0.91334255]]\n"
     ]
    }
   ],
   "source": [
    "print(fitted_reg2.coef_)"
   ]
  },
  {
   "cell_type": "code",
   "execution_count": 15,
   "metadata": {},
   "outputs": [],
   "source": [
    "test_x = np.asanyarray(test[[\"weight\",\"cylinders\",\"mpg\"]]) \n",
    "res_x = np.asanyarray(test[[\"horsepower\"]])"
   ]
  },
  {
   "cell_type": "code",
   "execution_count": 16,
   "metadata": {},
   "outputs": [],
   "source": [
    "prediction = reg2.predict(test_x)\n",
    "prediction = prediction.astype(np.int32)"
   ]
  },
  {
   "cell_type": "code",
   "execution_count": 17,
   "metadata": {},
   "outputs": [
    {
     "name": "stdout",
     "output_type": "stream",
     "text": [
      "Residual sum of squares: 267.55405405405406\n"
     ]
    }
   ],
   "source": [
    "print(\"Residual sum of squares: {}\".format(np.mean((prediction - res_x) ** 2)))"
   ]
  },
  {
   "cell_type": "markdown",
   "metadata": {},
   "source": [
    "we can also explore the explained variance regession score using:"
   ]
  },
  {
   "cell_type": "code",
   "execution_count": 18,
   "metadata": {},
   "outputs": [
    {
     "data": {
      "text/plain": [
       "0.8037692804648471"
      ]
     },
     "execution_count": 18,
     "metadata": {},
     "output_type": "execute_result"
    }
   ],
   "source": [
    "reg2.score(test_x, res_x)"
   ]
  },
  {
   "cell_type": "markdown",
   "metadata": {},
   "source": [
    "## Polynomial regression"
   ]
  },
  {
   "cell_type": "markdown",
   "metadata": {},
   "source": [
    "Instead of passing just a command we are creating a new columns inside the matrix to pass at the model that containis the elements squared!"
   ]
  },
  {
   "cell_type": "code",
   "execution_count": 19,
   "metadata": {},
   "outputs": [],
   "source": [
    "train_x = np.asanyarray(train[[\"weight\",\"cylinders\",\"mpg\"]]) \n",
    "train_y = np.asanyarray(train[[\"horsepower\"]])\n",
    "test_x = np.asanyarray(test[[\"weight\",\"cylinders\",\"mpg\"]]) \n",
    "res_x = np.asanyarray(test[[\"horsepower\"]])"
   ]
  },
  {
   "cell_type": "markdown",
   "metadata": {},
   "source": [
    "in this piece of code below we are doing the differences compared to what we did before:"
   ]
  },
  {
   "cell_type": "code",
   "execution_count": 20,
   "metadata": {},
   "outputs": [
    {
     "data": {
      "text/plain": [
       "array([[1.0000000e+00, 3.5040000e+03, 8.0000000e+00, 1.8000000e+01,\n",
       "        1.2278016e+07, 2.8032000e+04, 6.3072000e+04, 6.4000000e+01,\n",
       "        1.4400000e+02, 3.2400000e+02]])"
      ]
     },
     "execution_count": 20,
     "metadata": {},
     "output_type": "execute_result"
    }
   ],
   "source": [
    "from sklearn.preprocessing import PolynomialFeatures \n",
    "poly = PolynomialFeatures(degree=2)\n",
    "poly_x = poly.fit_transform(train_x)\n",
    "poly_x[0:1]"
   ]
  },
  {
   "cell_type": "code",
   "execution_count": 21,
   "metadata": {},
   "outputs": [
    {
     "name": "stdout",
     "output_type": "stream",
     "text": [
      "[[ 0.00000000e+00  2.97297284e-02 -2.41168193e+01  1.83697357e+00\n",
      "   5.86442432e-07 -1.77201348e-03 -3.13834472e-04  3.72030822e+00\n",
      "  -3.85054953e-01 -6.47805344e-03]]\n"
     ]
    }
   ],
   "source": [
    "reg3 = linear_model.LinearRegression()\n",
    "fitted_reg3 = reg3.fit(poly_x, train_y)\n",
    "print(fitted_reg3.coef_)"
   ]
  },
  {
   "cell_type": "markdown",
   "metadata": {},
   "source": [
    "## p-values and summary"
   ]
  },
  {
   "cell_type": "markdown",
   "metadata": {},
   "source": [
    "To see the detail of our regression we have to import a different model and perform this basic operation:"
   ]
  },
  {
   "cell_type": "code",
   "execution_count": 22,
   "metadata": {},
   "outputs": [
    {
     "data": {
      "text/html": [
       "<table class=\"simpletable\">\n",
       "<tr>\n",
       "        <td>Model:</td>               <td>OLS</td>         <td>Adj. R-squared:</td>     <td>0.810</td>  \n",
       "</tr>\n",
       "<tr>\n",
       "  <td>Dependent Variable:</td>         <td>y</td>               <td>AIC:</td>         <td>2712.9446</td>\n",
       "</tr>\n",
       "<tr>\n",
       "         <td>Date:</td>        <td>2021-03-16 10:11</td>        <td>BIC:</td>         <td>2750.5651</td>\n",
       "</tr>\n",
       "<tr>\n",
       "   <td>No. Observations:</td>         <td>318</td>         <td>Log-Likelihood:</td>    <td>-1346.5</td> \n",
       "</tr>\n",
       "<tr>\n",
       "       <td>Df Model:</td>              <td>9</td>           <td>F-statistic:</td>       <td>150.7</td>  \n",
       "</tr>\n",
       "<tr>\n",
       "     <td>Df Residuals:</td>           <td>308</td>       <td>Prob (F-statistic):</td> <td>3.00e-107</td>\n",
       "</tr>\n",
       "<tr>\n",
       "      <td>R-squared:</td>            <td>0.815</td>            <td>Scale:</td>         <td>287.85</td>  \n",
       "</tr>\n",
       "</table>\n",
       "<table class=\"simpletable\">\n",
       "<tr>\n",
       "    <td></td>      <th>Coef.</th>  <th>Std.Err.</th>    <th>t</th>     <th>P>|t|</th>  <th>[0.025</th>    <th>0.975]</th> \n",
       "</tr>\n",
       "<tr>\n",
       "  <th>const</th>  <td>77.4736</td>  <td>92.8004</td> <td>0.8348</td>  <td>0.4045</td> <td>-105.1294</td> <td>260.0766</td>\n",
       "</tr>\n",
       "<tr>\n",
       "  <th>x1</th>     <td>0.0297</td>   <td>0.0437</td>  <td>0.6803</td>  <td>0.4968</td>  <td>-0.0563</td>   <td>0.1157</td> \n",
       "</tr>\n",
       "<tr>\n",
       "  <th>x2</th>    <td>-24.1168</td>  <td>15.6528</td> <td>-1.5407</td> <td>0.1244</td> <td>-54.9168</td>   <td>6.6832</td> \n",
       "</tr>\n",
       "<tr>\n",
       "  <th>x3</th>     <td>1.8370</td>   <td>3.4573</td>  <td>0.5313</td>  <td>0.5956</td>  <td>-4.9659</td>   <td>8.6399</td> \n",
       "</tr>\n",
       "<tr>\n",
       "  <th>x4</th>     <td>0.0000</td>   <td>0.0000</td>  <td>0.0935</td>  <td>0.9255</td>  <td>-0.0000</td>   <td>0.0000</td> \n",
       "</tr>\n",
       "<tr>\n",
       "  <th>x5</th>     <td>-0.0018</td>  <td>0.0048</td>  <td>-0.3710</td> <td>0.7109</td>  <td>-0.0112</td>   <td>0.0076</td> \n",
       "</tr>\n",
       "<tr>\n",
       "  <th>x6</th>     <td>-0.0003</td>  <td>0.0009</td>  <td>-0.3569</td> <td>0.7214</td>  <td>-0.0020</td>   <td>0.0014</td> \n",
       "</tr>\n",
       "<tr>\n",
       "  <th>x7</th>     <td>3.7203</td>   <td>1.2946</td>  <td>2.8736</td>  <td>0.0043</td>  <td>1.1728</td>    <td>6.2678</td> \n",
       "</tr>\n",
       "<tr>\n",
       "  <th>x8</th>     <td>-0.3851</td>  <td>0.3349</td>  <td>-1.1498</td> <td>0.2511</td>  <td>-1.0440</td>   <td>0.2739</td> \n",
       "</tr>\n",
       "<tr>\n",
       "  <th>x9</th>     <td>-0.0065</td>  <td>0.0341</td>  <td>-0.1900</td> <td>0.8494</td>  <td>-0.0736</td>   <td>0.0606</td> \n",
       "</tr>\n",
       "</table>\n",
       "<table class=\"simpletable\">\n",
       "<tr>\n",
       "     <td>Omnibus:</td>    <td>88.116</td>  <td>Durbin-Watson:</td>      <td>1.320</td>  \n",
       "</tr>\n",
       "<tr>\n",
       "  <td>Prob(Omnibus):</td>  <td>0.000</td> <td>Jarque-Bera (JB):</td>   <td>268.937</td> \n",
       "</tr>\n",
       "<tr>\n",
       "       <td>Skew:</td>      <td>1.231</td>     <td>Prob(JB):</td>        <td>0.000</td>  \n",
       "</tr>\n",
       "<tr>\n",
       "     <td>Kurtosis:</td>    <td>6.774</td>  <td>Condition No.:</td>   <td>1085390501</td>\n",
       "</tr>\n",
       "</table>"
      ],
      "text/plain": [
       "<class 'statsmodels.iolib.summary2.Summary'>\n",
       "\"\"\"\n",
       "                 Results: Ordinary least squares\n",
       "==================================================================\n",
       "Model:              OLS              Adj. R-squared:     0.810    \n",
       "Dependent Variable: y                AIC:                2712.9446\n",
       "Date:               2021-03-16 10:11 BIC:                2750.5651\n",
       "No. Observations:   318              Log-Likelihood:     -1346.5  \n",
       "Df Model:           9                F-statistic:        150.7    \n",
       "Df Residuals:       308              Prob (F-statistic): 3.00e-107\n",
       "R-squared:          0.815            Scale:              287.85   \n",
       "-------------------------------------------------------------------\n",
       "            Coef.    Std.Err.     t     P>|t|     [0.025    0.975] \n",
       "-------------------------------------------------------------------\n",
       "const       77.4736   92.8004   0.8348  0.4045  -105.1294  260.0766\n",
       "x1           0.0297    0.0437   0.6803  0.4968    -0.0563    0.1157\n",
       "x2         -24.1168   15.6528  -1.5407  0.1244   -54.9168    6.6832\n",
       "x3           1.8370    3.4573   0.5313  0.5956    -4.9659    8.6399\n",
       "x4           0.0000    0.0000   0.0935  0.9255    -0.0000    0.0000\n",
       "x5          -0.0018    0.0048  -0.3710  0.7109    -0.0112    0.0076\n",
       "x6          -0.0003    0.0009  -0.3569  0.7214    -0.0020    0.0014\n",
       "x7           3.7203    1.2946   2.8736  0.0043     1.1728    6.2678\n",
       "x8          -0.3851    0.3349  -1.1498  0.2511    -1.0440    0.2739\n",
       "x9          -0.0065    0.0341  -0.1900  0.8494    -0.0736    0.0606\n",
       "------------------------------------------------------------------\n",
       "Omnibus:             88.116      Durbin-Watson:         1.320     \n",
       "Prob(Omnibus):       0.000       Jarque-Bera (JB):      268.937   \n",
       "Skew:                1.231       Prob(JB):              0.000     \n",
       "Kurtosis:            6.774       Condition No.:         1085390501\n",
       "==================================================================\n",
       "* The condition number is large (1e+09). This might indicate\n",
       "strong multicollinearity or other numerical problems.\n",
       "\"\"\""
      ]
     },
     "execution_count": 22,
     "metadata": {},
     "output_type": "execute_result"
    }
   ],
   "source": [
    "import statsmodels.api as sm\n",
    "mod = sm.OLS(train_y,poly_x)\n",
    "fii = mod.fit()\n",
    "fii.summary2()"
   ]
  },
  {
   "cell_type": "code",
   "execution_count": null,
   "metadata": {},
   "outputs": [],
   "source": []
  }
 ],
 "metadata": {
  "kernelspec": {
   "display_name": "Python 3",
   "language": "python",
   "name": "python3"
  },
  "language_info": {
   "codemirror_mode": {
    "name": "ipython",
    "version": 3
   },
   "file_extension": ".py",
   "mimetype": "text/x-python",
   "name": "python",
   "nbconvert_exporter": "python",
   "pygments_lexer": "ipython3",
   "version": "3.8.8"
  },
  "toc": {
   "base_numbering": 1,
   "nav_menu": {},
   "number_sections": true,
   "sideBar": true,
   "skip_h1_title": false,
   "title_cell": "Table of Contents",
   "title_sidebar": "Contents",
   "toc_cell": false,
   "toc_position": {},
   "toc_section_display": true,
   "toc_window_display": false
  }
 },
 "nbformat": 4,
 "nbformat_minor": 4
}
