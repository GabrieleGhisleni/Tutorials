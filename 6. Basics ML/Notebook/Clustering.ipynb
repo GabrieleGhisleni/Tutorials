{
 "cells": [
  {
   "cell_type": "markdown",
   "metadata": {},
   "source": [
    "# Clustering"
   ]
  },
  {
   "cell_type": "markdown",
   "metadata": {},
   "source": [
    "clustering for segmention, so the partition of the dataset into group that have similar features. a cluster is a group of data point that are similar into the data of the same group and dissimilar from the others. comparing to classification clustering is different because we are not predicting some categorical variable but we are dividing our dataframe in different groups. \n",
    "\n",
    "the application of clustering are in marketing to identify buying patterns of customers and reccominding content, in baking is used to detected fraud decetion and idenity cluster of consumer. In publication media, clustering is used to auto categorize news based on his content or to tag news, then cluster it so as to recommend similar news articles to readers. In medicine, it can be used to characterize patient behavior, based on their similar characteristics. So as to identify successful medical therapies for different illnesses or in biology, clustering is used to group genes with similar expression patterns or to cluster genetic markers to identify family ties. "
   ]
  },
  {
   "cell_type": "markdown",
   "metadata": {},
   "source": [
    "## Partitioned-Base clustering, K-Means"
   ]
  },
  {
   "cell_type": "markdown",
   "metadata": {},
   "source": [
    "K-Means is an unsupervised algorithm, this partitioned base clustering divides the data into non-overlapping subsets. the difficoult is to build similarity and dissimilary. the k-means try to minized the intra-cluster distances and maximize the inter-cluster distances. to calculate the distances between point we can use the euclidiean distance in n-dimensional space, is useful to standardize our dataframe. \n",
    "\n",
    "the meain feature is that k-means take randomly k point into the dataframe, this datapoint are called centroids. after the inizialization we calculate the distance of each data point from the centroid point and we produce the distance matrix (distance between each point an all the class). to optimize this model we have to reduce the sum of square distance (error).\n",
    "\n",
    "the centroids change after each operation, it become the means of the old centroids and the new observation that are assign to that particular class. then we calcualte again the distance matrix and this process continue untill the centroid does not move animore. so the algortihm must congerve (but there is the possibility that is a local optimum). \n",
    "\n",
    "to sum up we randomly placing k centroinds and the calculate the distance of each point from each centroid (as euclidean norm) then we assign each data point to its closest centroid, creating a cluster and then we recalculate the position of the k cenotrids based on the mean of cluster and we repeat this untill the centroids do not move anymore.\n",
    "\n",
    "since k-means is unsupervised calculate the accuracy is not easy. we can use an internal approach calculating the distances between the data inside each cluster. also the choose of k is a diffucult, we usually perform multiple k-means analysis and we check how it perform (we choiche the elbow point). k-means work properyli in larges database, it produces a sphere-like clusters and needs a number of cluster k (hyperparameter)."
   ]
  },
  {
   "cell_type": "code",
   "execution_count": 50,
   "metadata": {},
   "outputs": [
    {
     "data": {
      "text/plain": [
       "<matplotlib.collections.PathCollection at 0x201f5ff2310>"
      ]
     },
     "execution_count": 50,
     "metadata": {},
     "output_type": "execute_result"
    },
    {
     "data": {
      "image/png": "[encoded data removed]",
      "text/plain": [
       "<Figure size 432x288 with 1 Axes>"
      ]
     },
     "metadata": {
      "needs_background": "light"
     },
     "output_type": "display_data"
    }
   ],
   "source": [
    "import matplotlib.pyplot as plt\n",
    "from sklearn.datasets.samples_generator import make_blobs # We will use a random generated dataset!\n",
    "x, y = make_blobs(n_samples=5000, centers=[[4,4], [-2, -1], [2, -3], [1, 1]], cluster_std=0.4) # y è la label\n",
    "plt.scatter(x[:, 0], x[:, 1], marker='.')"
   ]
  },
  {
   "cell_type": "code",
   "execution_count": 36,
   "metadata": {},
   "outputs": [
    {
     "data": {
      "text/plain": [
       "KMeans(n_clusters=4)"
      ]
     },
     "execution_count": 36,
     "metadata": {},
     "output_type": "execute_result"
    }
   ],
   "source": [
    "from sklearn.cluster import KMeans\n",
    "k_mean = KMeans(init = \"k-means++\", n_clusters=4) #k-means++: Selects initial cluster centers for k-mean clustering in a smart way to speed up convergence.\n",
    "k_mean.fit(x) "
   ]
  },
  {
   "cell_type": "code",
   "execution_count": 45,
   "metadata": {},
   "outputs": [
    {
     "data": {
      "text/plain": [
       "array([1, 1, 3, ..., 0, 2, 1])"
      ]
     },
     "execution_count": 45,
     "metadata": {},
     "output_type": "execute_result"
    }
   ],
   "source": [
    "# to see what are the prediction we must get them using lables_\n",
    "k_mean.labels_"
   ]
  }
 ],
 "metadata": {
  "kernelspec": {
   "display_name": "Python 3",
   "language": "python",
   "name": "python3"
  },
  "language_info": {
   "codemirror_mode": {
    "name": "ipython",
    "version": 3
   },
   "file_extension": ".py",
   "mimetype": "text/x-python",
   "name": "python",
   "nbconvert_exporter": "python",
   "pygments_lexer": "ipython3",
   "version": "3.8.8"
  },
  "toc": {
   "base_numbering": 1,
   "nav_menu": {},
   "number_sections": true,
   "sideBar": true,
   "skip_h1_title": false,
   "title_cell": "Table of Contents",
   "title_sidebar": "Contents",
   "toc_cell": false,
   "toc_position": {},
   "toc_section_display": true,
   "toc_window_display": false
  }
 },
 "nbformat": 4,
 "nbformat_minor": 4
}
