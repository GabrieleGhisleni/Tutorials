{
 "cells": [
  {
   "cell_type": "markdown",
   "metadata": {},
   "source": [
    "# Requests"
   ]
  },
  {
   "cell_type": "markdown",
   "metadata": {},
   "source": [
    "## Basic \"GET\""
   ]
  },
  {
   "cell_type": "code",
   "execution_count": 1,
   "metadata": {},
   "outputs": [
    {
     "name": "stdout",
     "output_type": "stream",
     "text": [
      "<Response [200]>\n"
     ]
    }
   ],
   "source": [
    "import requests\n",
    "r = requests.get(\"https://xkcd.com/353/\")\n",
    "print(r)"
   ]
  },
  {
   "cell_type": "markdown",
   "metadata": {},
   "source": [
    "Printining direcly the object return the status of the request. in this case 2** means that the request is done correctly."
   ]
  },
  {
   "cell_type": "code",
   "execution_count": 2,
   "metadata": {},
   "outputs": [
    {
     "name": "stdout",
     "output_type": "stream",
     "text": [
      "<!DOCTYPE html>\n",
      "<html>\n",
      "<head>\n",
      "<link rel=\"stylesheet\" type=\"text/css\" href=\"/s/7d94e0.css\" title=\"Default\"/>\n",
      "<title>xkcd: Python</title>\n",
      "<meta http-equiv=\"X-UA-Compatible\" content=\"IE=edge\"/>\n",
      "<link rel\n"
     ]
    }
   ],
   "source": [
    "print(r.text[0:200])"
   ]
  },
  {
   "cell_type": "markdown",
   "metadata": {},
   "source": [
    "To parse the HTML is necessary use a HTML parser as BeatifoulSoup!\n",
    "We also see that in the page there was an image. if we want to direcly use that image we can use the attribute *content* instead using text! and the result is how the image is encoded!"
   ]
  },
  {
   "cell_type": "code",
   "execution_count": 3,
   "metadata": {},
   "outputs": [
    {
     "data": {
      "text/plain": [
       "b'\\x89PNG\\r\\n\\x1a\\n\\x00\\x00\\x00\\rIHDR\\x00\\x00\\x02\\x06\\x00\\x00\\x02L\\x08\\x00\\x00\\x00\\x00\\xa4\\x971v\\x00\\x00\\x00\\x04gAMA\\x00\\x00\\xb1\\x8e|\\xfbQ\\x93\\x00\\x00\\x00 cHRM\\x00\\x00z%\\x00\\x00\\x80\\x83\\x00\\x00\\xf9\\xff\\x00\\x00\\x80\\xe9\\x00\\x00u0\\x00\\x00\\xea`\\x00\\x00:\\x98\\x00\\x00\\x17o\\x92_\\xc5F\\x00\\x00\\x00\\tpHYs\\x00\\x00\\x0b\\x13\\x00\\x00\\x0b\\x13\\x01\\x00\\x9a\\x9c\\x18\\x00\\x01bIIDATx\\xda\\xdc\\xbde@U]\\xb7\\xfe\\xbd\\x10\\xc5\\xa0\\xb1\\x03\\xb1\\xb1\\x03;\\xb1;\\xb1\\xbb\\xbb\\xbb\\xbb\\xbb\\xbb\\xbbE\\x051P\\x04E\\x01\\xa5K\\xba\\xbbkw\\xfc\\xde\\x0f\\x1b\\x15\\x15\\xe3~n\\xcf9\\xcf\\xfb__\\xd8{\\xaf\\xc9\\x8a9\\xc7\\x1cq\\x8d\\x12\\x84\"\\xda\\xda\\xdaZBq#'"
      ]
     },
     "execution_count": 3,
     "metadata": {},
     "output_type": "execute_result"
    }
   ],
   "source": [
    "r = requests.get(\"https://imgs.xkcd.com/comics/python.png\")\n",
    "r.content[0:200]"
   ]
  },
  {
   "cell_type": "markdown",
   "metadata": {},
   "source": [
    "To see how this piece of code could be use:"
   ]
  },
  {
   "cell_type": "code",
   "execution_count": 4,
   "metadata": {},
   "outputs": [],
   "source": [
    "with open(\"comic.png\", \"wb\") as f: #whitebytes\n",
    "    f.write(r.content)"
   ]
  },
  {
   "cell_type": "markdown",
   "metadata": {},
   "source": [
    "To check directly the status code there is thea attribute of the object:"
   ]
  },
  {
   "cell_type": "code",
   "execution_count": 5,
   "metadata": {},
   "outputs": [
    {
     "name": "stdout",
     "output_type": "stream",
     "text": [
      "200\n",
      "True\n"
     ]
    }
   ],
   "source": [
    "print(r.status_code)\n",
    "print(r.ok) # if works return True"
   ]
  },
  {
   "cell_type": "markdown",
   "metadata": {},
   "source": [
    "- 1xx informational response – the request was received, continuing process\n",
    "- 2xx successful – the request was successfully received, understood, and accepted\n",
    "- 3xx redirection – further action needs to be taken in order to complete the request\n",
    "- 4xx client error – the request contains bad syntax or cannot be fulfilled\n",
    "- 5xx server error – the server failed to fulfil an apparently valid request"
   ]
  },
  {
   "cell_type": "markdown",
   "metadata": {},
   "source": [
    "If we want more information on the file we can use headers:"
   ]
  },
  {
   "cell_type": "code",
   "execution_count": 6,
   "metadata": {},
   "outputs": [
    {
     "data": {
      "text/plain": [
       "{'Connection': 'keep-alive', 'Content-Length': '90835', 'Server': 'nginx', 'Content-Type': 'image/png', 'Last-Modified': 'Mon, 01 Feb 2010 13:07:49 GMT', 'ETag': '\"4b66d225-162d3\"', 'Expires': 'Tue, 30 Mar 2021 09:52:49 GMT', 'Cache-Control': 'max-age=300', 'Accept-Ranges': 'bytes', 'Date': 'Tue, 30 Mar 2021 10:59:44 GMT', 'Via': '1.1 varnish', 'Age': '55', 'X-Served-By': 'cache-mxp6983-MXP', 'X-Cache': 'HIT', 'X-Cache-Hits': '1', 'X-Timer': 'S1617101984.485106,VS0,VE1'}"
      ]
     },
     "execution_count": 6,
     "metadata": {},
     "output_type": "execute_result"
    }
   ],
   "source": [
    "r.headers"
   ]
  },
  {
   "cell_type": "markdown",
   "metadata": {},
   "source": [
    "We also perform more sofisticate request, we will use this website that allow to try if we are performing right request:\n",
    "https://httpbin.org/. if we want more parameter as we do in Postaman we can create some dictionary and pass those as argument:"
   ]
  },
  {
   "cell_type": "code",
   "execution_count": 7,
   "metadata": {},
   "outputs": [
    {
     "name": "stdout",
     "output_type": "stream",
     "text": [
      "{\n",
      "  \"args\": {\n",
      "    \"count\": \"25\", \n",
      "    \"page\": \"2\"\n",
      "  }, \n",
      "  \"headers\": {\n",
      "    \"Accept\": \"*/*\", \n",
      "    \"Accept-Encoding\": \"gzip, deflate\", \n",
      "    \"Host\": \"httpbin.org\", \n",
      "    \"User-Agent\": \"python-requests/2.24.0\", \n",
      "    \"X-Amzn-Trace-Id\": \"Root=1-606304a1-08231c6b4397fbaa792d48f2\"\n",
      "  }, \n",
      "  \"origin\": \"93.34.237.187\", \n",
      "  \"url\": \"https://httpbin.org/get?page=2&count=25\"\n",
      "}\n",
      "\n",
      "https://httpbin.org/get?page=2&count=25\n"
     ]
    }
   ],
   "source": [
    "payload ={\"page\":2, \"count\":25}\n",
    "# our request is made on JSON and the dictionary above allows to specify condition!\n",
    "r = requests.get(\"https://httpbin.org/get\", params=payload)\n",
    "print(r.text)\n",
    "print(r.url) # to see the actual form of the get after added the parameters!"
   ]
  },
  {
   "cell_type": "markdown",
   "metadata": {},
   "source": [
    "## Basic Post"
   ]
  },
  {
   "cell_type": "markdown",
   "metadata": {},
   "source": [
    "If we want to post data we just use the command post instead get."
   ]
  },
  {
   "cell_type": "code",
   "execution_count": 8,
   "metadata": {},
   "outputs": [
    {
     "name": "stdout",
     "output_type": "stream",
     "text": [
      "{'args': {}, 'data': '', 'files': {}, 'form': {'password': '21312', 'username': 'gg'}, 'headers': {'Accept': '*/*', 'Accept-Encoding': 'gzip, deflate', 'Content-Length': '26', 'Content-Type': 'application/x-www-form-urlencoded', 'Host': 'httpbin.org', 'User-Agent': 'python-requests/2.24.0', 'X-Amzn-Trace-Id': 'Root=1-606304a1-14f4b36f370e1a905da3f114'}, 'json': None, 'origin': '93.34.237.187', 'url': 'https://httpbin.org/post'}\n"
     ]
    }
   ],
   "source": [
    "payload ={\"username\":\"gg\", \"password\": 21312}\n",
    "# our request is made on JSON and the dictionary above allows to specify condition!\n",
    "r = requests.post(\"https://httpbin.org/post\", data=payload)\n",
    "print(r.json()) # it create directly a python dictionary!"
   ]
  },
  {
   "cell_type": "markdown",
   "metadata": {},
   "source": [
    "## Post with AUTH and Credential!"
   ]
  },
  {
   "cell_type": "code",
   "execution_count": 9,
   "metadata": {},
   "outputs": [],
   "source": [
    "payload= {}\n",
    "r = requests.get(\"https://httpbin.org/basic-auth/GG/test\")"
   ]
  },
  {
   "cell_type": "code",
   "execution_count": 10,
   "metadata": {},
   "outputs": [
    {
     "name": "stdout",
     "output_type": "stream",
     "text": [
      "401\n",
      "False\n"
     ]
    }
   ],
   "source": [
    "print(r.status_code) # \n",
    "print(r.ok) # i have to insert the paswwrod to access that website"
   ]
  },
  {
   "cell_type": "markdown",
   "metadata": {},
   "source": [
    "in this case the user is GG and the psw test, specifiying this two parameters we can access that page!\n",
    "- the argument is **auth** = and it wants a *tuple*!"
   ]
  },
  {
   "cell_type": "code",
   "execution_count": 11,
   "metadata": {},
   "outputs": [
    {
     "name": "stdout",
     "output_type": "stream",
     "text": [
      "{\n",
      "  \"authenticated\": true, \n",
      "  \"user\": \"GG\"\n",
      "}\n",
      "\n",
      "True\n"
     ]
    }
   ],
   "source": [
    "r = requests.get(\"https://httpbin.org/basic-auth/GG/test\", auth=(\"GG\",\"test\"))\n",
    "print(r.text)\n",
    "print(r.ok)"
   ]
  },
  {
   "cell_type": "markdown",
   "metadata": {},
   "source": [
    "## Timeout"
   ]
  },
  {
   "cell_type": "markdown",
   "metadata": {},
   "source": [
    "We can set a timeline, to request periodicaly from the website. so we work with dynamic data!"
   ]
  },
  {
   "cell_type": "code",
   "execution_count": 12,
   "metadata": {},
   "outputs": [],
   "source": [
    "r = requests.get(\"https://httpbin.org/delay/2\", timeout=3)"
   ]
  },
  {
   "cell_type": "markdown",
   "metadata": {},
   "source": [
    "# BeatifulSoup"
   ]
  },
  {
   "cell_type": "markdown",
   "metadata": {},
   "source": [
    "We will extract the title, the summary and the link from this website:\n",
    "- https://coreyms.com/\n",
    "then we will create a csv of the information contained. \n",
    "That is the site of the author of the course that i saw"
   ]
  },
  {
   "cell_type": "code",
   "execution_count": 13,
   "metadata": {},
   "outputs": [],
   "source": [
    "from bs4 import BeautifulSoup\n",
    "import requests\n",
    "import lxml"
   ]
  },
  {
   "cell_type": "code",
   "execution_count": 14,
   "metadata": {},
   "outputs": [],
   "source": [
    "source = requests.get(\"https://coreyms.com\").text # loading the page directly as text\n",
    "soup = BeautifulSoup(source, \"lxml\")"
   ]
  },
  {
   "cell_type": "markdown",
   "metadata": {},
   "source": [
    "Let's see how it look like:"
   ]
  },
  {
   "cell_type": "code",
   "execution_count": 15,
   "metadata": {},
   "outputs": [
    {
     "name": "stdout",
     "output_type": "stream",
     "text": [
      "<!DOCTYPE html>\n",
      "<html lang=\"en-US\">\n",
      " <head>\n",
      "  <meta charset=\"utf-8\"/>\n",
      "  <meta content=\"width=device-\n"
     ]
    }
   ],
   "source": [
    "print(soup.prettify()[0:100])"
   ]
  },
  {
   "cell_type": "code",
   "execution_count": 16,
   "metadata": {
    "scrolled": true
   },
   "outputs": [
    {
     "name": "stdout",
     "output_type": "stream",
     "text": [
      "<article class=\"post-1670 post type-post status-publish format-standard has-post-thumbnail category-development category-python tag-gzip tag-shutil tag-zip tag-zipfile entry\" itemscope=\"\" itemtype=\"https://schema.org/CreativeWork\">\n",
      " <header class=\"entry-header\">\n",
      "  <h2 class=\"entry-title\" itemprop=\"headline\">\n",
      "   <a class=\"entry-title-link\" href=\"https://coreyms.com/development/python/python-tutorial-zip-files-creating-and-extracting-zip-archives\" rel=\"bookmark\">\n",
      "    Python Tutorial: Zip Files – C\n"
     ]
    }
   ],
   "source": [
    "article = soup.find(\"article\")\n",
    "print(article.prettify()[0:500])"
   ]
  },
  {
   "cell_type": "markdown",
   "metadata": {},
   "source": [
    "HTML is like a hierarchical costruction. now that i'm looking for the tile i can see that is inside h2 then inside a! and since i want only the text i must specify it."
   ]
  },
  {
   "cell_type": "code",
   "execution_count": 17,
   "metadata": {},
   "outputs": [
    {
     "name": "stdout",
     "output_type": "stream",
     "text": [
      "Python Tutorial: Zip Files – Creating and Extracting Zip Archives\n"
     ]
    }
   ],
   "source": [
    "headline = article.h2.a.text \n",
    "headline_2 = article.a.text # the same\n",
    "print(headline_2)"
   ]
  },
  {
   "cell_type": "markdown",
   "metadata": {},
   "source": [
    "to find the class you must go to the web page and right buttom --> ispeziona:"
   ]
  },
  {
   "cell_type": "code",
   "execution_count": 18,
   "metadata": {},
   "outputs": [],
   "source": [
    "summary= article.find(\"div\", class_=\"entry-content\") # in this case the summary is inside the class div!\n",
    "# we also specify where is so class_ = whatwe were lookingfor"
   ]
  },
  {
   "cell_type": "code",
   "execution_count": 19,
   "metadata": {},
   "outputs": [
    {
     "data": {
      "text/plain": [
       "'In this video, we will be learning how to create and extract zip archives. We will start by using the zipfile module, and then we will see how to do this using the shutil module. We will learn how to do this with single files and directories, as well as learning how to use gzip as well. Let’s get started…'"
      ]
     },
     "execution_count": 19,
     "metadata": {},
     "output_type": "execute_result"
    }
   ],
   "source": [
    "summary.p.text"
   ]
  },
  {
   "cell_type": "code",
   "execution_count": 20,
   "metadata": {},
   "outputs": [
    {
     "data": {
      "text/plain": [
       "'https://www.youtube.com/embed/z0gguhEmWiY?version=3&rel=1&showsearch=0&showinfo=1&iv_load_policy=1&fs=1&hl=en-US&autohide=2&wmode=transparent'"
      ]
     },
     "execution_count": 20,
     "metadata": {},
     "output_type": "execute_result"
    }
   ],
   "source": [
    "video = article.find(\"iframe\", class_=\"youtube-player\")\n",
    "# we can access directly as is a dictionary! \n",
    "video[\"src\"]# since is video youtube we only interested in the unique identifier: z0gguhEmWiY"
   ]
  },
  {
   "cell_type": "code",
   "execution_count": 21,
   "metadata": {},
   "outputs": [],
   "source": [
    "l = video[\"src\"].split(\"/\")\n",
    "unique_youtube_identifier = l[4].split(\"?\")[0]"
   ]
  },
  {
   "cell_type": "code",
   "execution_count": 22,
   "metadata": {
    "scrolled": true
   },
   "outputs": [
    {
     "name": "stdout",
     "output_type": "stream",
     "text": [
      "https://www.youtube.com/watch?v=z0gguhEmWiY\n"
     ]
    }
   ],
   "source": [
    "#the complete link is:\n",
    "lin = \"https://www.youtube.com/watch?v={}\".format(unique_youtube_identifier)\n",
    "print(lin)"
   ]
  },
  {
   "cell_type": "markdown",
   "metadata": {},
   "source": [
    "to solve this we will use a try and expect block:"
   ]
  },
  {
   "cell_type": "code",
   "execution_count": 23,
   "metadata": {},
   "outputs": [
    {
     "name": "stdout",
     "output_type": "stream",
     "text": [
      "Python Tutorial: Zip Files – Creating and Extracting Zip Archives In this video, we will be learning how to create and extract zip archives. We will start by using the zipfile module, and then we will see how to do this using the shutil module. We will learn how to do this with single files and directories, as well as learning how to use gzip as well. Let’s get started… \n",
      " https://www.youtube.com/watch?v=z0gguhEmWiY \n",
      "\n",
      "Python Data Science Tutorial: Analyzing the 2019 Stack Overflow Developer Survey In this Python Programming video, we will be learning how to download and analyze real-world data from the 2019 Stack Overflow Developer Survey. This is terrific practice for anyone getting into the data science field. We will learn different ways to analyze this data and also some best practices. Let’s get started… \n",
      " https://www.youtube.com/watch?v=_P7X8tMplsw \n",
      "\n",
      "Python Multiprocessing Tutorial: Run Code in Parallel Using the Multiprocessing Module In this Python Programming video, we will be learning how to run code in parallel using the multiprocessing module. We will also look at how to process multiple high-resolution images at the same time using a ProcessPoolExecutor from the concurrent.futures module. Let’s get started… \n",
      " https://www.youtube.com/watch?v=fKl2JW_qrso \n",
      "\n",
      "Python Threading Tutorial: Run Code Concurrently Using the Threading Module In this Python Programming video, we will be learning how to run threads concurrently using the threading module. We will also look at how to download multiple high-resolution images online using a ThreadPoolExecutor from the concurrent.futures module. Let’s get started… \n",
      " https://www.youtube.com/watch?v=IEEhzQoKtQU \n",
      "\n",
      "Update (2019-09-03) Hey everyone. I wanted to give you an update on my videos. I will be releasing videos on threading and multiprocessing within the next week. Thanks so much for your patience. I currently have a temporary recording studio setup at my Airbnb that will allow me to record and edit the threading/multiprocessing videos. I am going to be moving into my new house in 10 days and once I have my recording studio setup then you can expect much faster video releases. I really appreciate how patient everyone has been while I go through this move, especially those of you who are contributing monthly through YouTube \n",
      " None \n",
      "\n",
      "Python Quick Tip: The Difference Between “==” and “is” (Equality vs Identity) In this Python Programming Tutorial, we will be learning the difference between using “==” and the “is” keyword when doing comparisons. The difference between these is that “==” checks to see if values are equal, and the “is” keyword checks their identity, which means it’s going to check if the values are identical in terms of being the same object in memory. We’ll learn more in the video. Let’s get started… \n",
      " https://www.youtube.com/watch?v=mO_dS3rXDIs \n",
      "\n",
      "Python Tutorial: Calling External Commands Using the Subprocess Module In this Python Programming Tutorial, we will be learning how to run external commands using the subprocess module from the standard library. We will learn how to run commands, capture the output, handle errors, and also how to pipe output into other commands. Let’s get started… \n",
      " https://www.youtube.com/watch?v=2Fp1N6dof0Y \n",
      "\n",
      "Visual Studio Code (Windows) – Setting up a Python Development Environment and Complete Overview In this Python Programming Tutorial, we will be learning how to set up a Python development environment in VSCode on Windows. VSCode is a very nice free editor for writing Python applications and many developers are now switching over to this editor. In this video, we will learn how to install VSCode, get the Python extension installed, how to change Python interpreters, create virtual environments, format/lint our code, how to use Git within VSCode, how to debug our programs, how unit testing works, and more. We have a lot to cover, so let’s go ahead and get started…\n",
      "VSCode on MacOS – https://youtu.be/06I63_p-2A4\n",
      "Timestamps for topics in this tutorial: Installation – 1:13 Python Extension – 5:48 Switching Interpreters – 10:04 Changing Color Themes – 12:35 VSCode Settings – 16:16 Set Default Python – 21:33 Using Virtual Environments – 25:10 IntelliSense – 29:45 Code Formatting – 32:13 Code Linting – 37:06 Code Runner Extension – 39:42 Git Integration – 47:44 Use Different Terminal – 51:07 Debugging – 58:45 Unit Testing – 1:03:25 Zen Mode – 1:09:55 \n",
      " https://www.youtube.com/watch?v=-nh9rCzPJ20 \n",
      "\n",
      "Visual Studio Code (Mac) – Setting up a Python Development Environment and Complete Overview In this Python Programming Tutorial, we will be learning how to set up a Python development environment in VSCode on MacOS. VSCode is a very nice free editor for writing Python applications and many developers are now switching over to this editor. In this video, we will learn how to install VSCode, get the Python extension installed, how to change Python interpreters, create virtual environments, format/lint our code, how to use Git within VSCode, how to debug our programs, how unit testing works, and more. We have a lot to cover, so let’s go ahead and get started…\n",
      "VSCode on Windows – https://youtu.be/-nh9rCzPJ20\n",
      "Timestamps for topics in this tutorial: Installation – 1:11 Python Extension – 6:21 Switching Interpreters – 10:16 Changing Color Themes – 13:08 VSCode Settings – 17:12 Set Default Python – 22:24 Using Virtual Environments – 25:52 IntelliSense – 30:28 Code Formatting – 33:08 Code Linting – 38:01 Code Runner Extension – 40:45 Git Integration – 49:05 Debugging – 58:15 Unit Testing – 1:02:38 Zen Mode – 1:10:42 \n",
      " https://www.youtube.com/watch?v=06I63_p-2A4 \n",
      "\n",
      "Clarifying the Issues with Mutable Default Arguments In this Python Programming Tutorial, we will be clarifying the issues with mutable default arguments. We discussed this in my last video titled “5 Common Python Mistakes and How to Fix Them”, but I received many comments from people who were still confused. So we will be doing a deeper dive to explain exactly what is going on here. Let’s get started… \n",
      " https://www.youtube.com/watch?v=_JGmemuINww \n",
      "\n"
     ]
    }
   ],
   "source": [
    "articles = soup.find_all(\"article\")\n",
    "for article in articles:\n",
    "    headline = article.h2.a.text \n",
    "    headline_2 = article.a.text # the same\n",
    "    summary= article.find(\"div\", class_=\"entry-content\")\n",
    "    try:\n",
    "        video = article.find(\"iframe\", class_=\"youtube-player\")\n",
    "        l = video[\"src\"].split(\"/\")\n",
    "        unique_youtube_identifier = l[4].split(\"?\")[0]\n",
    "        lin = \"https://www.youtube.com/watch?v={}\".format(unique_youtube_identifier)\n",
    "    except TypeError:\n",
    "        lin = None\n",
    "    print(headline, summary.text.strip(), \"\\n\", lin,\"\\n\")"
   ]
  }
 ],
 "metadata": {
  "kernelspec": {
   "display_name": "Python 3",
   "language": "python",
   "name": "python3"
  },
  "language_info": {
   "codemirror_mode": {
    "name": "ipython",
    "version": 3
   },
   "file_extension": ".py",
   "mimetype": "text/x-python",
   "name": "python",
   "nbconvert_exporter": "python",
   "pygments_lexer": "ipython3",
   "version": "3.8.8"
  },
  "toc": {
   "base_numbering": 1,
   "nav_menu": {},
   "number_sections": true,
   "sideBar": true,
   "skip_h1_title": false,
   "title_cell": "Table of Contents",
   "title_sidebar": "Contents",
   "toc_cell": false,
   "toc_position": {},
   "toc_section_display": true,
   "toc_window_display": false
  }
 },
 "nbformat": 4,
 "nbformat_minor": 4
}
