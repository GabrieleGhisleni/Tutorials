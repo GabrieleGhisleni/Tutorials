{
 "cells": [
  {
   "cell_type": "markdown",
   "metadata": {},
   "source": [
    "# Basics\n",
    "## Importing and having an overview on the dataset\n",
    "Let's start looking at the basics command of pandas to import our dataset, we will use a csv.file. it is also possible to import different format of the data using similar command as pd.read_json, pd.read_excel, pd.read_html, pd.read_sql and many different (https://pandas.pydata.org/docs/user_guide/io.html)"
   ]
  },
  {
   "cell_type": "code",
   "execution_count": 1,
   "metadata": {},
   "outputs": [],
   "source": [
    "import pandas as pd\n",
    "df = pd.read_csv(\"abalone_1.csv\", \"r\", encoding=\"utf-8\", delimiter=\",\")"
   ]
  },
  {
   "cell_type": "markdown",
   "metadata": {},
   "source": [
    "To have a quick look at the data, to understand how they are organized:\n",
    "- df.info() to have access at fewer data as only the type thare are commands as *df.dtypes, df.columns, df.shape. pay attentation, they have no round parenteshis!"
   ]
  },
  {
   "cell_type": "code",
   "execution_count": 2,
   "metadata": {},
   "outputs": [
    {
     "name": "stdout",
     "output_type": "stream",
     "text": [
      "<class 'pandas.core.frame.DataFrame'>\n",
      "RangeIndex: 4176 entries, 0 to 4175\n",
      "Data columns (total 9 columns):\n",
      " #   Column          Non-Null Count  Dtype  \n",
      "---  ------          --------------  -----  \n",
      " 0   Sex             4176 non-null   object \n",
      " 1   Length          4176 non-null   float64\n",
      " 2   Diameter        4168 non-null   float64\n",
      " 3   Height          4176 non-null   float64\n",
      " 4   Whole_weight    4176 non-null   float64\n",
      " 5   Shucked_weight  4176 non-null   float64\n",
      " 6   Viscera_weight  4168 non-null   float64\n",
      " 7   Shell_weight    4176 non-null   float64\n",
      " 8   Rings           4176 non-null   int64  \n",
      "dtypes: float64(7), int64(1), object(1)\n",
      "memory usage: 293.8+ KB\n"
     ]
    }
   ],
   "source": [
    "df.info() "
   ]
  },
  {
   "cell_type": "markdown",
   "metadata": {},
   "source": [
    "To see more statistical information on our dataset is possible to use the implemented function describe () which return a fancy table with all the main statistical property of our df as mean, sd, min, max and also count which count the observation in the dataset (in some are fewer because there are some Na's). is also possible to see this information only about one columns specifing that df[ \" name_of_the_column \" ].describe(), we will see in a second how to get rows and columns."
   ]
  },
  {
   "cell_type": "code",
   "execution_count": 3,
   "metadata": {},
   "outputs": [
    {
     "data": {
      "text/html": [
       "<div>\n",
       "<style scoped>\n",
       "    .dataframe tbody tr th:only-of-type {\n",
       "        vertical-align: middle;\n",
       "    }\n",
       "\n",
       "    .dataframe tbody tr th {\n",
       "        vertical-align: top;\n",
       "    }\n",
       "\n",
       "    .dataframe thead th {\n",
       "        text-align: right;\n",
       "    }\n",
       "</style>\n",
       "<table border=\"1\" class=\"dataframe\">\n",
       "  <thead>\n",
       "    <tr style=\"text-align: right;\">\n",
       "      <th></th>\n",
       "      <th>Length</th>\n",
       "      <th>Diameter</th>\n",
       "      <th>Height</th>\n",
       "      <th>Whole_weight</th>\n",
       "      <th>Shucked_weight</th>\n",
       "      <th>Viscera_weight</th>\n",
       "      <th>Shell_weight</th>\n",
       "      <th>Rings</th>\n",
       "    </tr>\n",
       "  </thead>\n",
       "  <tbody>\n",
       "    <tr>\n",
       "      <th>count</th>\n",
       "      <td>4176.000000</td>\n",
       "      <td>4168.000000</td>\n",
       "      <td>4176.000000</td>\n",
       "      <td>4176.000000</td>\n",
       "      <td>4176.00000</td>\n",
       "      <td>4168.000000</td>\n",
       "      <td>4176.000000</td>\n",
       "      <td>4176.000000</td>\n",
       "    </tr>\n",
       "    <tr>\n",
       "      <th>mean</th>\n",
       "      <td>0.524009</td>\n",
       "      <td>0.407904</td>\n",
       "      <td>0.139527</td>\n",
       "      <td>0.828818</td>\n",
       "      <td>0.35940</td>\n",
       "      <td>0.180480</td>\n",
       "      <td>0.238852</td>\n",
       "      <td>9.932471</td>\n",
       "    </tr>\n",
       "    <tr>\n",
       "      <th>std</th>\n",
       "      <td>0.120103</td>\n",
       "      <td>0.099235</td>\n",
       "      <td>0.041826</td>\n",
       "      <td>0.490424</td>\n",
       "      <td>0.22198</td>\n",
       "      <td>0.109528</td>\n",
       "      <td>0.139213</td>\n",
       "      <td>3.223601</td>\n",
       "    </tr>\n",
       "    <tr>\n",
       "      <th>min</th>\n",
       "      <td>0.075000</td>\n",
       "      <td>0.055000</td>\n",
       "      <td>0.000000</td>\n",
       "      <td>0.002000</td>\n",
       "      <td>0.00100</td>\n",
       "      <td>0.000500</td>\n",
       "      <td>0.001500</td>\n",
       "      <td>1.000000</td>\n",
       "    </tr>\n",
       "    <tr>\n",
       "      <th>25%</th>\n",
       "      <td>0.450000</td>\n",
       "      <td>0.350000</td>\n",
       "      <td>0.115000</td>\n",
       "      <td>0.441500</td>\n",
       "      <td>0.18600</td>\n",
       "      <td>0.093000</td>\n",
       "      <td>0.130000</td>\n",
       "      <td>8.000000</td>\n",
       "    </tr>\n",
       "    <tr>\n",
       "      <th>50%</th>\n",
       "      <td>0.545000</td>\n",
       "      <td>0.425000</td>\n",
       "      <td>0.140000</td>\n",
       "      <td>0.799750</td>\n",
       "      <td>0.33600</td>\n",
       "      <td>0.170750</td>\n",
       "      <td>0.234000</td>\n",
       "      <td>9.000000</td>\n",
       "    </tr>\n",
       "    <tr>\n",
       "      <th>75%</th>\n",
       "      <td>0.615000</td>\n",
       "      <td>0.480000</td>\n",
       "      <td>0.165000</td>\n",
       "      <td>1.153250</td>\n",
       "      <td>0.50200</td>\n",
       "      <td>0.252625</td>\n",
       "      <td>0.329000</td>\n",
       "      <td>11.000000</td>\n",
       "    </tr>\n",
       "    <tr>\n",
       "      <th>max</th>\n",
       "      <td>0.815000</td>\n",
       "      <td>0.650000</td>\n",
       "      <td>1.130000</td>\n",
       "      <td>2.825500</td>\n",
       "      <td>1.48800</td>\n",
       "      <td>0.760000</td>\n",
       "      <td>1.005000</td>\n",
       "      <td>29.000000</td>\n",
       "    </tr>\n",
       "  </tbody>\n",
       "</table>\n",
       "</div>"
      ],
      "text/plain": [
       "            Length     Diameter       Height  Whole_weight  Shucked_weight  \\\n",
       "count  4176.000000  4168.000000  4176.000000   4176.000000      4176.00000   \n",
       "mean      0.524009     0.407904     0.139527      0.828818         0.35940   \n",
       "std       0.120103     0.099235     0.041826      0.490424         0.22198   \n",
       "min       0.075000     0.055000     0.000000      0.002000         0.00100   \n",
       "25%       0.450000     0.350000     0.115000      0.441500         0.18600   \n",
       "50%       0.545000     0.425000     0.140000      0.799750         0.33600   \n",
       "75%       0.615000     0.480000     0.165000      1.153250         0.50200   \n",
       "max       0.815000     0.650000     1.130000      2.825500         1.48800   \n",
       "\n",
       "       Viscera_weight  Shell_weight        Rings  \n",
       "count     4168.000000   4176.000000  4176.000000  \n",
       "mean         0.180480      0.238852     9.932471  \n",
       "std          0.109528      0.139213     3.223601  \n",
       "min          0.000500      0.001500     1.000000  \n",
       "25%          0.093000      0.130000     8.000000  \n",
       "50%          0.170750      0.234000     9.000000  \n",
       "75%          0.252625      0.329000    11.000000  \n",
       "max          0.760000      1.005000    29.000000  "
      ]
     },
     "execution_count": 3,
     "metadata": {},
     "output_type": "execute_result"
    }
   ],
   "source": [
    "df.describe()"
   ]
  },
  {
   "cell_type": "markdown",
   "metadata": {},
   "source": [
    "## Extract rows and columns"
   ]
  },
  {
   "cell_type": "markdown",
   "metadata": {},
   "source": [
    "To access at the data we have different ways, we will see the more usefull as df.loc[] and the direct access to the date: to have a better representation i reduce the df into smaller one whit only 2 observartion using the commando iloc that stay for integer location and specifing only to row from 0:3 and all the column except the last one. important: in this notation pandas is not as vanilla python if i digiti 0:9 it will take all the columns from 0 to 9 included! "
   ]
  },
  {
   "cell_type": "code",
   "execution_count": 4,
   "metadata": {
    "scrolled": true
   },
   "outputs": [],
   "source": [
    "df_short = df.iloc[0:2, 0:8]"
   ]
  },
  {
   "cell_type": "markdown",
   "metadata": {},
   "source": [
    "We can access at our dataframe directly using the square bracket:"
   ]
  },
  {
   "cell_type": "code",
   "execution_count": 5,
   "metadata": {},
   "outputs": [
    {
     "data": {
      "text/plain": [
       "0    0.265\n",
       "Name: Diameter, dtype: float64"
      ]
     },
     "execution_count": 5,
     "metadata": {},
     "output_type": "execute_result"
    }
   ],
   "source": [
    "df_short[\"Diameter\"] # only one column\n",
    "df_short[[\"Diameter\", \"Height\"]] # using a LIST of columns, so return a small df whit only the two column\n",
    "df_short[0:2] # the first two row \n",
    "df_short[\"Diameter\"][0:1] # first row of only diameter"
   ]
  },
  {
   "cell_type": "markdown",
   "metadata": {},
   "source": [
    "It is also possible to access to the data using the df.loc[ ] function wich is more understandable and recomended. it use the SQUARE BRACKET and loc (which stay for location) it is possible to specificy the number of row as integer but also as ARRAY OF BOOLEAN (this is important for further analysis) and select the column specifying the name."
   ]
  },
  {
   "cell_type": "code",
   "execution_count": 6,
   "metadata": {},
   "outputs": [
    {
     "data": {
      "text/html": [
       "<div>\n",
       "<style scoped>\n",
       "    .dataframe tbody tr th:only-of-type {\n",
       "        vertical-align: middle;\n",
       "    }\n",
       "\n",
       "    .dataframe tbody tr th {\n",
       "        vertical-align: top;\n",
       "    }\n",
       "\n",
       "    .dataframe thead th {\n",
       "        text-align: right;\n",
       "    }\n",
       "</style>\n",
       "<table border=\"1\" class=\"dataframe\">\n",
       "  <thead>\n",
       "    <tr style=\"text-align: right;\">\n",
       "      <th></th>\n",
       "      <th>Sex</th>\n",
       "      <th>Length</th>\n",
       "      <th>Diameter</th>\n",
       "    </tr>\n",
       "  </thead>\n",
       "  <tbody>\n",
       "    <tr>\n",
       "      <th>0</th>\n",
       "      <td>M</td>\n",
       "      <td>0.35</td>\n",
       "      <td>0.265</td>\n",
       "    </tr>\n",
       "    <tr>\n",
       "      <th>1</th>\n",
       "      <td>F</td>\n",
       "      <td>0.53</td>\n",
       "      <td>0.420</td>\n",
       "    </tr>\n",
       "  </tbody>\n",
       "</table>\n",
       "</div>"
      ],
      "text/plain": [
       "  Sex  Length  Diameter\n",
       "0   M    0.35     0.265\n",
       "1   F    0.53     0.420"
      ]
     },
     "execution_count": 6,
     "metadata": {},
     "output_type": "execute_result"
    }
   ],
   "source": [
    "df_short.loc[0:2, \"Sex\":\"Diameter\"] # from Sex to Diameter"
   ]
  },
  {
   "cell_type": "code",
   "execution_count": 7,
   "metadata": {},
   "outputs": [
    {
     "data": {
      "text/html": [
       "<div>\n",
       "<style scoped>\n",
       "    .dataframe tbody tr th:only-of-type {\n",
       "        vertical-align: middle;\n",
       "    }\n",
       "\n",
       "    .dataframe tbody tr th {\n",
       "        vertical-align: top;\n",
       "    }\n",
       "\n",
       "    .dataframe thead th {\n",
       "        text-align: right;\n",
       "    }\n",
       "</style>\n",
       "<table border=\"1\" class=\"dataframe\">\n",
       "  <thead>\n",
       "    <tr style=\"text-align: right;\">\n",
       "      <th></th>\n",
       "      <th>Sex</th>\n",
       "      <th>Diameter</th>\n",
       "    </tr>\n",
       "  </thead>\n",
       "  <tbody>\n",
       "    <tr>\n",
       "      <th>0</th>\n",
       "      <td>M</td>\n",
       "      <td>0.265</td>\n",
       "    </tr>\n",
       "    <tr>\n",
       "      <th>1</th>\n",
       "      <td>F</td>\n",
       "      <td>0.420</td>\n",
       "    </tr>\n",
       "  </tbody>\n",
       "</table>\n",
       "</div>"
      ],
      "text/plain": [
       "  Sex  Diameter\n",
       "0   M     0.265\n",
       "1   F     0.420"
      ]
     },
     "execution_count": 7,
     "metadata": {},
     "output_type": "execute_result"
    }
   ],
   "source": [
    "df_short.loc[0:2, [\"Sex\",\"Diameter\"]] # only Sex and Diameter"
   ]
  },
  {
   "cell_type": "markdown",
   "metadata": {},
   "source": [
    "We will see that loc function is very powerful when we deal with condition statement because it is possible to pass an array of boolean and pandas will peak only the rows in which there is the True condition, an example of this:"
   ]
  },
  {
   "cell_type": "code",
   "execution_count": 8,
   "metadata": {},
   "outputs": [
    {
     "data": {
      "text/html": [
       "<div>\n",
       "<style scoped>\n",
       "    .dataframe tbody tr th:only-of-type {\n",
       "        vertical-align: middle;\n",
       "    }\n",
       "\n",
       "    .dataframe tbody tr th {\n",
       "        vertical-align: top;\n",
       "    }\n",
       "\n",
       "    .dataframe thead th {\n",
       "        text-align: right;\n",
       "    }\n",
       "</style>\n",
       "<table border=\"1\" class=\"dataframe\">\n",
       "  <thead>\n",
       "    <tr style=\"text-align: right;\">\n",
       "      <th></th>\n",
       "      <th>Sex</th>\n",
       "      <th>Length</th>\n",
       "      <th>Diameter</th>\n",
       "      <th>Height</th>\n",
       "      <th>Whole_weight</th>\n",
       "      <th>Shucked_weight</th>\n",
       "      <th>Viscera_weight</th>\n",
       "      <th>Shell_weight</th>\n",
       "      <th>Rings</th>\n",
       "    </tr>\n",
       "  </thead>\n",
       "  <tbody>\n",
       "    <tr>\n",
       "      <th>5</th>\n",
       "      <td>F</td>\n",
       "      <td>0.530</td>\n",
       "      <td>0.415</td>\n",
       "      <td>0.150</td>\n",
       "      <td>0.7775</td>\n",
       "      <td>0.2370</td>\n",
       "      <td>0.1415</td>\n",
       "      <td>0.330</td>\n",
       "      <td>20</td>\n",
       "    </tr>\n",
       "    <tr>\n",
       "      <th>6</th>\n",
       "      <td>F</td>\n",
       "      <td>0.545</td>\n",
       "      <td>0.425</td>\n",
       "      <td>0.125</td>\n",
       "      <td>0.7680</td>\n",
       "      <td>0.2940</td>\n",
       "      <td>0.1495</td>\n",
       "      <td>0.260</td>\n",
       "      <td>16</td>\n",
       "    </tr>\n",
       "    <tr>\n",
       "      <th>8</th>\n",
       "      <td>F</td>\n",
       "      <td>0.550</td>\n",
       "      <td>0.440</td>\n",
       "      <td>0.150</td>\n",
       "      <td>0.8945</td>\n",
       "      <td>0.3145</td>\n",
       "      <td>0.1510</td>\n",
       "      <td>0.320</td>\n",
       "      <td>19</td>\n",
       "    </tr>\n",
       "    <tr>\n",
       "      <th>31</th>\n",
       "      <td>M</td>\n",
       "      <td>0.665</td>\n",
       "      <td>0.525</td>\n",
       "      <td>0.165</td>\n",
       "      <td>1.3380</td>\n",
       "      <td>0.5515</td>\n",
       "      <td>0.3575</td>\n",
       "      <td>0.350</td>\n",
       "      <td>18</td>\n",
       "    </tr>\n",
       "    <tr>\n",
       "      <th>32</th>\n",
       "      <td>F</td>\n",
       "      <td>0.680</td>\n",
       "      <td>0.550</td>\n",
       "      <td>0.175</td>\n",
       "      <td>1.7980</td>\n",
       "      <td>0.8150</td>\n",
       "      <td>0.3925</td>\n",
       "      <td>0.455</td>\n",
       "      <td>19</td>\n",
       "    </tr>\n",
       "    <tr>\n",
       "      <th>...</th>\n",
       "      <td>...</td>\n",
       "      <td>...</td>\n",
       "      <td>...</td>\n",
       "      <td>...</td>\n",
       "      <td>...</td>\n",
       "      <td>...</td>\n",
       "      <td>...</td>\n",
       "      <td>...</td>\n",
       "      <td>...</td>\n",
       "    </tr>\n",
       "    <tr>\n",
       "      <th>3928</th>\n",
       "      <td>F</td>\n",
       "      <td>0.650</td>\n",
       "      <td>0.515</td>\n",
       "      <td>0.215</td>\n",
       "      <td>1.4980</td>\n",
       "      <td>0.5640</td>\n",
       "      <td>0.3230</td>\n",
       "      <td>0.425</td>\n",
       "      <td>16</td>\n",
       "    </tr>\n",
       "    <tr>\n",
       "      <th>3929</th>\n",
       "      <td>F</td>\n",
       "      <td>0.670</td>\n",
       "      <td>0.535</td>\n",
       "      <td>0.185</td>\n",
       "      <td>1.5970</td>\n",
       "      <td>0.6275</td>\n",
       "      <td>0.3500</td>\n",
       "      <td>0.470</td>\n",
       "      <td>21</td>\n",
       "    </tr>\n",
       "    <tr>\n",
       "      <th>3930</th>\n",
       "      <td>I</td>\n",
       "      <td>0.550</td>\n",
       "      <td>0.440</td>\n",
       "      <td>0.165</td>\n",
       "      <td>0.8605</td>\n",
       "      <td>0.3120</td>\n",
       "      <td>0.1690</td>\n",
       "      <td>0.300</td>\n",
       "      <td>17</td>\n",
       "    </tr>\n",
       "    <tr>\n",
       "      <th>3943</th>\n",
       "      <td>M</td>\n",
       "      <td>0.550</td>\n",
       "      <td>0.440</td>\n",
       "      <td>0.160</td>\n",
       "      <td>0.9910</td>\n",
       "      <td>0.3480</td>\n",
       "      <td>0.1680</td>\n",
       "      <td>0.375</td>\n",
       "      <td>20</td>\n",
       "    </tr>\n",
       "    <tr>\n",
       "      <th>3946</th>\n",
       "      <td>M</td>\n",
       "      <td>0.475</td>\n",
       "      <td>0.365</td>\n",
       "      <td>0.140</td>\n",
       "      <td>0.6175</td>\n",
       "      <td>0.2020</td>\n",
       "      <td>0.1445</td>\n",
       "      <td>0.190</td>\n",
       "      <td>16</td>\n",
       "    </tr>\n",
       "  </tbody>\n",
       "</table>\n",
       "<p>261 rows × 9 columns</p>\n",
       "</div>"
      ],
      "text/plain": [
       "     Sex  Length  Diameter  Height  Whole_weight  Shucked_weight  \\\n",
       "5      F   0.530     0.415   0.150        0.7775          0.2370   \n",
       "6      F   0.545     0.425   0.125        0.7680          0.2940   \n",
       "8      F   0.550     0.440   0.150        0.8945          0.3145   \n",
       "31     M   0.665     0.525   0.165        1.3380          0.5515   \n",
       "32     F   0.680     0.550   0.175        1.7980          0.8150   \n",
       "...   ..     ...       ...     ...           ...             ...   \n",
       "3928   F   0.650     0.515   0.215        1.4980          0.5640   \n",
       "3929   F   0.670     0.535   0.185        1.5970          0.6275   \n",
       "3930   I   0.550     0.440   0.165        0.8605          0.3120   \n",
       "3943   M   0.550     0.440   0.160        0.9910          0.3480   \n",
       "3946   M   0.475     0.365   0.140        0.6175          0.2020   \n",
       "\n",
       "      Viscera_weight  Shell_weight  Rings  \n",
       "5             0.1415         0.330     20  \n",
       "6             0.1495         0.260     16  \n",
       "8             0.1510         0.320     19  \n",
       "31            0.3575         0.350     18  \n",
       "32            0.3925         0.455     19  \n",
       "...              ...           ...    ...  \n",
       "3928          0.3230         0.425     16  \n",
       "3929          0.3500         0.470     21  \n",
       "3930          0.1690         0.300     17  \n",
       "3943          0.1680         0.375     20  \n",
       "3946          0.1445         0.190     16  \n",
       "\n",
       "[261 rows x 9 columns]"
      ]
     },
     "execution_count": 8,
     "metadata": {},
     "output_type": "execute_result"
    }
   ],
   "source": [
    "df.loc[(df[\"Rings\"]>15)] # as before is possible to specifiy specific colums df.loc[(df[\"Rings\"]>15), \"Viscera_weight\"]"
   ]
  },
  {
   "cell_type": "markdown",
   "metadata": {},
   "source": [
    "## Extaract with condition"
   ]
  },
  {
   "cell_type": "markdown",
   "metadata": {},
   "source": [
    "As anticipated is possible to use boolean condition to parse our files. in most cases pandas will return an array (pandas series) with boolean inside, as True or False. is important to remind that the condition digit are not the same as in python we have & that stand for and, | stand for or and the magic ~ that stand for not."
   ]
  },
  {
   "cell_type": "code",
   "execution_count": 9,
   "metadata": {},
   "outputs": [
    {
     "data": {
      "text/plain": [
       "0    False\n",
       "1     True\n",
       "Name: Sex, dtype: bool"
      ]
     },
     "execution_count": 9,
     "metadata": {},
     "output_type": "execute_result"
    }
   ],
   "source": [
    "df_short[\"Length\"]>10 \n",
    "df_short[\"Sex\"] == \"M\"\n",
    "df_short[\"Sex\"] != \"M\""
   ]
  },
  {
   "cell_type": "markdown",
   "metadata": {},
   "source": [
    "So is possible to create whatever filter we want and then apply this filter to our data. in the example we whish to select the rows of the column Whole_weight which has more than 10 in the Rings column."
   ]
  },
  {
   "cell_type": "code",
   "execution_count": 10,
   "metadata": {},
   "outputs": [
    {
     "data": {
      "text/plain": [
       "5       0.7775\n",
       "6       0.7680\n",
       "8       0.8945\n",
       "9       0.6065\n",
       "11      0.5415\n",
       "         ...  \n",
       "4147    2.0505\n",
       "4159    1.0530\n",
       "4160    0.9945\n",
       "4171    0.8870\n",
       "4175    1.9485\n",
       "Name: Whole_weight, Length: 1446, dtype: float64"
      ]
     },
     "execution_count": 10,
     "metadata": {},
     "output_type": "execute_result"
    }
   ],
   "source": [
    "to_keep = df[\"Rings\"]>10\n",
    "df.loc[to_keep, \"Whole_weight\"] "
   ]
  },
  {
   "cell_type": "markdown",
   "metadata": {},
   "source": [
    "We can construct more complex condition, using the boolean operator and so on. one important remind is about the sintax. Pandas return a problem if you insert multiple condition with the round parenthesis, so take care and always use them:"
   ]
  },
  {
   "cell_type": "code",
   "execution_count": 11,
   "metadata": {},
   "outputs": [
    {
     "data": {
      "text/html": [
       "<div>\n",
       "<style scoped>\n",
       "    .dataframe tbody tr th:only-of-type {\n",
       "        vertical-align: middle;\n",
       "    }\n",
       "\n",
       "    .dataframe tbody tr th {\n",
       "        vertical-align: top;\n",
       "    }\n",
       "\n",
       "    .dataframe thead th {\n",
       "        text-align: right;\n",
       "    }\n",
       "</style>\n",
       "<table border=\"1\" class=\"dataframe\">\n",
       "  <thead>\n",
       "    <tr style=\"text-align: right;\">\n",
       "      <th></th>\n",
       "      <th>Sex</th>\n",
       "      <th>Length</th>\n",
       "      <th>Diameter</th>\n",
       "      <th>Height</th>\n",
       "      <th>Whole_weight</th>\n",
       "      <th>Shucked_weight</th>\n",
       "      <th>Viscera_weight</th>\n",
       "      <th>Shell_weight</th>\n",
       "      <th>Rings</th>\n",
       "    </tr>\n",
       "  </thead>\n",
       "  <tbody>\n",
       "    <tr>\n",
       "      <th>5</th>\n",
       "      <td>F</td>\n",
       "      <td>0.530</td>\n",
       "      <td>0.415</td>\n",
       "      <td>0.150</td>\n",
       "      <td>0.7775</td>\n",
       "      <td>0.2370</td>\n",
       "      <td>0.1415</td>\n",
       "      <td>0.3300</td>\n",
       "      <td>20</td>\n",
       "    </tr>\n",
       "    <tr>\n",
       "      <th>6</th>\n",
       "      <td>F</td>\n",
       "      <td>0.545</td>\n",
       "      <td>0.425</td>\n",
       "      <td>0.125</td>\n",
       "      <td>0.7680</td>\n",
       "      <td>0.2940</td>\n",
       "      <td>0.1495</td>\n",
       "      <td>0.2600</td>\n",
       "      <td>16</td>\n",
       "    </tr>\n",
       "    <tr>\n",
       "      <th>8</th>\n",
       "      <td>F</td>\n",
       "      <td>0.550</td>\n",
       "      <td>0.440</td>\n",
       "      <td>0.150</td>\n",
       "      <td>0.8945</td>\n",
       "      <td>0.3145</td>\n",
       "      <td>0.1510</td>\n",
       "      <td>0.3200</td>\n",
       "      <td>19</td>\n",
       "    </tr>\n",
       "    <tr>\n",
       "      <th>9</th>\n",
       "      <td>F</td>\n",
       "      <td>0.525</td>\n",
       "      <td>0.380</td>\n",
       "      <td>0.140</td>\n",
       "      <td>0.6065</td>\n",
       "      <td>0.1940</td>\n",
       "      <td>0.1475</td>\n",
       "      <td>0.2100</td>\n",
       "      <td>14</td>\n",
       "    </tr>\n",
       "    <tr>\n",
       "      <th>11</th>\n",
       "      <td>M</td>\n",
       "      <td>0.490</td>\n",
       "      <td>0.380</td>\n",
       "      <td>0.135</td>\n",
       "      <td>0.5415</td>\n",
       "      <td>0.2175</td>\n",
       "      <td>0.0950</td>\n",
       "      <td>0.1900</td>\n",
       "      <td>11</td>\n",
       "    </tr>\n",
       "    <tr>\n",
       "      <th>...</th>\n",
       "      <td>...</td>\n",
       "      <td>...</td>\n",
       "      <td>...</td>\n",
       "      <td>...</td>\n",
       "      <td>...</td>\n",
       "      <td>...</td>\n",
       "      <td>...</td>\n",
       "      <td>...</td>\n",
       "      <td>...</td>\n",
       "    </tr>\n",
       "    <tr>\n",
       "      <th>4146</th>\n",
       "      <td>M</td>\n",
       "      <td>0.695</td>\n",
       "      <td>0.550</td>\n",
       "      <td>0.195</td>\n",
       "      <td>1.6645</td>\n",
       "      <td>0.7270</td>\n",
       "      <td>0.3600</td>\n",
       "      <td>0.4450</td>\n",
       "      <td>11</td>\n",
       "    </tr>\n",
       "    <tr>\n",
       "      <th>4147</th>\n",
       "      <td>M</td>\n",
       "      <td>0.770</td>\n",
       "      <td>0.605</td>\n",
       "      <td>0.175</td>\n",
       "      <td>2.0505</td>\n",
       "      <td>0.8005</td>\n",
       "      <td>0.5260</td>\n",
       "      <td>0.3550</td>\n",
       "      <td>11</td>\n",
       "    </tr>\n",
       "    <tr>\n",
       "      <th>4159</th>\n",
       "      <td>F</td>\n",
       "      <td>0.585</td>\n",
       "      <td>0.475</td>\n",
       "      <td>0.165</td>\n",
       "      <td>1.0530</td>\n",
       "      <td>0.4580</td>\n",
       "      <td>0.2170</td>\n",
       "      <td>0.3000</td>\n",
       "      <td>11</td>\n",
       "    </tr>\n",
       "    <tr>\n",
       "      <th>4160</th>\n",
       "      <td>F</td>\n",
       "      <td>0.585</td>\n",
       "      <td>0.455</td>\n",
       "      <td>0.170</td>\n",
       "      <td>0.9945</td>\n",
       "      <td>0.4255</td>\n",
       "      <td>0.2630</td>\n",
       "      <td>0.2845</td>\n",
       "      <td>11</td>\n",
       "    </tr>\n",
       "    <tr>\n",
       "      <th>4171</th>\n",
       "      <td>F</td>\n",
       "      <td>0.565</td>\n",
       "      <td>0.450</td>\n",
       "      <td>0.165</td>\n",
       "      <td>0.8870</td>\n",
       "      <td>0.3700</td>\n",
       "      <td>0.2390</td>\n",
       "      <td>0.2490</td>\n",
       "      <td>11</td>\n",
       "    </tr>\n",
       "  </tbody>\n",
       "</table>\n",
       "<p>1045 rows × 9 columns</p>\n",
       "</div>"
      ],
      "text/plain": [
       "     Sex  Length  Diameter  Height  Whole_weight  Shucked_weight  \\\n",
       "5      F   0.530     0.415   0.150        0.7775          0.2370   \n",
       "6      F   0.545     0.425   0.125        0.7680          0.2940   \n",
       "8      F   0.550     0.440   0.150        0.8945          0.3145   \n",
       "9      F   0.525     0.380   0.140        0.6065          0.1940   \n",
       "11     M   0.490     0.380   0.135        0.5415          0.2175   \n",
       "...   ..     ...       ...     ...           ...             ...   \n",
       "4146   M   0.695     0.550   0.195        1.6645          0.7270   \n",
       "4147   M   0.770     0.605   0.175        2.0505          0.8005   \n",
       "4159   F   0.585     0.475   0.165        1.0530          0.4580   \n",
       "4160   F   0.585     0.455   0.170        0.9945          0.4255   \n",
       "4171   F   0.565     0.450   0.165        0.8870          0.3700   \n",
       "\n",
       "      Viscera_weight  Shell_weight  Rings  \n",
       "5             0.1415        0.3300     20  \n",
       "6             0.1495        0.2600     16  \n",
       "8             0.1510        0.3200     19  \n",
       "9             0.1475        0.2100     14  \n",
       "11            0.0950        0.1900     11  \n",
       "...              ...           ...    ...  \n",
       "4146          0.3600        0.4450     11  \n",
       "4147          0.5260        0.3550     11  \n",
       "4159          0.2170        0.3000     11  \n",
       "4160          0.2630        0.2845     11  \n",
       "4171          0.2390        0.2490     11  \n",
       "\n",
       "[1045 rows x 9 columns]"
      ]
     },
     "execution_count": 11,
     "metadata": {},
     "output_type": "execute_result"
    }
   ],
   "source": [
    "df.loc[(df[\"Rings\"]>10) & ((df[\"Sex\"] == \"M\") | (df[\"Sex\"]==\"F\")) & ~(df[\"Rings\"]==12)] \n",
    "#df.loc[ df[\"Rings\"]>10 & df[\"Sex\"] == \"M\" ] # this will return an error"
   ]
  },
  {
   "cell_type": "markdown",
   "metadata": {},
   "source": [
    "## More advance condition with implemented fucntion"
   ]
  },
  {
   "cell_type": "markdown",
   "metadata": {},
   "source": [
    "There are many implemented function in pandas that allow the smart parsing and condition (https://pandas.pydata.org/docs/user_guide/index.html#user-guide). isin() function return only the rows in which the state is present! or the str method (which are a lot) return only the rows in which is found the specified string:"
   ]
  },
  {
   "cell_type": "code",
   "execution_count": 12,
   "metadata": {},
   "outputs": [
    {
     "data": {
      "text/plain": [
       "235    1\n",
       "718    2\n",
       "Name: Rings, dtype: int64"
      ]
     },
     "execution_count": 12,
     "metadata": {},
     "output_type": "execute_result"
    }
   ],
   "source": [
    "filtering_by_a_list = [1,2]\n",
    "df.loc[df[\"Rings\"].isin(filtering_by_a_list), \"Rings\"]"
   ]
  },
  {
   "cell_type": "code",
   "execution_count": 13,
   "metadata": {},
   "outputs": [
    {
     "data": {
      "text/plain": [
       "0     True\n",
       "1    False\n",
       "Name: Sex, dtype: bool"
      ]
     },
     "execution_count": 13,
     "metadata": {},
     "output_type": "execute_result"
    }
   ],
   "source": [
    "df_short[\"Sex\"].str.contains(\"M\") # .str._function"
   ]
  },
  {
   "cell_type": "markdown",
   "metadata": {},
   "source": [
    "# Updating Rows and columns"
   ]
  },
  {
   "cell_type": "markdown",
   "metadata": {},
   "source": [
    "## updating columns name"
   ]
  },
  {
   "cell_type": "markdown",
   "metadata": {},
   "source": [
    "first we are going to see how is possible to change the columns name of our dataframe, this could usefull when we have names with space \" \" and so on. the easiest way is to assign to df.columns a list with the new name!"
   ]
  },
  {
   "cell_type": "code",
   "execution_count": 14,
   "metadata": {},
   "outputs": [
    {
     "data": {
      "text/plain": [
       "Index(['sex', 'length', 'diameter', 'height', 'whole_weight', 'shucked_weight',\n",
       "       'viscera_weight', 'shell_weight', 'rings'],\n",
       "      dtype='object')"
      ]
     },
     "execution_count": 14,
     "metadata": {},
     "output_type": "execute_result"
    }
   ],
   "source": [
    "lower_name = [x.lower() for x in df.columns]\n",
    "copy_of_columns = df.columns\n",
    "df.columns = lower_name\n",
    "df.columns"
   ]
  },
  {
   "cell_type": "markdown",
   "metadata": {},
   "source": [
    "we can use also the str.method implemented in pandas:"
   ]
  },
  {
   "cell_type": "code",
   "execution_count": 15,
   "metadata": {},
   "outputs": [
    {
     "data": {
      "text/plain": [
       "Index(['sex', 'length', 'diameter', 'height', 'whole_weight', 'shucked_weight',\n",
       "       'viscera_weight', 'shell_weight', 'rings'],\n",
       "      dtype='object')"
      ]
     },
     "execution_count": 15,
     "metadata": {},
     "output_type": "execute_result"
    }
   ],
   "source": [
    "df.columns = df.columns.str.replace(\"-\",\"\") #is used to remove \" \" usually\n",
    "df.columns"
   ]
  },
  {
   "cell_type": "markdown",
   "metadata": {},
   "source": [
    "if we want to rename just one column is possible to use the function rename and specify what column we what to change using a dicitionary. the condition inplace means that change directly the dataframe. and we will see inplace argument is not the best option always."
   ]
  },
  {
   "cell_type": "code",
   "execution_count": 16,
   "metadata": {},
   "outputs": [],
   "source": [
    "#if just one or more columns with rename\n",
    "df.rename(columns= {\"Rings\":\"420\"}, inplace=True)"
   ]
  },
  {
   "cell_type": "markdown",
   "metadata": {},
   "source": [
    "## replace values in specific rows"
   ]
  },
  {
   "cell_type": "markdown",
   "metadata": {},
   "source": [
    "the easiest way is using the loc function to extract the rows and then assign those rows to what we need! we have not seen yet how to insert rows but here an easy example on how to insert just one row:"
   ]
  },
  {
   "cell_type": "code",
   "execution_count": 17,
   "metadata": {},
   "outputs": [],
   "source": [
    "import numpy as np\n",
    "import copy\n",
    "df.columns = copy_of_columns\n",
    "to_change = df_short[0:1].copy()\n",
    "to_change.loc[0,\"Sex\"] = 1 # it return a warning but it works (*check)"
   ]
  },
  {
   "cell_type": "markdown",
   "metadata": {},
   "source": [
    "Let perform this operation on a multiple rows:\n",
    "- first we filter whith a condition and check how many values are marked as True just summing up the array.\n",
    "- assign to those rows a different result"
   ]
  },
  {
   "cell_type": "code",
   "execution_count": 18,
   "metadata": {},
   "outputs": [],
   "source": [
    "fil2 = df[\"Diameter\"]>0.60\n",
    "sum(fil2 == True) # just 10\n",
    "media_d = df[\"Diameter\"].mean()"
   ]
  },
  {
   "cell_type": "code",
   "execution_count": 19,
   "metadata": {},
   "outputs": [
    {
     "data": {
      "text/plain": [
       "0"
      ]
     },
     "execution_count": 19,
     "metadata": {},
     "output_type": "execute_result"
    }
   ],
   "source": [
    "df.loc[fil2, \"Diameter\"] = media_d # just assign those rows to a value\n",
    "fil2 = df[\"Diameter\"]>0.60\n",
    "sum(fil2 == True) # just 0"
   ]
  },
  {
   "cell_type": "markdown",
   "metadata": {},
   "source": [
    "## replace string values"
   ]
  },
  {
   "cell_type": "markdown",
   "metadata": {},
   "source": [
    "is a similar way ad one before we can perform this type of changes also with string objcet"
   ]
  },
  {
   "cell_type": "code",
   "execution_count": 20,
   "metadata": {},
   "outputs": [
    {
     "data": {
      "text/html": [
       "<div>\n",
       "<style scoped>\n",
       "    .dataframe tbody tr th:only-of-type {\n",
       "        vertical-align: middle;\n",
       "    }\n",
       "\n",
       "    .dataframe tbody tr th {\n",
       "        vertical-align: top;\n",
       "    }\n",
       "\n",
       "    .dataframe thead th {\n",
       "        text-align: right;\n",
       "    }\n",
       "</style>\n",
       "<table border=\"1\" class=\"dataframe\">\n",
       "  <thead>\n",
       "    <tr style=\"text-align: right;\">\n",
       "      <th></th>\n",
       "      <th>Sex</th>\n",
       "      <th>Length</th>\n",
       "      <th>Diameter</th>\n",
       "      <th>Height</th>\n",
       "      <th>Whole_weight</th>\n",
       "      <th>Shucked_weight</th>\n",
       "      <th>Viscera_weight</th>\n",
       "      <th>Shell_weight</th>\n",
       "      <th>Rings</th>\n",
       "    </tr>\n",
       "  </thead>\n",
       "  <tbody>\n",
       "    <tr>\n",
       "      <th>0</th>\n",
       "      <td>m</td>\n",
       "      <td>0.350</td>\n",
       "      <td>0.265</td>\n",
       "      <td>0.090</td>\n",
       "      <td>0.2255</td>\n",
       "      <td>0.0995</td>\n",
       "      <td>0.0485</td>\n",
       "      <td>0.070</td>\n",
       "      <td>7</td>\n",
       "    </tr>\n",
       "    <tr>\n",
       "      <th>1</th>\n",
       "      <td>f</td>\n",
       "      <td>0.530</td>\n",
       "      <td>0.420</td>\n",
       "      <td>0.135</td>\n",
       "      <td>0.6770</td>\n",
       "      <td>0.2565</td>\n",
       "      <td>0.1415</td>\n",
       "      <td>0.210</td>\n",
       "      <td>9</td>\n",
       "    </tr>\n",
       "    <tr>\n",
       "      <th>2</th>\n",
       "      <td>m</td>\n",
       "      <td>0.440</td>\n",
       "      <td>0.365</td>\n",
       "      <td>0.125</td>\n",
       "      <td>0.5160</td>\n",
       "      <td>0.2155</td>\n",
       "      <td>0.1140</td>\n",
       "      <td>0.155</td>\n",
       "      <td>10</td>\n",
       "    </tr>\n",
       "    <tr>\n",
       "      <th>3</th>\n",
       "      <td>i</td>\n",
       "      <td>0.330</td>\n",
       "      <td>0.255</td>\n",
       "      <td>0.080</td>\n",
       "      <td>0.2050</td>\n",
       "      <td>0.0895</td>\n",
       "      <td>0.0395</td>\n",
       "      <td>0.055</td>\n",
       "      <td>7</td>\n",
       "    </tr>\n",
       "    <tr>\n",
       "      <th>4</th>\n",
       "      <td>i</td>\n",
       "      <td>0.425</td>\n",
       "      <td>0.300</td>\n",
       "      <td>0.095</td>\n",
       "      <td>0.3515</td>\n",
       "      <td>0.1410</td>\n",
       "      <td>0.0775</td>\n",
       "      <td>0.120</td>\n",
       "      <td>8</td>\n",
       "    </tr>\n",
       "  </tbody>\n",
       "</table>\n",
       "</div>"
      ],
      "text/plain": [
       "  Sex  Length  Diameter  Height  Whole_weight  Shucked_weight  Viscera_weight  \\\n",
       "0   m   0.350     0.265   0.090        0.2255          0.0995          0.0485   \n",
       "1   f   0.530     0.420   0.135        0.6770          0.2565          0.1415   \n",
       "2   m   0.440     0.365   0.125        0.5160          0.2155          0.1140   \n",
       "3   i   0.330     0.255   0.080        0.2050          0.0895          0.0395   \n",
       "4   i   0.425     0.300   0.095        0.3515          0.1410          0.0775   \n",
       "\n",
       "   Shell_weight  Rings  \n",
       "0         0.070      7  \n",
       "1         0.210      9  \n",
       "2         0.155     10  \n",
       "3         0.055      7  \n",
       "4         0.120      8  "
      ]
     },
     "execution_count": 20,
     "metadata": {},
     "output_type": "execute_result"
    }
   ],
   "source": [
    "df[\"Sex\"] = df[\"Sex\"].str.lower() \n",
    "df.head(5)\n",
    "# .str.whatever function implemented in python!"
   ]
  },
  {
   "cell_type": "markdown",
   "metadata": {},
   "source": [
    "We will see how to apply a function over all the df one row per time, for now let's see how we can change ane entire row columns just re assign these columns to a newone (having in mind that they must have the same dim). * do not run the cell under more than once or it will return strange result)"
   ]
  },
  {
   "cell_type": "code",
   "execution_count": 21,
   "metadata": {},
   "outputs": [],
   "source": [
    "def extend(s): \n",
    "    res = s.upper()\n",
    "    if res == \"M\":\n",
    "        return \"Male\"\n",
    "    elif res ==\"F\":\n",
    "        return \"Female\"\n",
    "    else:\n",
    "        return \"Ibrid\"\n",
    "    \n",
    "name_extended = df[\"Sex\"].apply(extend) # a new series with the new name"
   ]
  },
  {
   "cell_type": "code",
   "execution_count": 22,
   "metadata": {},
   "outputs": [
    {
     "data": {
      "text/html": [
       "<div>\n",
       "<style scoped>\n",
       "    .dataframe tbody tr th:only-of-type {\n",
       "        vertical-align: middle;\n",
       "    }\n",
       "\n",
       "    .dataframe tbody tr th {\n",
       "        vertical-align: top;\n",
       "    }\n",
       "\n",
       "    .dataframe thead th {\n",
       "        text-align: right;\n",
       "    }\n",
       "</style>\n",
       "<table border=\"1\" class=\"dataframe\">\n",
       "  <thead>\n",
       "    <tr style=\"text-align: right;\">\n",
       "      <th></th>\n",
       "      <th>Sex</th>\n",
       "      <th>Length</th>\n",
       "      <th>Diameter</th>\n",
       "      <th>Height</th>\n",
       "      <th>Whole_weight</th>\n",
       "      <th>Shucked_weight</th>\n",
       "      <th>Viscera_weight</th>\n",
       "      <th>Shell_weight</th>\n",
       "      <th>Rings</th>\n",
       "    </tr>\n",
       "  </thead>\n",
       "  <tbody>\n",
       "    <tr>\n",
       "      <th>0</th>\n",
       "      <td>Male</td>\n",
       "      <td>0.350</td>\n",
       "      <td>0.265</td>\n",
       "      <td>0.090</td>\n",
       "      <td>0.2255</td>\n",
       "      <td>0.0995</td>\n",
       "      <td>0.0485</td>\n",
       "      <td>0.070</td>\n",
       "      <td>7</td>\n",
       "    </tr>\n",
       "    <tr>\n",
       "      <th>1</th>\n",
       "      <td>Female</td>\n",
       "      <td>0.530</td>\n",
       "      <td>0.420</td>\n",
       "      <td>0.135</td>\n",
       "      <td>0.6770</td>\n",
       "      <td>0.2565</td>\n",
       "      <td>0.1415</td>\n",
       "      <td>0.210</td>\n",
       "      <td>9</td>\n",
       "    </tr>\n",
       "    <tr>\n",
       "      <th>2</th>\n",
       "      <td>Male</td>\n",
       "      <td>0.440</td>\n",
       "      <td>0.365</td>\n",
       "      <td>0.125</td>\n",
       "      <td>0.5160</td>\n",
       "      <td>0.2155</td>\n",
       "      <td>0.1140</td>\n",
       "      <td>0.155</td>\n",
       "      <td>10</td>\n",
       "    </tr>\n",
       "    <tr>\n",
       "      <th>3</th>\n",
       "      <td>Ibrid</td>\n",
       "      <td>0.330</td>\n",
       "      <td>0.255</td>\n",
       "      <td>0.080</td>\n",
       "      <td>0.2050</td>\n",
       "      <td>0.0895</td>\n",
       "      <td>0.0395</td>\n",
       "      <td>0.055</td>\n",
       "      <td>7</td>\n",
       "    </tr>\n",
       "    <tr>\n",
       "      <th>4</th>\n",
       "      <td>Ibrid</td>\n",
       "      <td>0.425</td>\n",
       "      <td>0.300</td>\n",
       "      <td>0.095</td>\n",
       "      <td>0.3515</td>\n",
       "      <td>0.1410</td>\n",
       "      <td>0.0775</td>\n",
       "      <td>0.120</td>\n",
       "      <td>8</td>\n",
       "    </tr>\n",
       "  </tbody>\n",
       "</table>\n",
       "</div>"
      ],
      "text/plain": [
       "      Sex  Length  Diameter  Height  Whole_weight  Shucked_weight  \\\n",
       "0    Male   0.350     0.265   0.090        0.2255          0.0995   \n",
       "1  Female   0.530     0.420   0.135        0.6770          0.2565   \n",
       "2    Male   0.440     0.365   0.125        0.5160          0.2155   \n",
       "3   Ibrid   0.330     0.255   0.080        0.2050          0.0895   \n",
       "4   Ibrid   0.425     0.300   0.095        0.3515          0.1410   \n",
       "\n",
       "   Viscera_weight  Shell_weight  Rings  \n",
       "0          0.0485         0.070      7  \n",
       "1          0.1415         0.210      9  \n",
       "2          0.1140         0.155     10  \n",
       "3          0.0395         0.055      7  \n",
       "4          0.0775         0.120      8  "
      ]
     },
     "execution_count": 22,
     "metadata": {},
     "output_type": "execute_result"
    }
   ],
   "source": [
    "df[\"Sex\"] = name_extended # just assign\n",
    "df.head() # DO NOT RUN MORE THAN ONCE or it will return straaange stuff"
   ]
  },
  {
   "cell_type": "markdown",
   "metadata": {},
   "source": [
    "## Apply, Map function and create new columns"
   ]
  },
  {
   "cell_type": "markdown",
   "metadata": {},
   "source": [
    "the Apply and Map function are implemented pandas function that allows to perform operation on all the values inside the dataframe. it possible to restrict the rows and colums by selecting them as we saw before. is it quite useful because we can pass whatever function to our dataframe but it must return something!\n"
   ]
  },
  {
   "cell_type": "code",
   "execution_count": 23,
   "metadata": {},
   "outputs": [
    {
     "data": {
      "text/html": [
       "<div>\n",
       "<style scoped>\n",
       "    .dataframe tbody tr th:only-of-type {\n",
       "        vertical-align: middle;\n",
       "    }\n",
       "\n",
       "    .dataframe tbody tr th {\n",
       "        vertical-align: top;\n",
       "    }\n",
       "\n",
       "    .dataframe thead th {\n",
       "        text-align: right;\n",
       "    }\n",
       "</style>\n",
       "<table border=\"1\" class=\"dataframe\">\n",
       "  <thead>\n",
       "    <tr style=\"text-align: right;\">\n",
       "      <th></th>\n",
       "      <th>Sex</th>\n",
       "      <th>Length</th>\n",
       "      <th>Diameter</th>\n",
       "      <th>Height</th>\n",
       "      <th>Whole_weight</th>\n",
       "      <th>Shucked_weight</th>\n",
       "      <th>Viscera_weight</th>\n",
       "      <th>Shell_weight</th>\n",
       "      <th>Rings</th>\n",
       "      <th>Radius</th>\n",
       "    </tr>\n",
       "  </thead>\n",
       "  <tbody>\n",
       "    <tr>\n",
       "      <th>0</th>\n",
       "      <td>Male</td>\n",
       "      <td>0.35</td>\n",
       "      <td>0.265</td>\n",
       "      <td>0.090</td>\n",
       "      <td>0.2255</td>\n",
       "      <td>0.0995</td>\n",
       "      <td>0.0485</td>\n",
       "      <td>0.07</td>\n",
       "      <td>7</td>\n",
       "      <td>0.1325</td>\n",
       "    </tr>\n",
       "    <tr>\n",
       "      <th>1</th>\n",
       "      <td>Female</td>\n",
       "      <td>0.53</td>\n",
       "      <td>0.420</td>\n",
       "      <td>0.135</td>\n",
       "      <td>0.6770</td>\n",
       "      <td>0.2565</td>\n",
       "      <td>0.1415</td>\n",
       "      <td>0.21</td>\n",
       "      <td>9</td>\n",
       "      <td>0.2100</td>\n",
       "    </tr>\n",
       "  </tbody>\n",
       "</table>\n",
       "</div>"
      ],
      "text/plain": [
       "      Sex  Length  Diameter  Height  Whole_weight  Shucked_weight  \\\n",
       "0    Male    0.35     0.265   0.090        0.2255          0.0995   \n",
       "1  Female    0.53     0.420   0.135        0.6770          0.2565   \n",
       "\n",
       "   Viscera_weight  Shell_weight  Rings  Radius  \n",
       "0          0.0485          0.07      7  0.1325  \n",
       "1          0.1415          0.21      9  0.2100  "
      ]
     },
     "execution_count": 23,
     "metadata": {},
     "output_type": "execute_result"
    }
   ],
   "source": [
    "def whateverfunction(x):\n",
    "    return float(x*2)\n",
    "\n",
    "df[\"Diameter\"].apply(whateverfunction)\n",
    "df[\"Radius\"] = df[\"Diameter\"].apply( lambda x: x/2) # function on fly\n",
    "df.head(2)"
   ]
  },
  {
   "cell_type": "markdown",
   "metadata": {},
   "source": [
    "Mastro >leoni< utilizza transform ma non mi sono chiare le differenze:"
   ]
  },
  {
   "cell_type": "code",
   "execution_count": 24,
   "metadata": {},
   "outputs": [],
   "source": [
    "df[\"Radius_2\"] = df[\"Diameter\"].transform( lambda x: x/2) # function on fly"
   ]
  },
  {
   "cell_type": "markdown",
   "metadata": {},
   "source": [
    "Another important function is Map which is used to \"map\" value to some other, the main use could be transorm binary variable into True,False value and so on!"
   ]
  },
  {
   "cell_type": "code",
   "execution_count": 25,
   "metadata": {},
   "outputs": [
    {
     "data": {
      "text/html": [
       "<div>\n",
       "<style scoped>\n",
       "    .dataframe tbody tr th:only-of-type {\n",
       "        vertical-align: middle;\n",
       "    }\n",
       "\n",
       "    .dataframe tbody tr th {\n",
       "        vertical-align: top;\n",
       "    }\n",
       "\n",
       "    .dataframe thead th {\n",
       "        text-align: right;\n",
       "    }\n",
       "</style>\n",
       "<table border=\"1\" class=\"dataframe\">\n",
       "  <thead>\n",
       "    <tr style=\"text-align: right;\">\n",
       "      <th></th>\n",
       "      <th>Sex</th>\n",
       "      <th>Length</th>\n",
       "      <th>Diameter</th>\n",
       "      <th>Height</th>\n",
       "      <th>Whole_weight</th>\n",
       "      <th>Shucked_weight</th>\n",
       "      <th>Viscera_weight</th>\n",
       "      <th>Shell_weight</th>\n",
       "      <th>Rings</th>\n",
       "      <th>Radius</th>\n",
       "      <th>Radius_2</th>\n",
       "      <th>Boolea_sex</th>\n",
       "    </tr>\n",
       "  </thead>\n",
       "  <tbody>\n",
       "    <tr>\n",
       "      <th>0</th>\n",
       "      <td>Male</td>\n",
       "      <td>0.350</td>\n",
       "      <td>0.265</td>\n",
       "      <td>0.090</td>\n",
       "      <td>0.2255</td>\n",
       "      <td>0.0995</td>\n",
       "      <td>0.0485</td>\n",
       "      <td>0.070</td>\n",
       "      <td>7</td>\n",
       "      <td>0.1325</td>\n",
       "      <td>0.1325</td>\n",
       "      <td>True</td>\n",
       "    </tr>\n",
       "    <tr>\n",
       "      <th>1</th>\n",
       "      <td>Female</td>\n",
       "      <td>0.530</td>\n",
       "      <td>0.420</td>\n",
       "      <td>0.135</td>\n",
       "      <td>0.6770</td>\n",
       "      <td>0.2565</td>\n",
       "      <td>0.1415</td>\n",
       "      <td>0.210</td>\n",
       "      <td>9</td>\n",
       "      <td>0.2100</td>\n",
       "      <td>0.2100</td>\n",
       "      <td>False</td>\n",
       "    </tr>\n",
       "    <tr>\n",
       "      <th>2</th>\n",
       "      <td>Male</td>\n",
       "      <td>0.440</td>\n",
       "      <td>0.365</td>\n",
       "      <td>0.125</td>\n",
       "      <td>0.5160</td>\n",
       "      <td>0.2155</td>\n",
       "      <td>0.1140</td>\n",
       "      <td>0.155</td>\n",
       "      <td>10</td>\n",
       "      <td>0.1825</td>\n",
       "      <td>0.1825</td>\n",
       "      <td>True</td>\n",
       "    </tr>\n",
       "    <tr>\n",
       "      <th>3</th>\n",
       "      <td>Ibrid</td>\n",
       "      <td>0.330</td>\n",
       "      <td>0.255</td>\n",
       "      <td>0.080</td>\n",
       "      <td>0.2050</td>\n",
       "      <td>0.0895</td>\n",
       "      <td>0.0395</td>\n",
       "      <td>0.055</td>\n",
       "      <td>7</td>\n",
       "      <td>0.1275</td>\n",
       "      <td>0.1275</td>\n",
       "      <td>NaN</td>\n",
       "    </tr>\n",
       "    <tr>\n",
       "      <th>4</th>\n",
       "      <td>Ibrid</td>\n",
       "      <td>0.425</td>\n",
       "      <td>0.300</td>\n",
       "      <td>0.095</td>\n",
       "      <td>0.3515</td>\n",
       "      <td>0.1410</td>\n",
       "      <td>0.0775</td>\n",
       "      <td>0.120</td>\n",
       "      <td>8</td>\n",
       "      <td>0.1500</td>\n",
       "      <td>0.1500</td>\n",
       "      <td>NaN</td>\n",
       "    </tr>\n",
       "  </tbody>\n",
       "</table>\n",
       "</div>"
      ],
      "text/plain": [
       "      Sex  Length  Diameter  Height  Whole_weight  Shucked_weight  \\\n",
       "0    Male   0.350     0.265   0.090        0.2255          0.0995   \n",
       "1  Female   0.530     0.420   0.135        0.6770          0.2565   \n",
       "2    Male   0.440     0.365   0.125        0.5160          0.2155   \n",
       "3   Ibrid   0.330     0.255   0.080        0.2050          0.0895   \n",
       "4   Ibrid   0.425     0.300   0.095        0.3515          0.1410   \n",
       "\n",
       "   Viscera_weight  Shell_weight  Rings  Radius  Radius_2 Boolea_sex  \n",
       "0          0.0485         0.070      7  0.1325    0.1325       True  \n",
       "1          0.1415         0.210      9  0.2100    0.2100      False  \n",
       "2          0.1140         0.155     10  0.1825    0.1825       True  \n",
       "3          0.0395         0.055      7  0.1275    0.1275        NaN  \n",
       "4          0.0775         0.120      8  0.1500    0.1500        NaN  "
      ]
     },
     "execution_count": 25,
     "metadata": {},
     "output_type": "execute_result"
    }
   ],
   "source": [
    "import numpy as np\n",
    "df[\"Sex\"].map({\"Male\":True, \"Female\":False, \"Ibrid\": np.nan})\n",
    "df[\"Boolea_sex\"] = df[\"Sex\"].map({\"Male\":True, \"Female\":False, \"Ibrid\": np.nan})\n",
    "df.head(5)"
   ]
  },
  {
   "cell_type": "markdown",
   "metadata": {},
   "source": [
    "## drop columns"
   ]
  },
  {
   "cell_type": "markdown",
   "metadata": {},
   "source": [
    "is possible to drop columns, specifing them using a list (even if is just one colum) but also rows in the same way. is possible to do the change inplace or assign again the df."
   ]
  },
  {
   "cell_type": "code",
   "execution_count": 26,
   "metadata": {},
   "outputs": [
    {
     "data": {
      "text/html": [
       "<div>\n",
       "<style scoped>\n",
       "    .dataframe tbody tr th:only-of-type {\n",
       "        vertical-align: middle;\n",
       "    }\n",
       "\n",
       "    .dataframe tbody tr th {\n",
       "        vertical-align: top;\n",
       "    }\n",
       "\n",
       "    .dataframe thead th {\n",
       "        text-align: right;\n",
       "    }\n",
       "</style>\n",
       "<table border=\"1\" class=\"dataframe\">\n",
       "  <thead>\n",
       "    <tr style=\"text-align: right;\">\n",
       "      <th></th>\n",
       "      <th>Sex</th>\n",
       "      <th>Length</th>\n",
       "      <th>Diameter</th>\n",
       "      <th>Height</th>\n",
       "      <th>Whole_weight</th>\n",
       "      <th>Shucked_weight</th>\n",
       "      <th>Viscera_weight</th>\n",
       "      <th>Shell_weight</th>\n",
       "      <th>Rings</th>\n",
       "      <th>Radius</th>\n",
       "      <th>Boolea_sex</th>\n",
       "    </tr>\n",
       "  </thead>\n",
       "  <tbody>\n",
       "    <tr>\n",
       "      <th>0</th>\n",
       "      <td>Male</td>\n",
       "      <td>0.35</td>\n",
       "      <td>0.265</td>\n",
       "      <td>0.090</td>\n",
       "      <td>0.2255</td>\n",
       "      <td>0.0995</td>\n",
       "      <td>0.0485</td>\n",
       "      <td>0.07</td>\n",
       "      <td>7</td>\n",
       "      <td>0.1325</td>\n",
       "      <td>True</td>\n",
       "    </tr>\n",
       "    <tr>\n",
       "      <th>1</th>\n",
       "      <td>Female</td>\n",
       "      <td>0.53</td>\n",
       "      <td>0.420</td>\n",
       "      <td>0.135</td>\n",
       "      <td>0.6770</td>\n",
       "      <td>0.2565</td>\n",
       "      <td>0.1415</td>\n",
       "      <td>0.21</td>\n",
       "      <td>9</td>\n",
       "      <td>0.2100</td>\n",
       "      <td>False</td>\n",
       "    </tr>\n",
       "  </tbody>\n",
       "</table>\n",
       "</div>"
      ],
      "text/plain": [
       "      Sex  Length  Diameter  Height  Whole_weight  Shucked_weight  \\\n",
       "0    Male    0.35     0.265   0.090        0.2255          0.0995   \n",
       "1  Female    0.53     0.420   0.135        0.6770          0.2565   \n",
       "\n",
       "   Viscera_weight  Shell_weight  Rings  Radius Boolea_sex  \n",
       "0          0.0485          0.07      7  0.1325       True  \n",
       "1          0.1415          0.21      9  0.2100      False  "
      ]
     },
     "execution_count": 26,
     "metadata": {},
     "output_type": "execute_result"
    }
   ],
   "source": [
    "df.drop(columns=[\"Radius_2\"], inplace=True) # the argument of columns could be a list wit multiple element\n",
    "df.head(2)"
   ]
  },
  {
   "cell_type": "code",
   "execution_count": 27,
   "metadata": {},
   "outputs": [
    {
     "data": {
      "text/html": [
       "<div>\n",
       "<style scoped>\n",
       "    .dataframe tbody tr th:only-of-type {\n",
       "        vertical-align: middle;\n",
       "    }\n",
       "\n",
       "    .dataframe tbody tr th {\n",
       "        vertical-align: top;\n",
       "    }\n",
       "\n",
       "    .dataframe thead th {\n",
       "        text-align: right;\n",
       "    }\n",
       "</style>\n",
       "<table border=\"1\" class=\"dataframe\">\n",
       "  <thead>\n",
       "    <tr style=\"text-align: right;\">\n",
       "      <th></th>\n",
       "      <th>Sex</th>\n",
       "      <th>Length</th>\n",
       "      <th>Diameter</th>\n",
       "      <th>Height</th>\n",
       "      <th>Whole_weight</th>\n",
       "      <th>Shucked_weight</th>\n",
       "      <th>Viscera_weight</th>\n",
       "      <th>Shell_weight</th>\n",
       "      <th>Rings</th>\n",
       "      <th>Radius</th>\n",
       "      <th>Boolea_sex</th>\n",
       "    </tr>\n",
       "  </thead>\n",
       "  <tbody>\n",
       "    <tr>\n",
       "      <th>0</th>\n",
       "      <td>Male</td>\n",
       "      <td>0.350</td>\n",
       "      <td>0.265</td>\n",
       "      <td>0.090</td>\n",
       "      <td>0.2255</td>\n",
       "      <td>0.0995</td>\n",
       "      <td>0.0485</td>\n",
       "      <td>0.0700</td>\n",
       "      <td>7</td>\n",
       "      <td>0.1325</td>\n",
       "      <td>True</td>\n",
       "    </tr>\n",
       "    <tr>\n",
       "      <th>3</th>\n",
       "      <td>Ibrid</td>\n",
       "      <td>0.330</td>\n",
       "      <td>0.255</td>\n",
       "      <td>0.080</td>\n",
       "      <td>0.2050</td>\n",
       "      <td>0.0895</td>\n",
       "      <td>0.0395</td>\n",
       "      <td>0.0550</td>\n",
       "      <td>7</td>\n",
       "      <td>0.1275</td>\n",
       "      <td>NaN</td>\n",
       "    </tr>\n",
       "    <tr>\n",
       "      <th>5</th>\n",
       "      <td>Female</td>\n",
       "      <td>0.530</td>\n",
       "      <td>0.415</td>\n",
       "      <td>0.150</td>\n",
       "      <td>0.7775</td>\n",
       "      <td>0.2370</td>\n",
       "      <td>0.1415</td>\n",
       "      <td>0.3300</td>\n",
       "      <td>20</td>\n",
       "      <td>0.2075</td>\n",
       "      <td>False</td>\n",
       "    </tr>\n",
       "    <tr>\n",
       "      <th>6</th>\n",
       "      <td>Female</td>\n",
       "      <td>0.545</td>\n",
       "      <td>0.425</td>\n",
       "      <td>0.125</td>\n",
       "      <td>0.7680</td>\n",
       "      <td>0.2940</td>\n",
       "      <td>0.1495</td>\n",
       "      <td>0.2600</td>\n",
       "      <td>16</td>\n",
       "      <td>0.2125</td>\n",
       "      <td>False</td>\n",
       "    </tr>\n",
       "    <tr>\n",
       "      <th>7</th>\n",
       "      <td>Male</td>\n",
       "      <td>0.475</td>\n",
       "      <td>0.370</td>\n",
       "      <td>0.125</td>\n",
       "      <td>0.5095</td>\n",
       "      <td>0.2165</td>\n",
       "      <td>0.1125</td>\n",
       "      <td>0.1650</td>\n",
       "      <td>9</td>\n",
       "      <td>0.1850</td>\n",
       "      <td>True</td>\n",
       "    </tr>\n",
       "    <tr>\n",
       "      <th>...</th>\n",
       "      <td>...</td>\n",
       "      <td>...</td>\n",
       "      <td>...</td>\n",
       "      <td>...</td>\n",
       "      <td>...</td>\n",
       "      <td>...</td>\n",
       "      <td>...</td>\n",
       "      <td>...</td>\n",
       "      <td>...</td>\n",
       "      <td>...</td>\n",
       "      <td>...</td>\n",
       "    </tr>\n",
       "    <tr>\n",
       "      <th>4171</th>\n",
       "      <td>Female</td>\n",
       "      <td>0.565</td>\n",
       "      <td>0.450</td>\n",
       "      <td>0.165</td>\n",
       "      <td>0.8870</td>\n",
       "      <td>0.3700</td>\n",
       "      <td>0.2390</td>\n",
       "      <td>0.2490</td>\n",
       "      <td>11</td>\n",
       "      <td>0.2250</td>\n",
       "      <td>False</td>\n",
       "    </tr>\n",
       "    <tr>\n",
       "      <th>4172</th>\n",
       "      <td>Male</td>\n",
       "      <td>0.590</td>\n",
       "      <td>0.440</td>\n",
       "      <td>0.135</td>\n",
       "      <td>0.9660</td>\n",
       "      <td>0.4390</td>\n",
       "      <td>0.2145</td>\n",
       "      <td>0.2605</td>\n",
       "      <td>10</td>\n",
       "      <td>0.2200</td>\n",
       "      <td>True</td>\n",
       "    </tr>\n",
       "    <tr>\n",
       "      <th>4173</th>\n",
       "      <td>Male</td>\n",
       "      <td>0.600</td>\n",
       "      <td>0.475</td>\n",
       "      <td>0.205</td>\n",
       "      <td>1.1760</td>\n",
       "      <td>0.5255</td>\n",
       "      <td>0.2875</td>\n",
       "      <td>0.3080</td>\n",
       "      <td>9</td>\n",
       "      <td>0.2375</td>\n",
       "      <td>True</td>\n",
       "    </tr>\n",
       "    <tr>\n",
       "      <th>4174</th>\n",
       "      <td>Female</td>\n",
       "      <td>0.625</td>\n",
       "      <td>0.485</td>\n",
       "      <td>0.150</td>\n",
       "      <td>1.0945</td>\n",
       "      <td>0.5310</td>\n",
       "      <td>0.2610</td>\n",
       "      <td>0.2960</td>\n",
       "      <td>10</td>\n",
       "      <td>0.2425</td>\n",
       "      <td>False</td>\n",
       "    </tr>\n",
       "    <tr>\n",
       "      <th>4175</th>\n",
       "      <td>Male</td>\n",
       "      <td>0.710</td>\n",
       "      <td>0.555</td>\n",
       "      <td>0.195</td>\n",
       "      <td>1.9485</td>\n",
       "      <td>0.9455</td>\n",
       "      <td>0.3765</td>\n",
       "      <td>0.4950</td>\n",
       "      <td>12</td>\n",
       "      <td>0.2775</td>\n",
       "      <td>True</td>\n",
       "    </tr>\n",
       "  </tbody>\n",
       "</table>\n",
       "<p>4173 rows × 11 columns</p>\n",
       "</div>"
      ],
      "text/plain": [
       "         Sex  Length  Diameter  Height  Whole_weight  Shucked_weight  \\\n",
       "0       Male   0.350     0.265   0.090        0.2255          0.0995   \n",
       "3      Ibrid   0.330     0.255   0.080        0.2050          0.0895   \n",
       "5     Female   0.530     0.415   0.150        0.7775          0.2370   \n",
       "6     Female   0.545     0.425   0.125        0.7680          0.2940   \n",
       "7       Male   0.475     0.370   0.125        0.5095          0.2165   \n",
       "...      ...     ...       ...     ...           ...             ...   \n",
       "4171  Female   0.565     0.450   0.165        0.8870          0.3700   \n",
       "4172    Male   0.590     0.440   0.135        0.9660          0.4390   \n",
       "4173    Male   0.600     0.475   0.205        1.1760          0.5255   \n",
       "4174  Female   0.625     0.485   0.150        1.0945          0.5310   \n",
       "4175    Male   0.710     0.555   0.195        1.9485          0.9455   \n",
       "\n",
       "      Viscera_weight  Shell_weight  Rings  Radius Boolea_sex  \n",
       "0             0.0485        0.0700      7  0.1325       True  \n",
       "3             0.0395        0.0550      7  0.1275        NaN  \n",
       "5             0.1415        0.3300     20  0.2075      False  \n",
       "6             0.1495        0.2600     16  0.2125      False  \n",
       "7             0.1125        0.1650      9  0.1850       True  \n",
       "...              ...           ...    ...     ...        ...  \n",
       "4171          0.2390        0.2490     11  0.2250      False  \n",
       "4172          0.2145        0.2605     10  0.2200       True  \n",
       "4173          0.2875        0.3080      9  0.2375       True  \n",
       "4174          0.2610        0.2960     10  0.2425      False  \n",
       "4175          0.3765        0.4950     12  0.2775       True  \n",
       "\n",
       "[4173 rows x 11 columns]"
      ]
     },
     "execution_count": 27,
     "metadata": {},
     "output_type": "execute_result"
    }
   ],
   "source": [
    "df.drop(index = [1,2,4]) # not understood how to discard multiple rows as 0:10, or a bool array"
   ]
  },
  {
   "cell_type": "markdown",
   "metadata": {},
   "source": [
    "## add rows"
   ]
  },
  {
   "cell_type": "markdown",
   "metadata": {},
   "source": [
    "Using the function append is possible to concat rows, we will see later how to rbind multiple rows! important remind: use ignore_index = True or it return an error and is hard to handle. as you can see if some attribute are not specified Pandas will upload them with a NaN!"
   ]
  },
  {
   "cell_type": "code",
   "execution_count": 28,
   "metadata": {},
   "outputs": [
    {
     "data": {
      "text/html": [
       "<div>\n",
       "<style scoped>\n",
       "    .dataframe tbody tr th:only-of-type {\n",
       "        vertical-align: middle;\n",
       "    }\n",
       "\n",
       "    .dataframe tbody tr th {\n",
       "        vertical-align: top;\n",
       "    }\n",
       "\n",
       "    .dataframe thead th {\n",
       "        text-align: right;\n",
       "    }\n",
       "</style>\n",
       "<table border=\"1\" class=\"dataframe\">\n",
       "  <thead>\n",
       "    <tr style=\"text-align: right;\">\n",
       "      <th></th>\n",
       "      <th>Sex</th>\n",
       "      <th>Length</th>\n",
       "      <th>Diameter</th>\n",
       "      <th>Height</th>\n",
       "      <th>Whole_weight</th>\n",
       "      <th>Shucked_weight</th>\n",
       "      <th>Viscera_weight</th>\n",
       "      <th>Shell_weight</th>\n",
       "      <th>Rings</th>\n",
       "      <th>Radius</th>\n",
       "      <th>Boolea_sex</th>\n",
       "    </tr>\n",
       "  </thead>\n",
       "  <tbody>\n",
       "    <tr>\n",
       "      <th>0</th>\n",
       "      <td>Male</td>\n",
       "      <td>0.350</td>\n",
       "      <td>0.265</td>\n",
       "      <td>0.090</td>\n",
       "      <td>0.2255</td>\n",
       "      <td>0.0995</td>\n",
       "      <td>0.0485</td>\n",
       "      <td>0.0700</td>\n",
       "      <td>7.0</td>\n",
       "      <td>0.1325</td>\n",
       "      <td>True</td>\n",
       "    </tr>\n",
       "    <tr>\n",
       "      <th>1</th>\n",
       "      <td>Female</td>\n",
       "      <td>0.530</td>\n",
       "      <td>0.420</td>\n",
       "      <td>0.135</td>\n",
       "      <td>0.6770</td>\n",
       "      <td>0.2565</td>\n",
       "      <td>0.1415</td>\n",
       "      <td>0.2100</td>\n",
       "      <td>9.0</td>\n",
       "      <td>0.2100</td>\n",
       "      <td>False</td>\n",
       "    </tr>\n",
       "    <tr>\n",
       "      <th>2</th>\n",
       "      <td>Male</td>\n",
       "      <td>0.440</td>\n",
       "      <td>0.365</td>\n",
       "      <td>0.125</td>\n",
       "      <td>0.5160</td>\n",
       "      <td>0.2155</td>\n",
       "      <td>0.1140</td>\n",
       "      <td>0.1550</td>\n",
       "      <td>10.0</td>\n",
       "      <td>0.1825</td>\n",
       "      <td>True</td>\n",
       "    </tr>\n",
       "    <tr>\n",
       "      <th>3</th>\n",
       "      <td>Ibrid</td>\n",
       "      <td>0.330</td>\n",
       "      <td>0.255</td>\n",
       "      <td>0.080</td>\n",
       "      <td>0.2050</td>\n",
       "      <td>0.0895</td>\n",
       "      <td>0.0395</td>\n",
       "      <td>0.0550</td>\n",
       "      <td>7.0</td>\n",
       "      <td>0.1275</td>\n",
       "      <td>NaN</td>\n",
       "    </tr>\n",
       "    <tr>\n",
       "      <th>4</th>\n",
       "      <td>Ibrid</td>\n",
       "      <td>0.425</td>\n",
       "      <td>0.300</td>\n",
       "      <td>0.095</td>\n",
       "      <td>0.3515</td>\n",
       "      <td>0.1410</td>\n",
       "      <td>0.0775</td>\n",
       "      <td>0.1200</td>\n",
       "      <td>8.0</td>\n",
       "      <td>0.1500</td>\n",
       "      <td>NaN</td>\n",
       "    </tr>\n",
       "    <tr>\n",
       "      <th>...</th>\n",
       "      <td>...</td>\n",
       "      <td>...</td>\n",
       "      <td>...</td>\n",
       "      <td>...</td>\n",
       "      <td>...</td>\n",
       "      <td>...</td>\n",
       "      <td>...</td>\n",
       "      <td>...</td>\n",
       "      <td>...</td>\n",
       "      <td>...</td>\n",
       "      <td>...</td>\n",
       "    </tr>\n",
       "    <tr>\n",
       "      <th>4172</th>\n",
       "      <td>Male</td>\n",
       "      <td>0.590</td>\n",
       "      <td>0.440</td>\n",
       "      <td>0.135</td>\n",
       "      <td>0.9660</td>\n",
       "      <td>0.4390</td>\n",
       "      <td>0.2145</td>\n",
       "      <td>0.2605</td>\n",
       "      <td>10.0</td>\n",
       "      <td>0.2200</td>\n",
       "      <td>True</td>\n",
       "    </tr>\n",
       "    <tr>\n",
       "      <th>4173</th>\n",
       "      <td>Male</td>\n",
       "      <td>0.600</td>\n",
       "      <td>0.475</td>\n",
       "      <td>0.205</td>\n",
       "      <td>1.1760</td>\n",
       "      <td>0.5255</td>\n",
       "      <td>0.2875</td>\n",
       "      <td>0.3080</td>\n",
       "      <td>9.0</td>\n",
       "      <td>0.2375</td>\n",
       "      <td>True</td>\n",
       "    </tr>\n",
       "    <tr>\n",
       "      <th>4174</th>\n",
       "      <td>Female</td>\n",
       "      <td>0.625</td>\n",
       "      <td>0.485</td>\n",
       "      <td>0.150</td>\n",
       "      <td>1.0945</td>\n",
       "      <td>0.5310</td>\n",
       "      <td>0.2610</td>\n",
       "      <td>0.2960</td>\n",
       "      <td>10.0</td>\n",
       "      <td>0.2425</td>\n",
       "      <td>False</td>\n",
       "    </tr>\n",
       "    <tr>\n",
       "      <th>4175</th>\n",
       "      <td>Male</td>\n",
       "      <td>0.710</td>\n",
       "      <td>0.555</td>\n",
       "      <td>0.195</td>\n",
       "      <td>1.9485</td>\n",
       "      <td>0.9455</td>\n",
       "      <td>0.3765</td>\n",
       "      <td>0.4950</td>\n",
       "      <td>12.0</td>\n",
       "      <td>0.2775</td>\n",
       "      <td>True</td>\n",
       "    </tr>\n",
       "    <tr>\n",
       "      <th>4176</th>\n",
       "      <td>Male</td>\n",
       "      <td>0.800</td>\n",
       "      <td>0.300</td>\n",
       "      <td>0.500</td>\n",
       "      <td>NaN</td>\n",
       "      <td>NaN</td>\n",
       "      <td>NaN</td>\n",
       "      <td>NaN</td>\n",
       "      <td>NaN</td>\n",
       "      <td>NaN</td>\n",
       "      <td>NaN</td>\n",
       "    </tr>\n",
       "  </tbody>\n",
       "</table>\n",
       "<p>4177 rows × 11 columns</p>\n",
       "</div>"
      ],
      "text/plain": [
       "         Sex  Length  Diameter  Height  Whole_weight  Shucked_weight  \\\n",
       "0       Male   0.350     0.265   0.090        0.2255          0.0995   \n",
       "1     Female   0.530     0.420   0.135        0.6770          0.2565   \n",
       "2       Male   0.440     0.365   0.125        0.5160          0.2155   \n",
       "3      Ibrid   0.330     0.255   0.080        0.2050          0.0895   \n",
       "4      Ibrid   0.425     0.300   0.095        0.3515          0.1410   \n",
       "...      ...     ...       ...     ...           ...             ...   \n",
       "4172    Male   0.590     0.440   0.135        0.9660          0.4390   \n",
       "4173    Male   0.600     0.475   0.205        1.1760          0.5255   \n",
       "4174  Female   0.625     0.485   0.150        1.0945          0.5310   \n",
       "4175    Male   0.710     0.555   0.195        1.9485          0.9455   \n",
       "4176    Male   0.800     0.300   0.500           NaN             NaN   \n",
       "\n",
       "      Viscera_weight  Shell_weight  Rings  Radius Boolea_sex  \n",
       "0             0.0485        0.0700    7.0  0.1325       True  \n",
       "1             0.1415        0.2100    9.0  0.2100      False  \n",
       "2             0.1140        0.1550   10.0  0.1825       True  \n",
       "3             0.0395        0.0550    7.0  0.1275        NaN  \n",
       "4             0.0775        0.1200    8.0  0.1500        NaN  \n",
       "...              ...           ...    ...     ...        ...  \n",
       "4172          0.2145        0.2605   10.0  0.2200       True  \n",
       "4173          0.2875        0.3080    9.0  0.2375       True  \n",
       "4174          0.2610        0.2960   10.0  0.2425      False  \n",
       "4175          0.3765        0.4950   12.0  0.2775       True  \n",
       "4176             NaN           NaN    NaN     NaN        NaN  \n",
       "\n",
       "[4177 rows x 11 columns]"
      ]
     },
     "execution_count": 28,
     "metadata": {},
     "output_type": "execute_result"
    }
   ],
   "source": [
    "new_obs = {\"Sex\":\"Male\",\"Length\": 0.8, \"Diameter\":0.3, \"Height\":0.5}\n",
    "df.append(new_obs, ignore_index = True)"
   ]
  },
  {
   "cell_type": "markdown",
   "metadata": {},
   "source": [
    "another imporant remind is that we do not have the inplace argument, we must assign again our dataframe!"
   ]
  },
  {
   "cell_type": "code",
   "execution_count": 29,
   "metadata": {},
   "outputs": [
    {
     "data": {
      "text/html": [
       "<div>\n",
       "<style scoped>\n",
       "    .dataframe tbody tr th:only-of-type {\n",
       "        vertical-align: middle;\n",
       "    }\n",
       "\n",
       "    .dataframe tbody tr th {\n",
       "        vertical-align: top;\n",
       "    }\n",
       "\n",
       "    .dataframe thead th {\n",
       "        text-align: right;\n",
       "    }\n",
       "</style>\n",
       "<table border=\"1\" class=\"dataframe\">\n",
       "  <thead>\n",
       "    <tr style=\"text-align: right;\">\n",
       "      <th></th>\n",
       "      <th>Sex</th>\n",
       "      <th>Length</th>\n",
       "      <th>Diameter</th>\n",
       "      <th>Height</th>\n",
       "      <th>Whole_weight</th>\n",
       "      <th>Shucked_weight</th>\n",
       "      <th>Viscera_weight</th>\n",
       "      <th>Shell_weight</th>\n",
       "      <th>Rings</th>\n",
       "      <th>Radius</th>\n",
       "      <th>Boolea_sex</th>\n",
       "    </tr>\n",
       "  </thead>\n",
       "  <tbody>\n",
       "    <tr>\n",
       "      <th>4176</th>\n",
       "      <td>Male</td>\n",
       "      <td>0.8</td>\n",
       "      <td>0.3</td>\n",
       "      <td>0.5</td>\n",
       "      <td>NaN</td>\n",
       "      <td>NaN</td>\n",
       "      <td>NaN</td>\n",
       "      <td>NaN</td>\n",
       "      <td>NaN</td>\n",
       "      <td>NaN</td>\n",
       "      <td>NaN</td>\n",
       "    </tr>\n",
       "  </tbody>\n",
       "</table>\n",
       "</div>"
      ],
      "text/plain": [
       "       Sex  Length  Diameter  Height  Whole_weight  Shucked_weight  \\\n",
       "4176  Male     0.8       0.3     0.5           NaN             NaN   \n",
       "\n",
       "      Viscera_weight  Shell_weight  Rings  Radius Boolea_sex  \n",
       "4176             NaN           NaN    NaN     NaN        NaN  "
      ]
     },
     "execution_count": 29,
     "metadata": {},
     "output_type": "execute_result"
    }
   ],
   "source": [
    "df = df.append(new_obs, ignore_index = True) # now is implemented\n",
    "df.tail(1)"
   ]
  },
  {
   "cell_type": "markdown",
   "metadata": {},
   "source": [
    "## Sorting "
   ]
  },
  {
   "cell_type": "markdown",
   "metadata": {},
   "source": [
    "sort_values, we can just look at our sorted series by specifing inplace = False!"
   ]
  },
  {
   "cell_type": "code",
   "execution_count": 30,
   "metadata": {},
   "outputs": [],
   "source": [
    "df.sort_values(by = \"Radius\", inplace=True)"
   ]
  },
  {
   "cell_type": "code",
   "execution_count": 31,
   "metadata": {},
   "outputs": [
    {
     "data": {
      "text/plain": [
       "235     0.0275\n",
       "237     0.0450\n",
       "2113    0.0475\n",
       "718     0.0500\n",
       "236     0.0500\n",
       "         ...  \n",
       "2601       NaN\n",
       "2822       NaN\n",
       "3014       NaN\n",
       "3026       NaN\n",
       "4176       NaN\n",
       "Name: Radius, Length: 4177, dtype: float64"
      ]
     },
     "execution_count": 31,
     "metadata": {},
     "output_type": "execute_result"
    }
   ],
   "source": [
    "df[\"Radius\"].sort_values() # NaN is looked as float around 0"
   ]
  },
  {
   "cell_type": "code",
   "execution_count": 32,
   "metadata": {},
   "outputs": [
    {
     "data": {
      "text/plain": [
       "float"
      ]
     },
     "execution_count": 32,
     "metadata": {},
     "output_type": "execute_result"
    }
   ],
   "source": [
    "type(np.NaN) # VVVHAT"
   ]
  },
  {
   "cell_type": "code",
   "execution_count": 33,
   "metadata": {},
   "outputs": [
    {
     "data": {
      "text/html": [
       "<div>\n",
       "<style scoped>\n",
       "    .dataframe tbody tr th:only-of-type {\n",
       "        vertical-align: middle;\n",
       "    }\n",
       "\n",
       "    .dataframe tbody tr th {\n",
       "        vertical-align: top;\n",
       "    }\n",
       "\n",
       "    .dataframe thead th {\n",
       "        text-align: right;\n",
       "    }\n",
       "</style>\n",
       "<table border=\"1\" class=\"dataframe\">\n",
       "  <thead>\n",
       "    <tr style=\"text-align: right;\">\n",
       "      <th></th>\n",
       "      <th>Sex</th>\n",
       "      <th>Diameter</th>\n",
       "    </tr>\n",
       "  </thead>\n",
       "  <tbody>\n",
       "    <tr>\n",
       "      <th>333</th>\n",
       "      <td>Female</td>\n",
       "      <td>0.600</td>\n",
       "    </tr>\n",
       "    <tr>\n",
       "      <th>1422</th>\n",
       "      <td>Female</td>\n",
       "      <td>0.600</td>\n",
       "    </tr>\n",
       "    <tr>\n",
       "      <th>1050</th>\n",
       "      <td>Female</td>\n",
       "      <td>0.600</td>\n",
       "    </tr>\n",
       "    <tr>\n",
       "      <th>2367</th>\n",
       "      <td>Female</td>\n",
       "      <td>0.595</td>\n",
       "    </tr>\n",
       "    <tr>\n",
       "      <th>4105</th>\n",
       "      <td>Female</td>\n",
       "      <td>0.590</td>\n",
       "    </tr>\n",
       "    <tr>\n",
       "      <th>...</th>\n",
       "      <td>...</td>\n",
       "      <td>...</td>\n",
       "    </tr>\n",
       "    <tr>\n",
       "      <th>3317</th>\n",
       "      <td>Male</td>\n",
       "      <td>0.125</td>\n",
       "    </tr>\n",
       "    <tr>\n",
       "      <th>2370</th>\n",
       "      <td>Male</td>\n",
       "      <td>0.125</td>\n",
       "    </tr>\n",
       "    <tr>\n",
       "      <th>2380</th>\n",
       "      <td>Male</td>\n",
       "      <td>0.115</td>\n",
       "    </tr>\n",
       "    <tr>\n",
       "      <th>525</th>\n",
       "      <td>Male</td>\n",
       "      <td>0.110</td>\n",
       "    </tr>\n",
       "    <tr>\n",
       "      <th>2601</th>\n",
       "      <td>Male</td>\n",
       "      <td>NaN</td>\n",
       "    </tr>\n",
       "  </tbody>\n",
       "</table>\n",
       "<p>4177 rows × 2 columns</p>\n",
       "</div>"
      ],
      "text/plain": [
       "         Sex  Diameter\n",
       "333   Female     0.600\n",
       "1422  Female     0.600\n",
       "1050  Female     0.600\n",
       "2367  Female     0.595\n",
       "4105  Female     0.590\n",
       "...      ...       ...\n",
       "3317    Male     0.125\n",
       "2370    Male     0.125\n",
       "2380    Male     0.115\n",
       "525     Male     0.110\n",
       "2601    Male       NaN\n",
       "\n",
       "[4177 rows x 2 columns]"
      ]
     },
     "execution_count": 33,
     "metadata": {},
     "output_type": "execute_result"
    }
   ],
   "source": [
    "# to see multiple sorting columns we can specificy the ascending order for each of them\n",
    "df.sort_values(by=[\"Sex\",\"Diameter\"], ascending=[True,False], inplace = True)\n",
    "df[[\"Sex\",\"Diameter\"]] # sex is in ascending order while Diameter not!"
   ]
  },
  {
   "cell_type": "markdown",
   "metadata": {},
   "source": [
    "Then is possible to come back just by sorting with index!"
   ]
  },
  {
   "cell_type": "code",
   "execution_count": 34,
   "metadata": {},
   "outputs": [],
   "source": [
    "df.sort_index(inplace=True)"
   ]
  },
  {
   "cell_type": "markdown",
   "metadata": {},
   "source": [
    "# Statistsic"
   ]
  },
  {
   "cell_type": "markdown",
   "metadata": {},
   "source": [
    "as seen at the beginning we can perform a df.describe() operation wichi allow to see the main descriptive statistical feature of our df."
   ]
  },
  {
   "cell_type": "code",
   "execution_count": 35,
   "metadata": {},
   "outputs": [
    {
     "data": {
      "text/html": [
       "<div>\n",
       "<style scoped>\n",
       "    .dataframe tbody tr th:only-of-type {\n",
       "        vertical-align: middle;\n",
       "    }\n",
       "\n",
       "    .dataframe tbody tr th {\n",
       "        vertical-align: top;\n",
       "    }\n",
       "\n",
       "    .dataframe thead th {\n",
       "        text-align: right;\n",
       "    }\n",
       "</style>\n",
       "<table border=\"1\" class=\"dataframe\">\n",
       "  <thead>\n",
       "    <tr style=\"text-align: right;\">\n",
       "      <th></th>\n",
       "      <th>Length</th>\n",
       "      <th>Diameter</th>\n",
       "      <th>Height</th>\n",
       "      <th>Whole_weight</th>\n",
       "      <th>Shucked_weight</th>\n",
       "      <th>Viscera_weight</th>\n",
       "      <th>Shell_weight</th>\n",
       "      <th>Rings</th>\n",
       "      <th>Radius</th>\n",
       "    </tr>\n",
       "  </thead>\n",
       "  <tbody>\n",
       "    <tr>\n",
       "      <th>count</th>\n",
       "      <td>4177.000000</td>\n",
       "      <td>4169.000000</td>\n",
       "      <td>4177.000000</td>\n",
       "      <td>4176.000000</td>\n",
       "      <td>4176.00000</td>\n",
       "      <td>4168.000000</td>\n",
       "      <td>4176.000000</td>\n",
       "      <td>4176.000000</td>\n",
       "      <td>4168.000000</td>\n",
       "    </tr>\n",
       "    <tr>\n",
       "      <th>mean</th>\n",
       "      <td>0.524075</td>\n",
       "      <td>0.407318</td>\n",
       "      <td>0.139613</td>\n",
       "      <td>0.828818</td>\n",
       "      <td>0.35940</td>\n",
       "      <td>0.180480</td>\n",
       "      <td>0.238852</td>\n",
       "      <td>9.932471</td>\n",
       "      <td>0.203672</td>\n",
       "    </tr>\n",
       "    <tr>\n",
       "      <th>std</th>\n",
       "      <td>0.120164</td>\n",
       "      <td>0.098630</td>\n",
       "      <td>0.042192</td>\n",
       "      <td>0.490424</td>\n",
       "      <td>0.22198</td>\n",
       "      <td>0.109528</td>\n",
       "      <td>0.139213</td>\n",
       "      <td>3.223601</td>\n",
       "      <td>0.049314</td>\n",
       "    </tr>\n",
       "    <tr>\n",
       "      <th>min</th>\n",
       "      <td>0.075000</td>\n",
       "      <td>0.055000</td>\n",
       "      <td>0.000000</td>\n",
       "      <td>0.002000</td>\n",
       "      <td>0.00100</td>\n",
       "      <td>0.000500</td>\n",
       "      <td>0.001500</td>\n",
       "      <td>1.000000</td>\n",
       "      <td>0.027500</td>\n",
       "    </tr>\n",
       "    <tr>\n",
       "      <th>25%</th>\n",
       "      <td>0.450000</td>\n",
       "      <td>0.350000</td>\n",
       "      <td>0.115000</td>\n",
       "      <td>0.441500</td>\n",
       "      <td>0.18600</td>\n",
       "      <td>0.093000</td>\n",
       "      <td>0.130000</td>\n",
       "      <td>8.000000</td>\n",
       "      <td>0.175000</td>\n",
       "    </tr>\n",
       "    <tr>\n",
       "      <th>50%</th>\n",
       "      <td>0.545000</td>\n",
       "      <td>0.425000</td>\n",
       "      <td>0.140000</td>\n",
       "      <td>0.799750</td>\n",
       "      <td>0.33600</td>\n",
       "      <td>0.170750</td>\n",
       "      <td>0.234000</td>\n",
       "      <td>9.000000</td>\n",
       "      <td>0.212500</td>\n",
       "    </tr>\n",
       "    <tr>\n",
       "      <th>75%</th>\n",
       "      <td>0.615000</td>\n",
       "      <td>0.480000</td>\n",
       "      <td>0.165000</td>\n",
       "      <td>1.153250</td>\n",
       "      <td>0.50200</td>\n",
       "      <td>0.252625</td>\n",
       "      <td>0.329000</td>\n",
       "      <td>11.000000</td>\n",
       "      <td>0.240000</td>\n",
       "    </tr>\n",
       "    <tr>\n",
       "      <th>max</th>\n",
       "      <td>0.815000</td>\n",
       "      <td>0.600000</td>\n",
       "      <td>1.130000</td>\n",
       "      <td>2.825500</td>\n",
       "      <td>1.48800</td>\n",
       "      <td>0.760000</td>\n",
       "      <td>1.005000</td>\n",
       "      <td>29.000000</td>\n",
       "      <td>0.300000</td>\n",
       "    </tr>\n",
       "  </tbody>\n",
       "</table>\n",
       "</div>"
      ],
      "text/plain": [
       "            Length     Diameter       Height  Whole_weight  Shucked_weight  \\\n",
       "count  4177.000000  4169.000000  4177.000000   4176.000000      4176.00000   \n",
       "mean      0.524075     0.407318     0.139613      0.828818         0.35940   \n",
       "std       0.120164     0.098630     0.042192      0.490424         0.22198   \n",
       "min       0.075000     0.055000     0.000000      0.002000         0.00100   \n",
       "25%       0.450000     0.350000     0.115000      0.441500         0.18600   \n",
       "50%       0.545000     0.425000     0.140000      0.799750         0.33600   \n",
       "75%       0.615000     0.480000     0.165000      1.153250         0.50200   \n",
       "max       0.815000     0.600000     1.130000      2.825500         1.48800   \n",
       "\n",
       "       Viscera_weight  Shell_weight        Rings       Radius  \n",
       "count     4168.000000   4176.000000  4176.000000  4168.000000  \n",
       "mean         0.180480      0.238852     9.932471     0.203672  \n",
       "std          0.109528      0.139213     3.223601     0.049314  \n",
       "min          0.000500      0.001500     1.000000     0.027500  \n",
       "25%          0.093000      0.130000     8.000000     0.175000  \n",
       "50%          0.170750      0.234000     9.000000     0.212500  \n",
       "75%          0.252625      0.329000    11.000000     0.240000  \n",
       "max          0.760000      1.005000    29.000000     0.300000  "
      ]
     },
     "execution_count": 35,
     "metadata": {},
     "output_type": "execute_result"
    }
   ],
   "source": [
    "df.describe()"
   ]
  },
  {
   "cell_type": "markdown",
   "metadata": {},
   "source": [
    "## Basic descriptive statistic"
   ]
  },
  {
   "cell_type": "markdown",
   "metadata": {},
   "source": [
    "it is also possible to see other stuff with function that are implemented in pandas ( it is possible to perform them on the whole data.frame but also on a particular column ):"
   ]
  },
  {
   "cell_type": "code",
   "execution_count": 36,
   "metadata": {},
   "outputs": [
    {
     "name": "stdout",
     "output_type": "stream",
     "text": [
      "0.4904235478411501\n",
      "0.8288175287356346\n",
      "0.79975\n",
      "0.24051525627710083\n"
     ]
    }
   ],
   "source": [
    "print(df[\"Whole_weight\"].std())\n",
    "print(df[\"Whole_weight\"].mean()) # automatically remove NA's in the count\n",
    "print(df[\"Whole_weight\"].median())\n",
    "print(df[\"Whole_weight\"].var())"
   ]
  },
  {
   "cell_type": "code",
   "execution_count": 37,
   "metadata": {},
   "outputs": [
    {
     "data": {
      "text/plain": [
       "890     2.8255\n",
       "1762    2.7795\n",
       "Name: Whole_weight, dtype: float64"
      ]
     },
     "execution_count": 37,
     "metadata": {},
     "output_type": "execute_result"
    }
   ],
   "source": [
    "df[\"Whole_weight\"].nlargest(2) # dieci più grandi"
   ]
  },
  {
   "cell_type": "code",
   "execution_count": 38,
   "metadata": {},
   "outputs": [
    {
     "data": {
      "text/plain": [
       "235     0.0020\n",
       "237     0.0080\n",
       "2113    0.0105\n",
       "Name: Whole_weight, dtype: float64"
      ]
     },
     "execution_count": 38,
     "metadata": {},
     "output_type": "execute_result"
    }
   ],
   "source": [
    "df[\"Whole_weight\"].nsmallest(3)"
   ]
  },
  {
   "cell_type": "code",
   "execution_count": 39,
   "metadata": {},
   "outputs": [
    {
     "data": {
      "text/plain": [
       "Length             0.615000\n",
       "Diameter           0.480000\n",
       "Height             0.165000\n",
       "Whole_weight       1.153250\n",
       "Shucked_weight     0.502000\n",
       "Viscera_weight     0.252625\n",
       "Shell_weight       0.329000\n",
       "Rings             11.000000\n",
       "Radius             0.240000\n",
       "Name: 0.75, dtype: float64"
      ]
     },
     "execution_count": 39,
     "metadata": {},
     "output_type": "execute_result"
    }
   ],
   "source": [
    "df.quantile(0.75) # specify the quantile"
   ]
  },
  {
   "cell_type": "code",
   "execution_count": 40,
   "metadata": {},
   "outputs": [
    {
     "data": {
      "text/plain": [
       "0.002"
      ]
     },
     "execution_count": 40,
     "metadata": {},
     "output_type": "execute_result"
    }
   ],
   "source": [
    "df[\"Whole_weight\"].max()\n",
    "df[\"Whole_weight\"].min()"
   ]
  },
  {
   "cell_type": "code",
   "execution_count": 41,
   "metadata": {},
   "outputs": [
    {
     "data": {
      "text/plain": [
       "890"
      ]
     },
     "execution_count": 41,
     "metadata": {},
     "output_type": "execute_result"
    }
   ],
   "source": [
    "df[\"Whole_weight\"].idxmax() # return the index of the max_value"
   ]
  },
  {
   "cell_type": "code",
   "execution_count": 42,
   "metadata": {},
   "outputs": [
    {
     "data": {
      "text/plain": [
       "2.8255"
      ]
     },
     "execution_count": 42,
     "metadata": {},
     "output_type": "execute_result"
    }
   ],
   "source": [
    "df[\"Whole_weight\"].loc[df[\"Whole_weight\"].idxmax() ]"
   ]
  },
  {
   "cell_type": "markdown",
   "metadata": {},
   "source": [
    "is also possible to sum up all a pd.series using the implemented funcition in python but also with the implemented function in pandas which do more stuff as removing Na's and so on."
   ]
  },
  {
   "cell_type": "code",
   "execution_count": 43,
   "metadata": {},
   "outputs": [
    {
     "name": "stdout",
     "output_type": "stream",
     "text": [
      "nan\n"
     ]
    },
    {
     "data": {
      "text/plain": [
       "3461.142"
      ]
     },
     "execution_count": 43,
     "metadata": {},
     "output_type": "execute_result"
    }
   ],
   "source": [
    "print(sum(df[\"Whole_weight\"]))\n",
    "df[\"Whole_weight\"].sum()"
   ]
  },
  {
   "cell_type": "markdown",
   "metadata": {},
   "source": [
    "## Data aggregating"
   ]
  },
  {
   "cell_type": "markdown",
   "metadata": {},
   "source": [
    "Start from a simple table, the function value_counts return the value and the number of occurence of that particular values! with unique we see the unique value while under the count of those."
   ]
  },
  {
   "cell_type": "code",
   "execution_count": 44,
   "metadata": {},
   "outputs": [
    {
     "name": "stdout",
     "output_type": "stream",
     "text": [
      "['Male' 'Female' 'Ibrid']\n"
     ]
    },
    {
     "data": {
      "text/plain": [
       "Male      1528\n",
       "Ibrid     1342\n",
       "Female    1307\n",
       "Name: Sex, dtype: int64"
      ]
     },
     "execution_count": 44,
     "metadata": {},
     "output_type": "execute_result"
    }
   ],
   "source": [
    "print(df[\"Sex\"].unique())\n",
    "df[\"Sex\"].value_counts()"
   ]
  },
  {
   "cell_type": "markdown",
   "metadata": {},
   "source": [
    "is also possible to normalize this table in order to have the proportion by adding an arugment:"
   ]
  },
  {
   "cell_type": "code",
   "execution_count": 45,
   "metadata": {},
   "outputs": [
    {
     "data": {
      "text/plain": [
       "Male      0.365813\n",
       "Ibrid     0.321283\n",
       "Female    0.312904\n",
       "Name: Sex, dtype: float64"
      ]
     },
     "execution_count": 45,
     "metadata": {},
     "output_type": "execute_result"
    }
   ],
   "source": [
    "df[\"Sex\"].value_counts(normalize = True)"
   ]
  },
  {
   "cell_type": "markdown",
   "metadata": {},
   "source": [
    "## Groupby"
   ]
  },
  {
   "cell_type": "markdown",
   "metadata": {},
   "source": [
    "with the groupby fucntion we can aggregate our dataframe. we basically split the object according to some variable or condition. for our df is pretty useful to see the value of each variable according to the sex."
   ]
  },
  {
   "cell_type": "code",
   "execution_count": 46,
   "metadata": {},
   "outputs": [],
   "source": [
    "Sex_abalone = df.groupby([\"Sex\"])"
   ]
  },
  {
   "cell_type": "code",
   "execution_count": 47,
   "metadata": {},
   "outputs": [
    {
     "data": {
      "text/html": [
       "<div>\n",
       "<style scoped>\n",
       "    .dataframe tbody tr th:only-of-type {\n",
       "        vertical-align: middle;\n",
       "    }\n",
       "\n",
       "    .dataframe tbody tr th {\n",
       "        vertical-align: top;\n",
       "    }\n",
       "\n",
       "    .dataframe thead tr th {\n",
       "        text-align: left;\n",
       "    }\n",
       "\n",
       "    .dataframe thead tr:last-of-type th {\n",
       "        text-align: right;\n",
       "    }\n",
       "</style>\n",
       "<table border=\"1\" class=\"dataframe\">\n",
       "  <thead>\n",
       "    <tr>\n",
       "      <th></th>\n",
       "      <th colspan=\"8\" halign=\"left\">Length</th>\n",
       "      <th colspan=\"2\" halign=\"left\">Diameter</th>\n",
       "      <th>...</th>\n",
       "      <th colspan=\"2\" halign=\"left\">Rings</th>\n",
       "      <th colspan=\"8\" halign=\"left\">Radius</th>\n",
       "    </tr>\n",
       "    <tr>\n",
       "      <th></th>\n",
       "      <th>count</th>\n",
       "      <th>mean</th>\n",
       "      <th>std</th>\n",
       "      <th>min</th>\n",
       "      <th>25%</th>\n",
       "      <th>50%</th>\n",
       "      <th>75%</th>\n",
       "      <th>max</th>\n",
       "      <th>count</th>\n",
       "      <th>mean</th>\n",
       "      <th>...</th>\n",
       "      <th>75%</th>\n",
       "      <th>max</th>\n",
       "      <th>count</th>\n",
       "      <th>mean</th>\n",
       "      <th>std</th>\n",
       "      <th>min</th>\n",
       "      <th>25%</th>\n",
       "      <th>50%</th>\n",
       "      <th>75%</th>\n",
       "      <th>max</th>\n",
       "    </tr>\n",
       "    <tr>\n",
       "      <th>Sex</th>\n",
       "      <th></th>\n",
       "      <th></th>\n",
       "      <th></th>\n",
       "      <th></th>\n",
       "      <th></th>\n",
       "      <th></th>\n",
       "      <th></th>\n",
       "      <th></th>\n",
       "      <th></th>\n",
       "      <th></th>\n",
       "      <th></th>\n",
       "      <th></th>\n",
       "      <th></th>\n",
       "      <th></th>\n",
       "      <th></th>\n",
       "      <th></th>\n",
       "      <th></th>\n",
       "      <th></th>\n",
       "      <th></th>\n",
       "      <th></th>\n",
       "      <th></th>\n",
       "    </tr>\n",
       "  </thead>\n",
       "  <tbody>\n",
       "    <tr>\n",
       "      <th>Female</th>\n",
       "      <td>1307.0</td>\n",
       "      <td>0.579093</td>\n",
       "      <td>0.086160</td>\n",
       "      <td>0.275</td>\n",
       "      <td>0.525</td>\n",
       "      <td>0.590</td>\n",
       "      <td>0.64</td>\n",
       "      <td>0.815</td>\n",
       "      <td>1304.0</td>\n",
       "      <td>0.453641</td>\n",
       "      <td>...</td>\n",
       "      <td>12.0</td>\n",
       "      <td>29.0</td>\n",
       "      <td>1304.0</td>\n",
       "      <td>0.226820</td>\n",
       "      <td>0.035007</td>\n",
       "      <td>0.0975</td>\n",
       "      <td>0.2050</td>\n",
       "      <td>0.2325</td>\n",
       "      <td>0.250000</td>\n",
       "      <td>0.300</td>\n",
       "    </tr>\n",
       "    <tr>\n",
       "      <th>Ibrid</th>\n",
       "      <td>1342.0</td>\n",
       "      <td>0.427746</td>\n",
       "      <td>0.108858</td>\n",
       "      <td>0.075</td>\n",
       "      <td>0.360</td>\n",
       "      <td>0.435</td>\n",
       "      <td>0.51</td>\n",
       "      <td>0.725</td>\n",
       "      <td>1338.0</td>\n",
       "      <td>0.326525</td>\n",
       "      <td>...</td>\n",
       "      <td>9.0</td>\n",
       "      <td>21.0</td>\n",
       "      <td>1338.0</td>\n",
       "      <td>0.163262</td>\n",
       "      <td>0.044087</td>\n",
       "      <td>0.0275</td>\n",
       "      <td>0.1350</td>\n",
       "      <td>0.1675</td>\n",
       "      <td>0.196875</td>\n",
       "      <td>0.275</td>\n",
       "    </tr>\n",
       "    <tr>\n",
       "      <th>Male</th>\n",
       "      <td>1528.0</td>\n",
       "      <td>0.561616</td>\n",
       "      <td>0.102842</td>\n",
       "      <td>0.155</td>\n",
       "      <td>0.505</td>\n",
       "      <td>0.580</td>\n",
       "      <td>0.63</td>\n",
       "      <td>0.800</td>\n",
       "      <td>1527.0</td>\n",
       "      <td>0.438552</td>\n",
       "      <td>...</td>\n",
       "      <td>12.0</td>\n",
       "      <td>27.0</td>\n",
       "      <td>1526.0</td>\n",
       "      <td>0.219322</td>\n",
       "      <td>0.041928</td>\n",
       "      <td>0.0550</td>\n",
       "      <td>0.1975</td>\n",
       "      <td>0.2275</td>\n",
       "      <td>0.247500</td>\n",
       "      <td>0.300</td>\n",
       "    </tr>\n",
       "  </tbody>\n",
       "</table>\n",
       "<p>3 rows × 72 columns</p>\n",
       "</div>"
      ],
      "text/plain": [
       "        Length                                                       Diameter  \\\n",
       "         count      mean       std    min    25%    50%   75%    max    count   \n",
       "Sex                                                                             \n",
       "Female  1307.0  0.579093  0.086160  0.275  0.525  0.590  0.64  0.815   1304.0   \n",
       "Ibrid   1342.0  0.427746  0.108858  0.075  0.360  0.435  0.51  0.725   1338.0   \n",
       "Male    1528.0  0.561616  0.102842  0.155  0.505  0.580  0.63  0.800   1527.0   \n",
       "\n",
       "                  ... Rings        Radius                                      \\\n",
       "            mean  ...   75%   max   count      mean       std     min     25%   \n",
       "Sex               ...                                                           \n",
       "Female  0.453641  ...  12.0  29.0  1304.0  0.226820  0.035007  0.0975  0.2050   \n",
       "Ibrid   0.326525  ...   9.0  21.0  1338.0  0.163262  0.044087  0.0275  0.1350   \n",
       "Male    0.438552  ...  12.0  27.0  1526.0  0.219322  0.041928  0.0550  0.1975   \n",
       "\n",
       "                                 \n",
       "           50%       75%    max  \n",
       "Sex                              \n",
       "Female  0.2325  0.250000  0.300  \n",
       "Ibrid   0.1675  0.196875  0.275  \n",
       "Male    0.2275  0.247500  0.300  \n",
       "\n",
       "[3 rows x 72 columns]"
      ]
     },
     "execution_count": 47,
     "metadata": {},
     "output_type": "execute_result"
    }
   ],
   "source": [
    "Sex_abalone.describe()"
   ]
  },
  {
   "cell_type": "code",
   "execution_count": 48,
   "metadata": {},
   "outputs": [
    {
     "data": {
      "text/html": [
       "<div>\n",
       "<style scoped>\n",
       "    .dataframe tbody tr th:only-of-type {\n",
       "        vertical-align: middle;\n",
       "    }\n",
       "\n",
       "    .dataframe tbody tr th {\n",
       "        vertical-align: top;\n",
       "    }\n",
       "\n",
       "    .dataframe thead th {\n",
       "        text-align: right;\n",
       "    }\n",
       "</style>\n",
       "<table border=\"1\" class=\"dataframe\">\n",
       "  <thead>\n",
       "    <tr style=\"text-align: right;\">\n",
       "      <th></th>\n",
       "      <th>Diameter</th>\n",
       "      <th>Radius</th>\n",
       "    </tr>\n",
       "    <tr>\n",
       "      <th>Sex</th>\n",
       "      <th></th>\n",
       "      <th></th>\n",
       "    </tr>\n",
       "  </thead>\n",
       "  <tbody>\n",
       "    <tr>\n",
       "      <th>Female</th>\n",
       "      <td>0.465</td>\n",
       "      <td>0.2325</td>\n",
       "    </tr>\n",
       "    <tr>\n",
       "      <th>Ibrid</th>\n",
       "      <td>0.335</td>\n",
       "      <td>0.1675</td>\n",
       "    </tr>\n",
       "    <tr>\n",
       "      <th>Male</th>\n",
       "      <td>0.455</td>\n",
       "      <td>0.2275</td>\n",
       "    </tr>\n",
       "  </tbody>\n",
       "</table>\n",
       "</div>"
      ],
      "text/plain": [
       "        Diameter  Radius\n",
       "Sex                     \n",
       "Female     0.465  0.2325\n",
       "Ibrid      0.335  0.1675\n",
       "Male       0.455  0.2275"
      ]
     },
     "execution_count": 48,
     "metadata": {},
     "output_type": "execute_result"
    }
   ],
   "source": [
    "Sex_abalone[[\"Diameter\",\"Radius\"]].median()"
   ]
  },
  {
   "cell_type": "markdown",
   "metadata": {},
   "source": [
    "we can ever pass a list of function to perform using the command agg"
   ]
  },
  {
   "cell_type": "code",
   "execution_count": 49,
   "metadata": {},
   "outputs": [
    {
     "data": {
      "text/html": [
       "<div>\n",
       "<style scoped>\n",
       "    .dataframe tbody tr th:only-of-type {\n",
       "        vertical-align: middle;\n",
       "    }\n",
       "\n",
       "    .dataframe tbody tr th {\n",
       "        vertical-align: top;\n",
       "    }\n",
       "\n",
       "    .dataframe thead tr th {\n",
       "        text-align: left;\n",
       "    }\n",
       "\n",
       "    .dataframe thead tr:last-of-type th {\n",
       "        text-align: right;\n",
       "    }\n",
       "</style>\n",
       "<table border=\"1\" class=\"dataframe\">\n",
       "  <thead>\n",
       "    <tr>\n",
       "      <th></th>\n",
       "      <th colspan=\"3\" halign=\"left\">Diameter</th>\n",
       "      <th colspan=\"3\" halign=\"left\">Radius</th>\n",
       "    </tr>\n",
       "    <tr>\n",
       "      <th></th>\n",
       "      <th>mean</th>\n",
       "      <th>median</th>\n",
       "      <th>std</th>\n",
       "      <th>mean</th>\n",
       "      <th>median</th>\n",
       "      <th>std</th>\n",
       "    </tr>\n",
       "    <tr>\n",
       "      <th>Sex</th>\n",
       "      <th></th>\n",
       "      <th></th>\n",
       "      <th></th>\n",
       "      <th></th>\n",
       "      <th></th>\n",
       "      <th></th>\n",
       "    </tr>\n",
       "  </thead>\n",
       "  <tbody>\n",
       "    <tr>\n",
       "      <th>Female</th>\n",
       "      <td>0.453641</td>\n",
       "      <td>0.465</td>\n",
       "      <td>0.070014</td>\n",
       "      <td>0.226820</td>\n",
       "      <td>0.2325</td>\n",
       "      <td>0.035007</td>\n",
       "    </tr>\n",
       "    <tr>\n",
       "      <th>Ibrid</th>\n",
       "      <td>0.326525</td>\n",
       "      <td>0.335</td>\n",
       "      <td>0.088173</td>\n",
       "      <td>0.163262</td>\n",
       "      <td>0.1675</td>\n",
       "      <td>0.044087</td>\n",
       "    </tr>\n",
       "    <tr>\n",
       "      <th>Male</th>\n",
       "      <td>0.438552</td>\n",
       "      <td>0.455</td>\n",
       "      <td>0.083903</td>\n",
       "      <td>0.219322</td>\n",
       "      <td>0.2275</td>\n",
       "      <td>0.041928</td>\n",
       "    </tr>\n",
       "  </tbody>\n",
       "</table>\n",
       "</div>"
      ],
      "text/plain": [
       "        Diameter                     Radius                  \n",
       "            mean median       std      mean  median       std\n",
       "Sex                                                          \n",
       "Female  0.453641  0.465  0.070014  0.226820  0.2325  0.035007\n",
       "Ibrid   0.326525  0.335  0.088173  0.163262  0.1675  0.044087\n",
       "Male    0.438552  0.455  0.083903  0.219322  0.2275  0.041928"
      ]
     },
     "execution_count": 49,
     "metadata": {},
     "output_type": "execute_result"
    }
   ],
   "source": [
    "Sex_abalone[[\"Diameter\",\"Radius\"]].agg([\"mean\",\"median\",\"std\"])"
   ]
  },
  {
   "cell_type": "markdown",
   "metadata": {},
   "source": [
    "Having splitted the dataframe intog group we can perform task regarding only some of the data in which we are interested in! for instance if we are interested only in the male abalone we can get that group and then performing operation only on that one!"
   ]
  },
  {
   "cell_type": "code",
   "execution_count": 50,
   "metadata": {},
   "outputs": [
    {
     "data": {
      "text/html": [
       "<div>\n",
       "<style scoped>\n",
       "    .dataframe tbody tr th:only-of-type {\n",
       "        vertical-align: middle;\n",
       "    }\n",
       "\n",
       "    .dataframe tbody tr th {\n",
       "        vertical-align: top;\n",
       "    }\n",
       "\n",
       "    .dataframe thead th {\n",
       "        text-align: right;\n",
       "    }\n",
       "</style>\n",
       "<table border=\"1\" class=\"dataframe\">\n",
       "  <thead>\n",
       "    <tr style=\"text-align: right;\">\n",
       "      <th></th>\n",
       "      <th>Sex</th>\n",
       "      <th>Length</th>\n",
       "      <th>Diameter</th>\n",
       "      <th>Height</th>\n",
       "      <th>Whole_weight</th>\n",
       "      <th>Shucked_weight</th>\n",
       "      <th>Viscera_weight</th>\n",
       "      <th>Shell_weight</th>\n",
       "      <th>Rings</th>\n",
       "      <th>Radius</th>\n",
       "      <th>Boolea_sex</th>\n",
       "    </tr>\n",
       "  </thead>\n",
       "  <tbody>\n",
       "    <tr>\n",
       "      <th>0</th>\n",
       "      <td>Male</td>\n",
       "      <td>0.350</td>\n",
       "      <td>0.265</td>\n",
       "      <td>0.090</td>\n",
       "      <td>0.2255</td>\n",
       "      <td>0.0995</td>\n",
       "      <td>0.0485</td>\n",
       "      <td>0.0700</td>\n",
       "      <td>7.0</td>\n",
       "      <td>0.1325</td>\n",
       "      <td>True</td>\n",
       "    </tr>\n",
       "    <tr>\n",
       "      <th>2</th>\n",
       "      <td>Male</td>\n",
       "      <td>0.440</td>\n",
       "      <td>0.365</td>\n",
       "      <td>0.125</td>\n",
       "      <td>0.5160</td>\n",
       "      <td>0.2155</td>\n",
       "      <td>0.1140</td>\n",
       "      <td>0.1550</td>\n",
       "      <td>10.0</td>\n",
       "      <td>0.1825</td>\n",
       "      <td>True</td>\n",
       "    </tr>\n",
       "    <tr>\n",
       "      <th>7</th>\n",
       "      <td>Male</td>\n",
       "      <td>0.475</td>\n",
       "      <td>0.370</td>\n",
       "      <td>0.125</td>\n",
       "      <td>0.5095</td>\n",
       "      <td>0.2165</td>\n",
       "      <td>0.1125</td>\n",
       "      <td>0.1650</td>\n",
       "      <td>9.0</td>\n",
       "      <td>0.1850</td>\n",
       "      <td>True</td>\n",
       "    </tr>\n",
       "    <tr>\n",
       "      <th>10</th>\n",
       "      <td>Male</td>\n",
       "      <td>0.430</td>\n",
       "      <td>0.350</td>\n",
       "      <td>0.110</td>\n",
       "      <td>0.4060</td>\n",
       "      <td>0.1675</td>\n",
       "      <td>0.0810</td>\n",
       "      <td>0.1350</td>\n",
       "      <td>10.0</td>\n",
       "      <td>0.1750</td>\n",
       "      <td>True</td>\n",
       "    </tr>\n",
       "    <tr>\n",
       "      <th>11</th>\n",
       "      <td>Male</td>\n",
       "      <td>0.490</td>\n",
       "      <td>0.380</td>\n",
       "      <td>0.135</td>\n",
       "      <td>0.5415</td>\n",
       "      <td>0.2175</td>\n",
       "      <td>0.0950</td>\n",
       "      <td>0.1900</td>\n",
       "      <td>11.0</td>\n",
       "      <td>0.1900</td>\n",
       "      <td>True</td>\n",
       "    </tr>\n",
       "    <tr>\n",
       "      <th>...</th>\n",
       "      <td>...</td>\n",
       "      <td>...</td>\n",
       "      <td>...</td>\n",
       "      <td>...</td>\n",
       "      <td>...</td>\n",
       "      <td>...</td>\n",
       "      <td>...</td>\n",
       "      <td>...</td>\n",
       "      <td>...</td>\n",
       "      <td>...</td>\n",
       "      <td>...</td>\n",
       "    </tr>\n",
       "    <tr>\n",
       "      <th>4170</th>\n",
       "      <td>Male</td>\n",
       "      <td>0.560</td>\n",
       "      <td>0.430</td>\n",
       "      <td>0.155</td>\n",
       "      <td>0.8675</td>\n",
       "      <td>0.4000</td>\n",
       "      <td>0.1720</td>\n",
       "      <td>0.2290</td>\n",
       "      <td>8.0</td>\n",
       "      <td>0.2150</td>\n",
       "      <td>True</td>\n",
       "    </tr>\n",
       "    <tr>\n",
       "      <th>4172</th>\n",
       "      <td>Male</td>\n",
       "      <td>0.590</td>\n",
       "      <td>0.440</td>\n",
       "      <td>0.135</td>\n",
       "      <td>0.9660</td>\n",
       "      <td>0.4390</td>\n",
       "      <td>0.2145</td>\n",
       "      <td>0.2605</td>\n",
       "      <td>10.0</td>\n",
       "      <td>0.2200</td>\n",
       "      <td>True</td>\n",
       "    </tr>\n",
       "    <tr>\n",
       "      <th>4173</th>\n",
       "      <td>Male</td>\n",
       "      <td>0.600</td>\n",
       "      <td>0.475</td>\n",
       "      <td>0.205</td>\n",
       "      <td>1.1760</td>\n",
       "      <td>0.5255</td>\n",
       "      <td>0.2875</td>\n",
       "      <td>0.3080</td>\n",
       "      <td>9.0</td>\n",
       "      <td>0.2375</td>\n",
       "      <td>True</td>\n",
       "    </tr>\n",
       "    <tr>\n",
       "      <th>4175</th>\n",
       "      <td>Male</td>\n",
       "      <td>0.710</td>\n",
       "      <td>0.555</td>\n",
       "      <td>0.195</td>\n",
       "      <td>1.9485</td>\n",
       "      <td>0.9455</td>\n",
       "      <td>0.3765</td>\n",
       "      <td>0.4950</td>\n",
       "      <td>12.0</td>\n",
       "      <td>0.2775</td>\n",
       "      <td>True</td>\n",
       "    </tr>\n",
       "    <tr>\n",
       "      <th>4176</th>\n",
       "      <td>Male</td>\n",
       "      <td>0.800</td>\n",
       "      <td>0.300</td>\n",
       "      <td>0.500</td>\n",
       "      <td>NaN</td>\n",
       "      <td>NaN</td>\n",
       "      <td>NaN</td>\n",
       "      <td>NaN</td>\n",
       "      <td>NaN</td>\n",
       "      <td>NaN</td>\n",
       "      <td>NaN</td>\n",
       "    </tr>\n",
       "  </tbody>\n",
       "</table>\n",
       "<p>1528 rows × 11 columns</p>\n",
       "</div>"
      ],
      "text/plain": [
       "       Sex  Length  Diameter  Height  Whole_weight  Shucked_weight  \\\n",
       "0     Male   0.350     0.265   0.090        0.2255          0.0995   \n",
       "2     Male   0.440     0.365   0.125        0.5160          0.2155   \n",
       "7     Male   0.475     0.370   0.125        0.5095          0.2165   \n",
       "10    Male   0.430     0.350   0.110        0.4060          0.1675   \n",
       "11    Male   0.490     0.380   0.135        0.5415          0.2175   \n",
       "...    ...     ...       ...     ...           ...             ...   \n",
       "4170  Male   0.560     0.430   0.155        0.8675          0.4000   \n",
       "4172  Male   0.590     0.440   0.135        0.9660          0.4390   \n",
       "4173  Male   0.600     0.475   0.205        1.1760          0.5255   \n",
       "4175  Male   0.710     0.555   0.195        1.9485          0.9455   \n",
       "4176  Male   0.800     0.300   0.500           NaN             NaN   \n",
       "\n",
       "      Viscera_weight  Shell_weight  Rings  Radius Boolea_sex  \n",
       "0             0.0485        0.0700    7.0  0.1325       True  \n",
       "2             0.1140        0.1550   10.0  0.1825       True  \n",
       "7             0.1125        0.1650    9.0  0.1850       True  \n",
       "10            0.0810        0.1350   10.0  0.1750       True  \n",
       "11            0.0950        0.1900   11.0  0.1900       True  \n",
       "...              ...           ...    ...     ...        ...  \n",
       "4170          0.1720        0.2290    8.0  0.2150       True  \n",
       "4172          0.2145        0.2605   10.0  0.2200       True  \n",
       "4173          0.2875        0.3080    9.0  0.2375       True  \n",
       "4175          0.3765        0.4950   12.0  0.2775       True  \n",
       "4176             NaN           NaN    NaN     NaN        NaN  \n",
       "\n",
       "[1528 rows x 11 columns]"
      ]
     },
     "execution_count": 50,
     "metadata": {},
     "output_type": "execute_result"
    }
   ],
   "source": [
    "Sex_abalone.get_group(\"Male\") # only with the sex \"m\""
   ]
  },
  {
   "cell_type": "code",
   "execution_count": 51,
   "metadata": {},
   "outputs": [
    {
     "data": {
      "text/html": [
       "<div>\n",
       "<style scoped>\n",
       "    .dataframe tbody tr th:only-of-type {\n",
       "        vertical-align: middle;\n",
       "    }\n",
       "\n",
       "    .dataframe tbody tr th {\n",
       "        vertical-align: top;\n",
       "    }\n",
       "\n",
       "    .dataframe thead th {\n",
       "        text-align: right;\n",
       "    }\n",
       "</style>\n",
       "<table border=\"1\" class=\"dataframe\">\n",
       "  <thead>\n",
       "    <tr style=\"text-align: right;\">\n",
       "      <th></th>\n",
       "      <th>Length</th>\n",
       "      <th>Diameter</th>\n",
       "      <th>Height</th>\n",
       "      <th>Whole_weight</th>\n",
       "      <th>Shucked_weight</th>\n",
       "      <th>Viscera_weight</th>\n",
       "      <th>Shell_weight</th>\n",
       "      <th>Rings</th>\n",
       "      <th>Radius</th>\n",
       "    </tr>\n",
       "  </thead>\n",
       "  <tbody>\n",
       "    <tr>\n",
       "      <th>count</th>\n",
       "      <td>1528.000000</td>\n",
       "      <td>1527.000000</td>\n",
       "      <td>1528.000000</td>\n",
       "      <td>1527.000000</td>\n",
       "      <td>1527.000000</td>\n",
       "      <td>1523.000000</td>\n",
       "      <td>1527.000000</td>\n",
       "      <td>1527.000000</td>\n",
       "      <td>1526.000000</td>\n",
       "    </tr>\n",
       "    <tr>\n",
       "      <th>mean</th>\n",
       "      <td>0.561616</td>\n",
       "      <td>0.438552</td>\n",
       "      <td>0.151646</td>\n",
       "      <td>0.991772</td>\n",
       "      <td>0.433083</td>\n",
       "      <td>0.215256</td>\n",
       "      <td>0.282056</td>\n",
       "      <td>10.702685</td>\n",
       "      <td>0.219322</td>\n",
       "    </tr>\n",
       "    <tr>\n",
       "      <th>std</th>\n",
       "      <td>0.102842</td>\n",
       "      <td>0.083903</td>\n",
       "      <td>0.035900</td>\n",
       "      <td>0.470577</td>\n",
       "      <td>0.223009</td>\n",
       "      <td>0.104709</td>\n",
       "      <td>0.130833</td>\n",
       "      <td>3.025343</td>\n",
       "      <td>0.041928</td>\n",
       "    </tr>\n",
       "    <tr>\n",
       "      <th>min</th>\n",
       "      <td>0.155000</td>\n",
       "      <td>0.110000</td>\n",
       "      <td>0.025000</td>\n",
       "      <td>0.015500</td>\n",
       "      <td>0.006500</td>\n",
       "      <td>0.003000</td>\n",
       "      <td>0.005000</td>\n",
       "      <td>3.000000</td>\n",
       "      <td>0.055000</td>\n",
       "    </tr>\n",
       "    <tr>\n",
       "      <th>25%</th>\n",
       "      <td>0.505000</td>\n",
       "      <td>0.395000</td>\n",
       "      <td>0.130000</td>\n",
       "      <td>0.673250</td>\n",
       "      <td>0.276750</td>\n",
       "      <td>0.145750</td>\n",
       "      <td>0.190000</td>\n",
       "      <td>9.000000</td>\n",
       "      <td>0.197500</td>\n",
       "    </tr>\n",
       "    <tr>\n",
       "      <th>50%</th>\n",
       "      <td>0.580000</td>\n",
       "      <td>0.455000</td>\n",
       "      <td>0.155000</td>\n",
       "      <td>0.976000</td>\n",
       "      <td>0.422000</td>\n",
       "      <td>0.209500</td>\n",
       "      <td>0.276000</td>\n",
       "      <td>10.000000</td>\n",
       "      <td>0.227500</td>\n",
       "    </tr>\n",
       "    <tr>\n",
       "      <th>75%</th>\n",
       "      <td>0.630000</td>\n",
       "      <td>0.495000</td>\n",
       "      <td>0.175000</td>\n",
       "      <td>1.265750</td>\n",
       "      <td>0.566000</td>\n",
       "      <td>0.277500</td>\n",
       "      <td>0.355500</td>\n",
       "      <td>12.000000</td>\n",
       "      <td>0.247500</td>\n",
       "    </tr>\n",
       "    <tr>\n",
       "      <th>max</th>\n",
       "      <td>0.800000</td>\n",
       "      <td>0.600000</td>\n",
       "      <td>0.515000</td>\n",
       "      <td>2.825500</td>\n",
       "      <td>1.351000</td>\n",
       "      <td>0.760000</td>\n",
       "      <td>0.897000</td>\n",
       "      <td>27.000000</td>\n",
       "      <td>0.300000</td>\n",
       "    </tr>\n",
       "  </tbody>\n",
       "</table>\n",
       "</div>"
      ],
      "text/plain": [
       "            Length     Diameter       Height  Whole_weight  Shucked_weight  \\\n",
       "count  1528.000000  1527.000000  1528.000000   1527.000000     1527.000000   \n",
       "mean      0.561616     0.438552     0.151646      0.991772        0.433083   \n",
       "std       0.102842     0.083903     0.035900      0.470577        0.223009   \n",
       "min       0.155000     0.110000     0.025000      0.015500        0.006500   \n",
       "25%       0.505000     0.395000     0.130000      0.673250        0.276750   \n",
       "50%       0.580000     0.455000     0.155000      0.976000        0.422000   \n",
       "75%       0.630000     0.495000     0.175000      1.265750        0.566000   \n",
       "max       0.800000     0.600000     0.515000      2.825500        1.351000   \n",
       "\n",
       "       Viscera_weight  Shell_weight        Rings       Radius  \n",
       "count     1523.000000   1527.000000  1527.000000  1526.000000  \n",
       "mean         0.215256      0.282056    10.702685     0.219322  \n",
       "std          0.104709      0.130833     3.025343     0.041928  \n",
       "min          0.003000      0.005000     3.000000     0.055000  \n",
       "25%          0.145750      0.190000     9.000000     0.197500  \n",
       "50%          0.209500      0.276000    10.000000     0.227500  \n",
       "75%          0.277500      0.355500    12.000000     0.247500  \n",
       "max          0.760000      0.897000    27.000000     0.300000  "
      ]
     },
     "execution_count": 51,
     "metadata": {},
     "output_type": "execute_result"
    }
   ],
   "source": [
    "Sex_abalone.get_group(\"Male\").describe()"
   ]
  },
  {
   "cell_type": "code",
   "execution_count": 52,
   "metadata": {},
   "outputs": [
    {
     "data": {
      "text/plain": [
       "Length             0.561616\n",
       "Diameter           0.438552\n",
       "Height             0.151646\n",
       "Whole_weight       0.991772\n",
       "Shucked_weight     0.433083\n",
       "Viscera_weight     0.215256\n",
       "Shell_weight       0.282056\n",
       "Rings             10.702685\n",
       "Radius             0.219322\n",
       "Boolea_sex         1.000000\n",
       "dtype: float64"
      ]
     },
     "execution_count": 52,
     "metadata": {},
     "output_type": "execute_result"
    }
   ],
   "source": [
    "Sex_abalone.get_group(\"Male\").mean()"
   ]
  },
  {
   "cell_type": "code",
   "execution_count": 53,
   "metadata": {},
   "outputs": [
    {
     "name": "stdout",
     "output_type": "stream",
     "text": [
      "335\n"
     ]
    },
    {
     "data": {
      "text/plain": [
       "0"
      ]
     },
     "execution_count": 53,
     "metadata": {},
     "output_type": "execute_result"
    }
   ],
   "source": [
    "#the condition return a boolean vector and is possible to count how many of them value are True using a simple sum function\n",
    "print(sum(Sex_abalone.get_group(\"Male\")[\"Diameter\"]> 0.5))\n",
    "(Sex_abalone.get_group(\"Male\")[\"Diameter\"].apply(lambda x:  x > 0.6).sum()) # more pro way"
   ]
  },
  {
   "cell_type": "markdown",
   "metadata": {},
   "source": [
    "# Dealing NA's"
   ]
  },
  {
   "cell_type": "markdown",
   "metadata": {},
   "source": [
    "## Drop all Na's"
   ]
  },
  {
   "cell_type": "markdown",
   "metadata": {},
   "source": [
    "Na's are always a problem. Pandas allows different solution to handle them, some of them are quite straightforward while other are more articulated. let's start with the simplest one, dropping all of them. first of all we want to count how many na are present and with the implented function isna() we have an array of True/False, counting the True we can see that we have 8 Na."
   ]
  },
  {
   "cell_type": "code",
   "execution_count": 54,
   "metadata": {},
   "outputs": [
    {
     "name": "stdout",
     "output_type": "stream",
     "text": [
      "False    4169\n",
      "True        8\n",
      "Name: Diameter, dtype: int64\n",
      "8\n"
     ]
    }
   ],
   "source": [
    "print(df[\"Diameter\"].isna().value_counts())\n",
    "# or just summing up the true as:\n",
    "print(sum(df[\"Diameter\"].isna()))"
   ]
  },
  {
   "cell_type": "markdown",
   "metadata": {},
   "source": [
    "So the easiest way is to drop all of the NA and assign the result to the dataframe!"
   ]
  },
  {
   "cell_type": "code",
   "execution_count": 55,
   "metadata": {},
   "outputs": [
    {
     "data": {
      "text/plain": [
       "False    2824\n",
       "Name: Diameter, dtype: int64"
      ]
     },
     "execution_count": 55,
     "metadata": {},
     "output_type": "execute_result"
    }
   ],
   "source": [
    "df2 = df.dropna() # same as na.omit in R <- \n",
    "df2[\"Diameter\"].isna().value_counts()"
   ]
  },
  {
   "cell_type": "markdown",
   "metadata": {},
   "source": [
    "An useful argument inside dropna is subset = [\" list of columns \"], which allows to remove the row that contain NA just in that particular columns and not in the others one! "
   ]
  },
  {
   "cell_type": "code",
   "execution_count": 56,
   "metadata": {},
   "outputs": [],
   "source": [
    "df2 = df.dropna(subset=[\"Diameter\",\"Shucked_weight\"]) "
   ]
  },
  {
   "cell_type": "markdown",
   "metadata": {},
   "source": [
    "Sometimes it could happend that the NA's value are not marked as NaN or None or in some understandable way, in this case we have to replace this with something more tratable. looking at the following example:"
   ]
  },
  {
   "cell_type": "code",
   "execution_count": 57,
   "metadata": {},
   "outputs": [],
   "source": [
    "import numpy as np\n",
    "df.replace(\"NA\", np.nan, inplace=True)\n",
    "df.replace(\"Missing\", np.nan, inplace=True)\n",
    "df.replace(\"Whatever possible NA read wrong\", np.nan, inplace=True)\n",
    "# now i'm sure that are tha NA are targer in a right way!"
   ]
  },
  {
   "cell_type": "markdown",
   "metadata": {},
   "source": [
    "## Fillna function"
   ]
  },
  {
   "cell_type": "markdown",
   "metadata": {},
   "source": [
    "as in many case we do not want to remove the NA's value but we just want to perfome some operation on them, to substitute without removing. the function that allow us to do this is fillna() which allows to fillna in whole dataframe or one per time."
   ]
  },
  {
   "cell_type": "code",
   "execution_count": 58,
   "metadata": {},
   "outputs": [
    {
     "name": "stdout",
     "output_type": "stream",
     "text": [
      "False    4169\n",
      "True        8\n",
      "Name: Diameter, dtype: int64\n",
      "False    4177\n",
      "Name: Diameter, dtype: int64\n"
     ]
    }
   ],
   "source": [
    "print(df[\"Diameter\"].isna().value_counts())\n",
    "df.fillna(df[\"Diameter\"].mean(), inplace = True)\n",
    "print(df[\"Diameter\"].isna().value_counts())"
   ]
  },
  {
   "cell_type": "markdown",
   "metadata": {},
   "source": [
    "Lets look at a pratical example always from our dataframe! suppose that i want to remove all the NA and replace them with the mean of that column but according to the sex specified in the first column. i have two ways the first one split the dataframe with groupby and replace the NA's value of each group and at the end compose the entire dataframe as the original while the second is more pro way wich require few steps."
   ]
  },
  {
   "cell_type": "code",
   "execution_count": 75,
   "metadata": {},
   "outputs": [
    {
     "data": {
      "text/plain": [
       "False    4176\n",
       "Name: Diameter, dtype: int64"
      ]
     },
     "execution_count": 75,
     "metadata": {},
     "output_type": "execute_result"
    }
   ],
   "source": [
    "# ** this is not the optimal way! **\n",
    "df = pd.read_csv(\"abalone_1.csv\", \"r\", encoding=\"utf-8\", delimiter=\",\") # call again so i have my NA\n",
    "sex = df.groupby(\"Sex\")\n",
    "\n",
    "female = sex.get_group(\"F\")\n",
    "male = sex.get_group(\"M\")\n",
    "ibrid = sex.get_group(\"I\"\n",
    "                     )\n",
    "f_mean = female[\"Diameter\"].mean()\n",
    "m_mean = male[\"Diameter\"].mean()\n",
    "i_mean = ibrid[\"Diameter\"].mean()\n",
    "\n",
    "f_Na = female[\"Diameter\"].isna()\n",
    "f_new = female[\"Diameter\"].fillna(f_mean) \n",
    "female.loc[:,\"Diameter\"] = f_new\n",
    "\n",
    "m_Na = male[\"Diameter\"].isna()\n",
    "m_new = male[\"Diameter\"].fillna(m_mean) \n",
    "male.loc[:,\"Diameter\"] = m_new\n",
    "\n",
    "i_Na = ibrid[\"Diameter\"].isna()\n",
    "i_new = ibrid[\"Diameter\"].fillna(i_mean) \n",
    "ibrid.loc[:,\"Diameter\"] = i_new\n",
    "\n",
    "df_clean = pd.concat([female,male,ibrid])\n",
    "df_clean[\"Diameter\"].isna().value_counts()\n",
    "\n",
    "# it return a warning but it works! is given by the possibility that you are modify the original df, but i want it!"
   ]
  },
  {
   "cell_type": "code",
   "execution_count": 60,
   "metadata": {},
   "outputs": [
    {
     "data": {
      "text/plain": [
       "False    4176\n",
       "Name: Diameter, dtype: int64"
      ]
     },
     "execution_count": 60,
     "metadata": {},
     "output_type": "execute_result"
    }
   ],
   "source": [
    "# ** optimal way ** (I think)\n",
    "f_mean = df.loc[df[\"Sex\"]==\"F\", \"Diameter\"].mean()\n",
    "f_male = df.loc[df[\"Sex\"]==\"M\", \"Diameter\"].mean()\n",
    "i_mean= df.loc[df[\"Sex\"]==\"I\", \"Diameter\"].mean()\n",
    "\n",
    "df.loc[df[\"Sex\"]==\"F\", \"Diameter\"]= df.loc[df[\"Sex\"]==\"F\", \"Diameter\"].fillna(f_mean)\n",
    "df.loc[df[\"Sex\"]==\"M\", \"Diameter\"]= df.loc[df[\"Sex\"]==\"M\", \"Diameter\"].fillna(f_male)\n",
    "df.loc[df[\"Sex\"]==\"I\", \"Diameter\"]= (df.loc[df[\"Sex\"]==\"I\", \"Diameter\"]).fillna(i_mean)\n",
    "\n",
    "\n",
    "df[\"Diameter\"].isna().value_counts()"
   ]
  },
  {
   "cell_type": "markdown",
   "metadata": {},
   "source": [
    "# Merging, joining and creating df"
   ]
  },
  {
   "cell_type": "markdown",
   "metadata": {},
   "source": [
    "## Creating df from a list of dictionary"
   ]
  },
  {
   "cell_type": "markdown",
   "metadata": {},
   "source": [
    "Taking a random json file, just to have a dictionary data structure we will create a new df and then we will operate some operations on it"
   ]
  },
  {
   "cell_type": "code",
   "execution_count": 61,
   "metadata": {},
   "outputs": [],
   "source": [
    "list_of_dict = [{\"name\":\"Aeroporto\",\"address\":\"Via Lidorno / Aeroporto Caproni\",\"id\":\"Aeroporto - Trento\",\"bikes\":1,\"slots\":7,\"totalSlots\":8,\"position\":[46.01983619754026,11.127080654939277]},{\"name\":\"Azienda Sanitaria\",\"address\":\"Via De Gasperi - Lato Trento Frutta\",\"id\":\"Azienda Sanitaria - Trento\",\"bikes\":6,\"slots\":12,\"totalSlots\":18,\"position\":[46.044433415996814,11.12804971230321]},{\"name\":\"Bezzi\",\"address\":\"Via Bezzi / Via Vittorio Veneto\",\"id\":\"Bezzi - Trento\",\"bikes\":3,\"slots\":5,\"totalSlots\":9,\"position\":[46.058020904033015,11.119315767528406]},{\"name\":\"Biblioteca\",\"address\":\"Via Alfieri / Via Torre Vanga\",\"id\":\"Biblioteca - Trento\",\"bikes\":11,\"slots\":13,\"totalSlots\":24,\"position\":[46.07043395910254,11.121399842327946]},{\"name\":\"Bren Center\",\"address\":\"Via Guardini fr. civ. 75\",\"id\":\"Bren Center - Trento\",\"bikes\":5,\"slots\":12,\"totalSlots\":18,\"position\":[46.094653868146885,11.117693389024225]},{\"name\":\"Centro Santa Chiara\",\"address\":\"Via S. Croce 78\",\"id\":\"Centro Santa Chiara - Trento\",\"bikes\":6,\"slots\":11,\"totalSlots\":17,\"position\":[46.06345393738132,11.12375366752849]},{\"name\":\"Cimitero\",\"address\":\"via Madruzzo / via Rosmini\",\"id\":\"Cimitero - Trento\",\"bikes\":1,\"slots\":9,\"totalSlots\":10,\"position\":[46.063653753791996,11.119203004368615]},{\"name\":\"Ex Atesina - Lidl\",\"address\":\"via Del Brennero 99 - via Marconi\",\"id\":\"Ex Atesina - Lidl - Trento\",\"bikes\":3,\"slots\":5,\"totalSlots\":9,\"position\":[46.083939246923265,11.119624973661725]},{\"name\":\"Gardolo\",\"address\":\"Via IV Novembre / Piscina\",\"id\":\"Gardolo - Trento\",\"bikes\":4,\"slots\":8,\"totalSlots\":12,\"position\":[46.10407094472173,11.112932473016372]},{\"name\":\"Lidorno\",\"address\":\"Via Lidorno / Park Trento Sud\",\"id\":\"Lidorno - Trento\",\"bikes\":3,\"slots\":9,\"totalSlots\":12,\"position\":[46.03316279422745,11.126252122229062]},{\"name\":\"Muse\",\"address\":\"Corso del Lavoro e della Scienza\",\"id\":\"Muse - Trento\",\"bikes\":4,\"slots\":6,\"totalSlots\":12,\"position\":[46.06137765005302,11.116027144580812]},{\"name\":\"Piazza della Mostra\",\"address\":\"P.za della Mostra 30\",\"id\":\"Piazza della Mostra - Trento\",\"bikes\":5,\"slots\":7,\"totalSlots\":12,\"position\":[46.071784324082046,11.125761136176266]},{\"name\":\"Piazza di Centa\",\"address\":\"P.le di Centa / Via Vannetti\",\"id\":\"Piazza di Centa - Trento\",\"bikes\":8,\"slots\":3,\"totalSlots\":12,\"position\":[46.07538723420181,11.12382177686004]},{\"name\":\"Piazza Venezia\",\"address\":\"Via Grazioli / P.za Venezia\",\"id\":\"Piazza Venezia - Trento\",\"bikes\":3,\"slots\":21,\"totalSlots\":24,\"position\":[46.06753791402558,11.126987115869156]}]\n",
    "list_of_dict2= [{\"name\":\"Piscina\",\"address\":\"Via Fogazzaro / Via Gocciadoro\",\"id\":\"Piscina - Trento\",\"bikes\":2,\"slots\":9,\"totalSlots\":11,\"position\":[46.05627509524844,11.13094278895494]},{\"name\":\"Stazione Autocorriere\",\"address\":\"Via Pozzo / Via Torre Vanga\",\"id\":\"Stazione Autocorriere - Trento\",\"bikes\":1,\"slots\":19,\"totalSlots\":21,\"position\":[46.07023563810641,11.119849430688419]},{\"name\":\"Stazione FFSS - Ospedale\",\"address\":\"Via Gocciadoro - Staz. S. Chiara\",\"id\":\"Stazione FFSS - Ospedale - Trento\",\"bikes\":0,\"slots\":11,\"totalSlots\":12,\"position\":[46.054586705531555,11.135349258821861]},{\"name\":\"Top Center\",\"address\":\"Via Pranzelores / Via Giuseppe Gilli\",\"id\":\"Top Center - Trento\",\"bikes\":8,\"slots\":13,\"totalSlots\":23,\"position\":[46.09010372321067,11.118583717279193]},{\"name\":\"Università\",\"address\":\"Via Rosmini 50 - Università\",\"id\":\"Università - Trento\",\"bikes\":5,\"slots\":11,\"totalSlots\":18,\"position\":[46.06632943181332,11.119020308598351]},{\"name\":\"Vannetti\",\"address\":\"piazza Dante / via Vannetti\",\"id\":\"Vannetti - Trento\",\"bikes\":4,\"slots\":1,\"totalSlots\":6,\"position\":[46.072996732945235,11.121911281089751]},{\"name\":\"Zuffo 1 - bike park\",\"address\":\"piazzale Zuffo - Bike Park\",\"id\":\"Zuffo 1 - bike park - Trento\",\"bikes\":2,\"slots\":4,\"totalSlots\":6,\"position\":[46.07516784166884,11.109941605738777]},{\"name\":\"Zuffo 2 via dos Trento\",\"address\":\"piazzale Zuffo - uscita Via dos Trento\",\"id\":\"Zuffo 2 via dos Trento - Trento\",\"bikes\":10,\"slots\":0,\"totalSlots\":10,\"position\":[46.07508100896583,11.109325880468887]}]"
   ]
  },
  {
   "cell_type": "code",
   "execution_count": 62,
   "metadata": {},
   "outputs": [
    {
     "name": "stdout",
     "output_type": "stream",
     "text": [
      "{'address': 'Via Lidorno / Aeroporto Caproni',\n",
      " 'bikes': 1,\n",
      " 'id': 'Aeroporto - Trento',\n",
      " 'name': 'Aeroporto',\n",
      " 'position': [46.01983619754026, 11.127080654939277],\n",
      " 'slots': 7,\n",
      " 'totalSlots': 8}\n"
     ]
    }
   ],
   "source": [
    "from pprint import pprint\n",
    "pprint(list_of_dict[0])"
   ]
  },
  {
   "cell_type": "markdown",
   "metadata": {},
   "source": [
    "We can create a newdataframe just using the function pd.DataFrame() paying attention to the capital letter!"
   ]
  },
  {
   "cell_type": "code",
   "execution_count": 63,
   "metadata": {},
   "outputs": [
    {
     "data": {
      "text/html": [
       "<div>\n",
       "<style scoped>\n",
       "    .dataframe tbody tr th:only-of-type {\n",
       "        vertical-align: middle;\n",
       "    }\n",
       "\n",
       "    .dataframe tbody tr th {\n",
       "        vertical-align: top;\n",
       "    }\n",
       "\n",
       "    .dataframe thead th {\n",
       "        text-align: right;\n",
       "    }\n",
       "</style>\n",
       "<table border=\"1\" class=\"dataframe\">\n",
       "  <thead>\n",
       "    <tr style=\"text-align: right;\">\n",
       "      <th></th>\n",
       "      <th>name</th>\n",
       "      <th>address</th>\n",
       "      <th>id</th>\n",
       "      <th>bikes</th>\n",
       "      <th>slots</th>\n",
       "      <th>totalSlots</th>\n",
       "      <th>position</th>\n",
       "    </tr>\n",
       "  </thead>\n",
       "  <tbody>\n",
       "    <tr>\n",
       "      <th>0</th>\n",
       "      <td>Aeroporto</td>\n",
       "      <td>Via Lidorno / Aeroporto Caproni</td>\n",
       "      <td>Aeroporto - Trento</td>\n",
       "      <td>1</td>\n",
       "      <td>7</td>\n",
       "      <td>8</td>\n",
       "      <td>[46.01983619754026, 11.127080654939277]</td>\n",
       "    </tr>\n",
       "    <tr>\n",
       "      <th>1</th>\n",
       "      <td>Azienda Sanitaria</td>\n",
       "      <td>Via De Gasperi - Lato Trento Frutta</td>\n",
       "      <td>Azienda Sanitaria - Trento</td>\n",
       "      <td>6</td>\n",
       "      <td>12</td>\n",
       "      <td>18</td>\n",
       "      <td>[46.044433415996814, 11.12804971230321]</td>\n",
       "    </tr>\n",
       "  </tbody>\n",
       "</table>\n",
       "</div>"
      ],
      "text/plain": [
       "                name                              address  \\\n",
       "0          Aeroporto      Via Lidorno / Aeroporto Caproni   \n",
       "1  Azienda Sanitaria  Via De Gasperi - Lato Trento Frutta   \n",
       "\n",
       "                           id  bikes  slots  totalSlots  \\\n",
       "0          Aeroporto - Trento      1      7           8   \n",
       "1  Azienda Sanitaria - Trento      6     12          18   \n",
       "\n",
       "                                  position  \n",
       "0  [46.01983619754026, 11.127080654939277]  \n",
       "1  [46.044433415996814, 11.12804971230321]  "
      ]
     },
     "execution_count": 63,
     "metadata": {},
     "output_type": "execute_result"
    }
   ],
   "source": [
    "df1 = pd.DataFrame(list_of_dict)\n",
    "df2 = pd.DataFrame(list_of_dict2)\n",
    "df1.head(2) "
   ]
  },
  {
   "cell_type": "markdown",
   "metadata": {},
   "source": [
    "First we try to add some single rows into our data frame using the append function (must assign = df!)"
   ]
  },
  {
   "cell_type": "code",
   "execution_count": 64,
   "metadata": {},
   "outputs": [],
   "source": [
    "new_obs = {\"name\":\"Highway for spaceX\",\"address\":\"D.Adams n 42\",\"id\":\"Vorrei ma non posso\",\"bikes\":100,\"slots\":0,\"totalSlots\":10,\"position\":[42.42,42.42]}\n",
    "df1 = df1.append(new_obs, ignore_index = True)"
   ]
  },
  {
   "cell_type": "markdown",
   "metadata": {},
   "source": [
    "## Concat and reset_index"
   ]
  },
  {
   "cell_type": "markdown",
   "metadata": {},
   "source": [
    "Using the concat function we basically put togheter our df, they must have some columns and then we have to fix the index!"
   ]
  },
  {
   "cell_type": "code",
   "execution_count": 65,
   "metadata": {
    "scrolled": true
   },
   "outputs": [
    {
     "data": {
      "text/html": [
       "<div>\n",
       "<style scoped>\n",
       "    .dataframe tbody tr th:only-of-type {\n",
       "        vertical-align: middle;\n",
       "    }\n",
       "\n",
       "    .dataframe tbody tr th {\n",
       "        vertical-align: top;\n",
       "    }\n",
       "\n",
       "    .dataframe thead th {\n",
       "        text-align: right;\n",
       "    }\n",
       "</style>\n",
       "<table border=\"1\" class=\"dataframe\">\n",
       "  <thead>\n",
       "    <tr style=\"text-align: right;\">\n",
       "      <th></th>\n",
       "      <th>name</th>\n",
       "      <th>address</th>\n",
       "      <th>id</th>\n",
       "      <th>bikes</th>\n",
       "      <th>slots</th>\n",
       "      <th>totalSlots</th>\n",
       "      <th>position</th>\n",
       "    </tr>\n",
       "  </thead>\n",
       "  <tbody>\n",
       "    <tr>\n",
       "      <th>0</th>\n",
       "      <td>Aeroporto</td>\n",
       "      <td>Via Lidorno / Aeroporto Caproni</td>\n",
       "      <td>Aeroporto - Trento</td>\n",
       "      <td>1</td>\n",
       "      <td>7</td>\n",
       "      <td>8</td>\n",
       "      <td>[46.01983619754026, 11.127080654939277]</td>\n",
       "    </tr>\n",
       "    <tr>\n",
       "      <th>1</th>\n",
       "      <td>Azienda Sanitaria</td>\n",
       "      <td>Via De Gasperi - Lato Trento Frutta</td>\n",
       "      <td>Azienda Sanitaria - Trento</td>\n",
       "      <td>6</td>\n",
       "      <td>12</td>\n",
       "      <td>18</td>\n",
       "      <td>[46.044433415996814, 11.12804971230321]</td>\n",
       "    </tr>\n",
       "    <tr>\n",
       "      <th>2</th>\n",
       "      <td>Bezzi</td>\n",
       "      <td>Via Bezzi / Via Vittorio Veneto</td>\n",
       "      <td>Bezzi - Trento</td>\n",
       "      <td>3</td>\n",
       "      <td>5</td>\n",
       "      <td>9</td>\n",
       "      <td>[46.058020904033015, 11.119315767528406]</td>\n",
       "    </tr>\n",
       "    <tr>\n",
       "      <th>3</th>\n",
       "      <td>Biblioteca</td>\n",
       "      <td>Via Alfieri / Via Torre Vanga</td>\n",
       "      <td>Biblioteca - Trento</td>\n",
       "      <td>11</td>\n",
       "      <td>13</td>\n",
       "      <td>24</td>\n",
       "      <td>[46.07043395910254, 11.121399842327946]</td>\n",
       "    </tr>\n",
       "    <tr>\n",
       "      <th>4</th>\n",
       "      <td>Bren Center</td>\n",
       "      <td>Via Guardini fr. civ. 75</td>\n",
       "      <td>Bren Center - Trento</td>\n",
       "      <td>5</td>\n",
       "      <td>12</td>\n",
       "      <td>18</td>\n",
       "      <td>[46.094653868146885, 11.117693389024225]</td>\n",
       "    </tr>\n",
       "    <tr>\n",
       "      <th>5</th>\n",
       "      <td>Centro Santa Chiara</td>\n",
       "      <td>Via S. Croce 78</td>\n",
       "      <td>Centro Santa Chiara - Trento</td>\n",
       "      <td>6</td>\n",
       "      <td>11</td>\n",
       "      <td>17</td>\n",
       "      <td>[46.06345393738132, 11.12375366752849]</td>\n",
       "    </tr>\n",
       "    <tr>\n",
       "      <th>6</th>\n",
       "      <td>Cimitero</td>\n",
       "      <td>via Madruzzo / via Rosmini</td>\n",
       "      <td>Cimitero - Trento</td>\n",
       "      <td>1</td>\n",
       "      <td>9</td>\n",
       "      <td>10</td>\n",
       "      <td>[46.063653753791996, 11.119203004368615]</td>\n",
       "    </tr>\n",
       "    <tr>\n",
       "      <th>7</th>\n",
       "      <td>Ex Atesina - Lidl</td>\n",
       "      <td>via Del Brennero 99 - via Marconi</td>\n",
       "      <td>Ex Atesina - Lidl - Trento</td>\n",
       "      <td>3</td>\n",
       "      <td>5</td>\n",
       "      <td>9</td>\n",
       "      <td>[46.083939246923265, 11.119624973661725]</td>\n",
       "    </tr>\n",
       "    <tr>\n",
       "      <th>8</th>\n",
       "      <td>Gardolo</td>\n",
       "      <td>Via IV Novembre / Piscina</td>\n",
       "      <td>Gardolo - Trento</td>\n",
       "      <td>4</td>\n",
       "      <td>8</td>\n",
       "      <td>12</td>\n",
       "      <td>[46.10407094472173, 11.112932473016372]</td>\n",
       "    </tr>\n",
       "    <tr>\n",
       "      <th>9</th>\n",
       "      <td>Lidorno</td>\n",
       "      <td>Via Lidorno / Park Trento Sud</td>\n",
       "      <td>Lidorno - Trento</td>\n",
       "      <td>3</td>\n",
       "      <td>9</td>\n",
       "      <td>12</td>\n",
       "      <td>[46.03316279422745, 11.126252122229062]</td>\n",
       "    </tr>\n",
       "    <tr>\n",
       "      <th>10</th>\n",
       "      <td>Muse</td>\n",
       "      <td>Corso del Lavoro e della Scienza</td>\n",
       "      <td>Muse - Trento</td>\n",
       "      <td>4</td>\n",
       "      <td>6</td>\n",
       "      <td>12</td>\n",
       "      <td>[46.06137765005302, 11.116027144580812]</td>\n",
       "    </tr>\n",
       "    <tr>\n",
       "      <th>11</th>\n",
       "      <td>Piazza della Mostra</td>\n",
       "      <td>P.za della Mostra 30</td>\n",
       "      <td>Piazza della Mostra - Trento</td>\n",
       "      <td>5</td>\n",
       "      <td>7</td>\n",
       "      <td>12</td>\n",
       "      <td>[46.071784324082046, 11.125761136176266]</td>\n",
       "    </tr>\n",
       "    <tr>\n",
       "      <th>12</th>\n",
       "      <td>Piazza di Centa</td>\n",
       "      <td>P.le di Centa / Via Vannetti</td>\n",
       "      <td>Piazza di Centa - Trento</td>\n",
       "      <td>8</td>\n",
       "      <td>3</td>\n",
       "      <td>12</td>\n",
       "      <td>[46.07538723420181, 11.12382177686004]</td>\n",
       "    </tr>\n",
       "    <tr>\n",
       "      <th>13</th>\n",
       "      <td>Piazza Venezia</td>\n",
       "      <td>Via Grazioli / P.za Venezia</td>\n",
       "      <td>Piazza Venezia - Trento</td>\n",
       "      <td>3</td>\n",
       "      <td>21</td>\n",
       "      <td>24</td>\n",
       "      <td>[46.06753791402558, 11.126987115869156]</td>\n",
       "    </tr>\n",
       "    <tr>\n",
       "      <th>14</th>\n",
       "      <td>Highway for spaceX</td>\n",
       "      <td>D.Adams n 42</td>\n",
       "      <td>Vorrei ma non posso</td>\n",
       "      <td>100</td>\n",
       "      <td>0</td>\n",
       "      <td>10</td>\n",
       "      <td>[42.42, 42.42]</td>\n",
       "    </tr>\n",
       "    <tr>\n",
       "      <th>15</th>\n",
       "      <td>Piscina</td>\n",
       "      <td>Via Fogazzaro / Via Gocciadoro</td>\n",
       "      <td>Piscina - Trento</td>\n",
       "      <td>2</td>\n",
       "      <td>9</td>\n",
       "      <td>11</td>\n",
       "      <td>[46.05627509524844, 11.13094278895494]</td>\n",
       "    </tr>\n",
       "    <tr>\n",
       "      <th>16</th>\n",
       "      <td>Stazione Autocorriere</td>\n",
       "      <td>Via Pozzo / Via Torre Vanga</td>\n",
       "      <td>Stazione Autocorriere - Trento</td>\n",
       "      <td>1</td>\n",
       "      <td>19</td>\n",
       "      <td>21</td>\n",
       "      <td>[46.07023563810641, 11.119849430688419]</td>\n",
       "    </tr>\n",
       "    <tr>\n",
       "      <th>17</th>\n",
       "      <td>Stazione FFSS - Ospedale</td>\n",
       "      <td>Via Gocciadoro - Staz. S. Chiara</td>\n",
       "      <td>Stazione FFSS - Ospedale - Trento</td>\n",
       "      <td>0</td>\n",
       "      <td>11</td>\n",
       "      <td>12</td>\n",
       "      <td>[46.054586705531555, 11.135349258821861]</td>\n",
       "    </tr>\n",
       "    <tr>\n",
       "      <th>18</th>\n",
       "      <td>Top Center</td>\n",
       "      <td>Via Pranzelores / Via Giuseppe Gilli</td>\n",
       "      <td>Top Center - Trento</td>\n",
       "      <td>8</td>\n",
       "      <td>13</td>\n",
       "      <td>23</td>\n",
       "      <td>[46.09010372321067, 11.118583717279193]</td>\n",
       "    </tr>\n",
       "    <tr>\n",
       "      <th>19</th>\n",
       "      <td>Università</td>\n",
       "      <td>Via Rosmini 50 - Università</td>\n",
       "      <td>Università - Trento</td>\n",
       "      <td>5</td>\n",
       "      <td>11</td>\n",
       "      <td>18</td>\n",
       "      <td>[46.06632943181332, 11.119020308598351]</td>\n",
       "    </tr>\n",
       "    <tr>\n",
       "      <th>20</th>\n",
       "      <td>Vannetti</td>\n",
       "      <td>piazza Dante / via Vannetti</td>\n",
       "      <td>Vannetti - Trento</td>\n",
       "      <td>4</td>\n",
       "      <td>1</td>\n",
       "      <td>6</td>\n",
       "      <td>[46.072996732945235, 11.121911281089751]</td>\n",
       "    </tr>\n",
       "    <tr>\n",
       "      <th>21</th>\n",
       "      <td>Zuffo 1 - bike park</td>\n",
       "      <td>piazzale Zuffo - Bike Park</td>\n",
       "      <td>Zuffo 1 - bike park - Trento</td>\n",
       "      <td>2</td>\n",
       "      <td>4</td>\n",
       "      <td>6</td>\n",
       "      <td>[46.07516784166884, 11.109941605738777]</td>\n",
       "    </tr>\n",
       "    <tr>\n",
       "      <th>22</th>\n",
       "      <td>Zuffo 2 via dos Trento</td>\n",
       "      <td>piazzale Zuffo - uscita Via dos Trento</td>\n",
       "      <td>Zuffo 2 via dos Trento - Trento</td>\n",
       "      <td>10</td>\n",
       "      <td>0</td>\n",
       "      <td>10</td>\n",
       "      <td>[46.07508100896583, 11.109325880468887]</td>\n",
       "    </tr>\n",
       "  </tbody>\n",
       "</table>\n",
       "</div>"
      ],
      "text/plain": [
       "                        name                                 address  \\\n",
       "0                  Aeroporto         Via Lidorno / Aeroporto Caproni   \n",
       "1          Azienda Sanitaria     Via De Gasperi - Lato Trento Frutta   \n",
       "2                      Bezzi         Via Bezzi / Via Vittorio Veneto   \n",
       "3                 Biblioteca           Via Alfieri / Via Torre Vanga   \n",
       "4                Bren Center                Via Guardini fr. civ. 75   \n",
       "5        Centro Santa Chiara                         Via S. Croce 78   \n",
       "6                   Cimitero              via Madruzzo / via Rosmini   \n",
       "7          Ex Atesina - Lidl       via Del Brennero 99 - via Marconi   \n",
       "8                    Gardolo               Via IV Novembre / Piscina   \n",
       "9                    Lidorno           Via Lidorno / Park Trento Sud   \n",
       "10                      Muse        Corso del Lavoro e della Scienza   \n",
       "11       Piazza della Mostra                    P.za della Mostra 30   \n",
       "12           Piazza di Centa            P.le di Centa / Via Vannetti   \n",
       "13            Piazza Venezia             Via Grazioli / P.za Venezia   \n",
       "14        Highway for spaceX                            D.Adams n 42   \n",
       "15                   Piscina          Via Fogazzaro / Via Gocciadoro   \n",
       "16     Stazione Autocorriere             Via Pozzo / Via Torre Vanga   \n",
       "17  Stazione FFSS - Ospedale        Via Gocciadoro - Staz. S. Chiara   \n",
       "18                Top Center    Via Pranzelores / Via Giuseppe Gilli   \n",
       "19                Università             Via Rosmini 50 - Università   \n",
       "20                  Vannetti             piazza Dante / via Vannetti   \n",
       "21       Zuffo 1 - bike park              piazzale Zuffo - Bike Park   \n",
       "22    Zuffo 2 via dos Trento  piazzale Zuffo - uscita Via dos Trento   \n",
       "\n",
       "                                   id  bikes  slots  totalSlots  \\\n",
       "0                  Aeroporto - Trento      1      7           8   \n",
       "1          Azienda Sanitaria - Trento      6     12          18   \n",
       "2                      Bezzi - Trento      3      5           9   \n",
       "3                 Biblioteca - Trento     11     13          24   \n",
       "4                Bren Center - Trento      5     12          18   \n",
       "5        Centro Santa Chiara - Trento      6     11          17   \n",
       "6                   Cimitero - Trento      1      9          10   \n",
       "7          Ex Atesina - Lidl - Trento      3      5           9   \n",
       "8                    Gardolo - Trento      4      8          12   \n",
       "9                    Lidorno - Trento      3      9          12   \n",
       "10                      Muse - Trento      4      6          12   \n",
       "11       Piazza della Mostra - Trento      5      7          12   \n",
       "12           Piazza di Centa - Trento      8      3          12   \n",
       "13            Piazza Venezia - Trento      3     21          24   \n",
       "14                Vorrei ma non posso    100      0          10   \n",
       "15                   Piscina - Trento      2      9          11   \n",
       "16     Stazione Autocorriere - Trento      1     19          21   \n",
       "17  Stazione FFSS - Ospedale - Trento      0     11          12   \n",
       "18                Top Center - Trento      8     13          23   \n",
       "19                Università - Trento      5     11          18   \n",
       "20                  Vannetti - Trento      4      1           6   \n",
       "21       Zuffo 1 - bike park - Trento      2      4           6   \n",
       "22    Zuffo 2 via dos Trento - Trento     10      0          10   \n",
       "\n",
       "                                    position  \n",
       "0    [46.01983619754026, 11.127080654939277]  \n",
       "1    [46.044433415996814, 11.12804971230321]  \n",
       "2   [46.058020904033015, 11.119315767528406]  \n",
       "3    [46.07043395910254, 11.121399842327946]  \n",
       "4   [46.094653868146885, 11.117693389024225]  \n",
       "5     [46.06345393738132, 11.12375366752849]  \n",
       "6   [46.063653753791996, 11.119203004368615]  \n",
       "7   [46.083939246923265, 11.119624973661725]  \n",
       "8    [46.10407094472173, 11.112932473016372]  \n",
       "9    [46.03316279422745, 11.126252122229062]  \n",
       "10   [46.06137765005302, 11.116027144580812]  \n",
       "11  [46.071784324082046, 11.125761136176266]  \n",
       "12    [46.07538723420181, 11.12382177686004]  \n",
       "13   [46.06753791402558, 11.126987115869156]  \n",
       "14                            [42.42, 42.42]  \n",
       "15    [46.05627509524844, 11.13094278895494]  \n",
       "16   [46.07023563810641, 11.119849430688419]  \n",
       "17  [46.054586705531555, 11.135349258821861]  \n",
       "18   [46.09010372321067, 11.118583717279193]  \n",
       "19   [46.06632943181332, 11.119020308598351]  \n",
       "20  [46.072996732945235, 11.121911281089751]  \n",
       "21   [46.07516784166884, 11.109941605738777]  \n",
       "22   [46.07508100896583, 11.109325880468887]  "
      ]
     },
     "execution_count": 65,
     "metadata": {},
     "output_type": "execute_result"
    }
   ],
   "source": [
    "whole_df = pd.concat([df1,df2])\n",
    "# to fix the index just use:\n",
    "whole_df =  whole_df.reset_index(drop = True)\n",
    "whole_df"
   ]
  },
  {
   "cell_type": "markdown",
   "metadata": {},
   "source": [
    "## Merging"
   ]
  },
  {
   "cell_type": "code",
   "execution_count": 66,
   "metadata": {},
   "outputs": [],
   "source": [
    "# to implent properly *"
   ]
  },
  {
   "cell_type": "code",
   "execution_count": 67,
   "metadata": {},
   "outputs": [],
   "source": [
    "df1 = pd.DataFrame({'lkey': ['foo', 'bar', 'baz', 'foo'],\n",
    "                    'value': [1, 2, 3, 5]})\n",
    "df2 = pd.DataFrame({'rkey': ['foo', 'bar', 'baz', 'foo'],\n",
    "                    'value': [5, 6, 7, 8]})"
   ]
  },
  {
   "cell_type": "code",
   "execution_count": 68,
   "metadata": {},
   "outputs": [
    {
     "data": {
      "text/html": [
       "<div>\n",
       "<style scoped>\n",
       "    .dataframe tbody tr th:only-of-type {\n",
       "        vertical-align: middle;\n",
       "    }\n",
       "\n",
       "    .dataframe tbody tr th {\n",
       "        vertical-align: top;\n",
       "    }\n",
       "\n",
       "    .dataframe thead th {\n",
       "        text-align: right;\n",
       "    }\n",
       "</style>\n",
       "<table border=\"1\" class=\"dataframe\">\n",
       "  <thead>\n",
       "    <tr style=\"text-align: right;\">\n",
       "      <th></th>\n",
       "      <th>lkey</th>\n",
       "      <th>valuevalueOf lkey</th>\n",
       "      <th>rkey</th>\n",
       "      <th>valuevalueofrkey</th>\n",
       "    </tr>\n",
       "  </thead>\n",
       "  <tbody>\n",
       "    <tr>\n",
       "      <th>0</th>\n",
       "      <td>foo</td>\n",
       "      <td>1</td>\n",
       "      <td>foo</td>\n",
       "      <td>5</td>\n",
       "    </tr>\n",
       "    <tr>\n",
       "      <th>1</th>\n",
       "      <td>foo</td>\n",
       "      <td>1</td>\n",
       "      <td>foo</td>\n",
       "      <td>8</td>\n",
       "    </tr>\n",
       "    <tr>\n",
       "      <th>2</th>\n",
       "      <td>foo</td>\n",
       "      <td>5</td>\n",
       "      <td>foo</td>\n",
       "      <td>5</td>\n",
       "    </tr>\n",
       "    <tr>\n",
       "      <th>3</th>\n",
       "      <td>foo</td>\n",
       "      <td>5</td>\n",
       "      <td>foo</td>\n",
       "      <td>8</td>\n",
       "    </tr>\n",
       "    <tr>\n",
       "      <th>4</th>\n",
       "      <td>bar</td>\n",
       "      <td>2</td>\n",
       "      <td>bar</td>\n",
       "      <td>6</td>\n",
       "    </tr>\n",
       "    <tr>\n",
       "      <th>5</th>\n",
       "      <td>baz</td>\n",
       "      <td>3</td>\n",
       "      <td>baz</td>\n",
       "      <td>7</td>\n",
       "    </tr>\n",
       "  </tbody>\n",
       "</table>\n",
       "</div>"
      ],
      "text/plain": [
       "  lkey  valuevalueOf lkey rkey  valuevalueofrkey\n",
       "0  foo                  1  foo                 5\n",
       "1  foo                  1  foo                 8\n",
       "2  foo                  5  foo                 5\n",
       "3  foo                  5  foo                 8\n",
       "4  bar                  2  bar                 6\n",
       "5  baz                  3  baz                 7"
      ]
     },
     "execution_count": 68,
     "metadata": {},
     "output_type": "execute_result"
    }
   ],
   "source": [
    "df1.merge(df2, left_on='lkey', right_on='rkey',suffixes = [\"valueOf lkey\", \"valueofrkey\"])"
   ]
  },
  {
   "cell_type": "markdown",
   "metadata": {},
   "source": [
    "More important!! ** merging using a common columns **!"
   ]
  },
  {
   "cell_type": "code",
   "execution_count": 69,
   "metadata": {},
   "outputs": [],
   "source": [
    "df1 = pd.DataFrame({'a': ['foo', 'baz',\"strunz\"], 'b': [1, 2,10]})\n",
    "df2 = pd.DataFrame({'a': ['foo', 'baz'], 'c': [3, 4]})"
   ]
  },
  {
   "cell_type": "code",
   "execution_count": 70,
   "metadata": {},
   "outputs": [
    {
     "data": {
      "text/html": [
       "<div>\n",
       "<style scoped>\n",
       "    .dataframe tbody tr th:only-of-type {\n",
       "        vertical-align: middle;\n",
       "    }\n",
       "\n",
       "    .dataframe tbody tr th {\n",
       "        vertical-align: top;\n",
       "    }\n",
       "\n",
       "    .dataframe thead th {\n",
       "        text-align: right;\n",
       "    }\n",
       "</style>\n",
       "<table border=\"1\" class=\"dataframe\">\n",
       "  <thead>\n",
       "    <tr style=\"text-align: right;\">\n",
       "      <th></th>\n",
       "      <th>a</th>\n",
       "      <th>b</th>\n",
       "      <th>c</th>\n",
       "    </tr>\n",
       "  </thead>\n",
       "  <tbody>\n",
       "    <tr>\n",
       "      <th>0</th>\n",
       "      <td>foo</td>\n",
       "      <td>1</td>\n",
       "      <td>3</td>\n",
       "    </tr>\n",
       "    <tr>\n",
       "      <th>1</th>\n",
       "      <td>baz</td>\n",
       "      <td>2</td>\n",
       "      <td>4</td>\n",
       "    </tr>\n",
       "  </tbody>\n",
       "</table>\n",
       "</div>"
      ],
      "text/plain": [
       "     a  b  c\n",
       "0  foo  1  3\n",
       "1  baz  2  4"
      ]
     },
     "execution_count": 70,
     "metadata": {},
     "output_type": "execute_result"
    }
   ],
   "source": [
    "df1.merge(df2, how=\"inner\", on =\"a\")"
   ]
  },
  {
   "cell_type": "markdown",
   "metadata": {},
   "source": [
    "# Save out data_frame"
   ]
  },
  {
   "cell_type": "markdown",
   "metadata": {},
   "source": [
    "## to_csv, to_json, to..."
   ]
  },
  {
   "cell_type": "markdown",
   "metadata": {},
   "source": [
    "there are implemented some straightforward function that allows to save directly the file!"
   ]
  },
  {
   "cell_type": "code",
   "execution_count": 71,
   "metadata": {},
   "outputs": [],
   "source": [
    "whole_df.to_csv(\"whole.csv\")"
   ]
  },
  {
   "cell_type": "code",
   "execution_count": 72,
   "metadata": {},
   "outputs": [
    {
     "data": {
      "text/plain": [
       "['0', 'Aeroporto', 'Via Lidorno / Aeroporto Caproni', Ellipsis]"
      ]
     },
     "execution_count": 72,
     "metadata": {},
     "output_type": "execute_result"
    }
   ],
   "source": [
    "# this is the result of the previous command re-read\n",
    "['', 'name', 'address', 'id', 'bikes', 'slots', 'totalSlots', 'position'] # header\n",
    "['0', 'Aeroporto', 'Via Lidorno / Aeroporto Caproni', ... ] # first row"
   ]
  },
  {
   "cell_type": "markdown",
   "metadata": {},
   "source": [
    "if we want to avoid this index which is saved without column name we must specify the argument index = False"
   ]
  },
  {
   "cell_type": "code",
   "execution_count": 73,
   "metadata": {},
   "outputs": [],
   "source": [
    "whole_df.to_csv(\"whole.csv\", index = False)"
   ]
  },
  {
   "cell_type": "markdown",
   "metadata": {},
   "source": [
    "We can perform this operation specifing what is the expected output format, the most common are:\n",
    "- df.to_json\n",
    "- df.to_excel\n",
    "- df.to_html\n",
    "- df.to_string"
   ]
  }
 ],
 "metadata": {
  "kernelspec": {
   "display_name": "Python 3",
   "language": "python",
   "name": "python3"
  },
  "language_info": {
   "codemirror_mode": {
    "name": "ipython",
    "version": 3
   },
   "file_extension": ".py",
   "mimetype": "text/x-python",
   "name": "python",
   "nbconvert_exporter": "python",
   "pygments_lexer": "ipython3",
   "version": "3.8.8"
  },
  "toc": {
   "base_numbering": 1,
   "nav_menu": {},
   "number_sections": true,
   "sideBar": true,
   "skip_h1_title": false,
   "title_cell": "Table of Contents",
   "title_sidebar": "Contents",
   "toc_cell": false,
   "toc_position": {
    "height": "calc(100% - 180px)",
    "left": "10px",
    "top": "150px",
    "width": "285.188px"
   },
   "toc_section_display": true,
   "toc_window_display": false
  }
 },
 "nbformat": 4,
 "nbformat_minor": 4
}
