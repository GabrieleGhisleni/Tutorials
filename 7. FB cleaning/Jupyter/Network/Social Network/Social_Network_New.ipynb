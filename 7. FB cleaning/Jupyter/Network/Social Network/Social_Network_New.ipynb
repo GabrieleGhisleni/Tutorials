{
 "cells": [
  {
   "cell_type": "markdown",
   "metadata": {},
   "source": [
    "# Conceptual Model"
   ]
  },
  {
   "cell_type": "markdown",
   "metadata": {},
   "source": [
    "The nodes of the graph represent the actors of our social network while the edges represent the link between them. Each node has got different attributes. One of them is the unique identifier (the most important to track a node), while the others are normal features as name, surname, gender, date_of_birth. The edges have got attributes as well, being the date of the beginning of the relationship and the type of the relation itself (friend of follower)."
   ]
  },
  {
   "cell_type": "markdown",
   "metadata": {},
   "source": [
    "# Logical Model"
   ]
  },
  {
   "cell_type": "markdown",
   "metadata": {},
   "source": [
    "Class Actor and Class SocialNetwork!\n",
    "Attributes of Actor:\n",
    "- Name: string\n",
    "- Surname: string\n",
    "- Gender: enum (\"M\",\"F,\"NaN\")\n",
    "- Date_of_birth: string \n",
    "- Unique_identifer: (hash function applied to the name)\n",
    "\n",
    "Attributes of Edge:\n",
    "- Unique_identifier_of_edge: hash of (actor1+actor2)\n",
    "- Unique_identifier_1: hash of actor 1\n",
    "- Unique_identifer_2: hash of actor 2\n",
    "- Typeof_relation: enum(\"follow\",\"friend\")"
   ]
  },
  {
   "cell_type": "code",
   "execution_count": 1,
   "metadata": {},
   "outputs": [],
   "source": [
    "class Actor():\n",
    "    import numpy as np\n",
    "    def __init__(self, full_name, gender=np.nan, date_birth=np.nan):\n",
    "        import numpy as np\n",
    "        self.identifier = hash(full_name)\n",
    "        name,surname = full_name.split(\" \")\n",
    "        self.name = name.capitalize().strip()\n",
    "        self.surname = surname.capitalize().strip()\n",
    "        if gender != 1 and gender!= 0 and gender!= np.nan:\n",
    "            raise ValueError(\"Gender must 1 or 0. 1=Female, 0=Male\")\n",
    "        else:\n",
    "            self.gender = gender\n",
    "        self.date_birth = date_birth\n",
    "    def __str__(self):\n",
    "        return (\"Hash: {}\".format(str(self.identifier))+\"\\n\"\\\n",
    "                \"Name: {}\".format(self.name)+\"\\n\" \\\n",
    "                \"Surname: {}\".format(self.surname)+ \"\\n\"+\n",
    "                \"Gender: {}\".format(str(self.date_birth)))\n",
    "    def __repr__(self):\n",
    "        return str(self.identifier)\n",
    "    def __eq__(self, other):\n",
    "        if type(other)!= Actor:\n",
    "            return (self.identifier == other)\n",
    "        else:\n",
    "            return (self.identifier == other.identifier)\n",
    "    def __hash__(self):\n",
    "        return hash(self.name)\n",
    "                \n",
    "class SocialNetwork():\n",
    "    def __init__(self):\n",
    "        self.relations = [] \n",
    "        self.actors = []\n",
    "    def add_relation(self,actor1,actor2, typeof = 1):\n",
    "        import time\n",
    "        if typeof != 1 and typeof!= 0 and typeof!= np.nan:\n",
    "            raise ValueError(\"typeof must 1 or 0. 1=friend, 0=follow\")\n",
    "        self.actors.append(actor1)\n",
    "        self.actors.append(actor2)\n",
    "        unique_relation = hash(actor1.name+actor2.name)\n",
    "        datetime = time.strftime(\"%d/%m/%Y\")\n",
    "        tmp = dict(id_1 = actor1.identifier, id_2= actor2.identifier, start_at=datetime, typeof=typeof)\n",
    "        res = dict()\n",
    "        res[unique_relation]=tmp\n",
    "        self.relations.append(res)          \n",
    "    def size_network(self):\n",
    "        return len(self.relations)\n",
    "    def __str__(self):\n",
    "        return str(self.relations)\n",
    "    def __repr__(self):\n",
    "        return self.__str__()  \n",
    "    def __iter__(self):\n",
    "        for row in self.relations:\n",
    "            yield(row)\n",
    "            \n",
    "    def plot_network(self):\n",
    "        import networkx as nx\n",
    "        import matplotlib.pyplot as plt\n",
    "        import random as rd\n",
    "        rd.seed(8)\n",
    "        G = nx.DiGraph()\n",
    "        for dit in self.relations:\n",
    "            m = list(dit.keys())\n",
    "            relation_identifier = m[0]\n",
    "            da = dit[relation_identifier][\"id_1\"]\n",
    "            to = dit[relation_identifier][\"id_2\"]\n",
    "            if dit[relation_identifier][\"typeof\"] == 0:  \n",
    "                G.add_edge(da, to, label =dit[relation_identifier][\"typeof\"] )\n",
    "                G.add_edge(to, da, label =dit[relation_identifier][\"typeof\"] )\n",
    "            else:\n",
    "                G.add_edge(da, to, label =dit[relation_identifier][\"typeof\"] )\n",
    "        dim = [300]*len(G.nodes())\n",
    "        plt.figure(3,figsize=(7,7))\n",
    "        pos=nx.spring_layout(G)\n",
    "        nx.draw(G, pos, cmap=plt.get_cmap('jet'),node_size=dim)\n",
    "        plt.title(\"Social Network\", fontsize=20)\n",
    "\n",
    "        "
   ]
  },
  {
   "cell_type": "markdown",
   "metadata": {},
   "source": [
    "## Generate random network:"
   ]
  },
  {
   "cell_type": "code",
   "execution_count": 2,
   "metadata": {},
   "outputs": [],
   "source": [
    "def create_network(n_of_relation =40, seed=42):\n",
    "    import random as rd\n",
    "    social = SocialNetwork()\n",
    "    rd.seed(seed)\n",
    "    a = Actor(\"gigio brico\", 0, \"12/12/1993\")\n",
    "    b = Actor(\"mario wario\", 0,\"12/12/1993\")\n",
    "    c = Actor(\"pino since\", 0, \"12/12/1993\")\n",
    "    d = Actor(\"gina pina\", 1, \"12/12/1993\")\n",
    "    e = Actor(\"lollo truce\",1,\"12/12/1993\")\n",
    "    f = Actor(\"gianni panni\",0, \"12/12/1993\")\n",
    "    g = Actor(\"kurt cobain\", 0, \"12/12/1993\")\n",
    "    h = Actor(\"jimi hendrix\",0,\"12/12/1993\")\n",
    "    i = Actor(\"luca magik\", 0, \"12/12/1993\")\n",
    "    l = Actor(\"alessandra pro\", 1, \"12/12/1993\")\n",
    "    m = Actor(\"peach princess\", 1,\"12/12/1993\")\n",
    "    n = Actor(\"ruslan perdem\", 0, \"12/12/1993\")\n",
    "    o = Actor(\"rodrigo brico\", 1,\"12/12/1993\")\n",
    "    p = Actor(\"luigi luigino\", 1,\"12/12/1993\")\n",
    "    q = Actor(\"mastro prog\",1, \"12/12/1993\")\n",
    "    r = Actor(\"davide vinicius\", 1, \"12/12/1993\")\n",
    "    s = Actor(\"massospora woa\", 0,\"12/12/1993\")\n",
    "    t = Actor(\"track since_sound\", 0, \"12/12/1993\")\n",
    "    u = Actor(\"python py\", 1, \"12/12/1993\")\n",
    "    v = Actor(\"R R\", 1,\"12/12/1993\")\n",
    "    z = Actor(\"ruby ruby\", 1,\"12/12/1993\")\n",
    "    w = Actor(\"chsharp pro\", 0, \"12/12/1993\")\n",
    "    y = Actor(\"i'veno fantasy\", 1,\"12/12/1993\")\n",
    "    j = Actor(\"jim morrison\", 0, \"12/12/1993\")\n",
    "    actors = [a,b,c,d,e,f,g,h,i,l,m,n,o,p,q,r,s,t,u,v,z, w,y,j]\n",
    "    for iel in range(n_of_relation):\n",
    "        da = actors[rd.randint(0,23)]\n",
    "        to = actors[rd.randint(0,23)]\n",
    "        if iel % 7 == 0:\n",
    "            social.add_relation(da,to,typeof=0)\n",
    "        else:\n",
    "            social.add_relation(da,to)\n",
    "    return actors, social"
   ]
  },
  {
   "cell_type": "code",
   "execution_count": 3,
   "metadata": {},
   "outputs": [
    {
     "data": {
      "image/png": "[encoded data removed]",
      "text/plain": [
       "<Figure size 504x504 with 1 Axes>"
      ]
     },
     "metadata": {},
     "output_type": "display_data"
    }
   ],
   "source": [
    "x,y = create_network(20, seed=8)\n",
    "y.plot_network()"
   ]
  },
  {
   "cell_type": "markdown",
   "metadata": {},
   "source": [
    "## Create JSON file"
   ]
  },
  {
   "cell_type": "markdown",
   "metadata": {},
   "source": [
    "### Create a list of dict"
   ]
  },
  {
   "cell_type": "code",
   "execution_count": 4,
   "metadata": {},
   "outputs": [
    {
     "name": "stdout",
     "output_type": "stream",
     "text": [
      "{'age': '12/12/1993',\n",
      " 'gender': 1,\n",
      " 'name': 'Rodrigo',\n",
      " 'surname': 'Brico',\n",
      " 'unique_identifier': 6216702768983108108}\n",
      "\n",
      "{-8495782161205327447: {'id_1': 6216702768983108108,\n",
      "                        'id_2': -9101101488775422632,\n",
      "                        'start_at': '18/03/2021',\n",
      "                        'typeof': 1}}\n",
      "\n",
      "<class 'list'> <class 'list'>\n",
      "<class 'dict'> <class 'dict'>\n"
     ]
    }
   ],
   "source": [
    "from pprint import pprint\n",
    "from copy import deepcopy\n",
    "final_file_nodes = []\n",
    "final_file_edges = deepcopy(y.relations)\n",
    "\n",
    "for actor in y.actors:\n",
    "    tmp = {}\n",
    "    tmp[\"unique_identifier\"] = (actor.identifier)\n",
    "    tmp[\"name\"]=(actor.name)\n",
    "    tmp[\"surname\"]=(actor.surname)\n",
    "    tmp[\"age\"]=(actor.date_birth)\n",
    "    tmp[\"gender\"]=(actor.gender)\n",
    "    final_file_nodes.append(tmp)\n",
    "\n",
    "pprint(final_file_nodes[2])\n",
    "print()\n",
    "pprint(final_file_edges[1])\n",
    "print()\n",
    "print(type(final_file_nodes), type(final_file_edges))\n",
    "print(type(final_file_nodes[0]), type(final_file_edges[0]))"
   ]
  },
  {
   "cell_type": "markdown",
   "metadata": {},
   "source": [
    "### Write the JSON file"
   ]
  },
  {
   "cell_type": "code",
   "execution_count": 5,
   "metadata": {},
   "outputs": [],
   "source": [
    "import json\n",
    "with open('nodes.json', 'w', encoding='utf-8') as f:\n",
    "    json.dump(final_file_nodes, f, indent=2, ensure_ascii=False, sort_keys=True)\n",
    "with open('edges.json', 'w', encoding='utf-8') as f:\n",
    "    json.dump(final_file_edges, f, indent=2, ensure_ascii=False, sort_keys=True)"
   ]
  },
  {
   "cell_type": "markdown",
   "metadata": {},
   "source": [
    "### Check if saved properly"
   ]
  },
  {
   "cell_type": "code",
   "execution_count": 6,
   "metadata": {},
   "outputs": [
    {
     "name": "stdout",
     "output_type": "stream",
     "text": [
      "{'age': '12/12/1993',\n",
      " 'gender': 1,\n",
      " 'name': 'Rodrigo',\n",
      " 'surname': 'Brico',\n",
      " 'unique_identifier': 6216702768983108108}\n"
     ]
    }
   ],
   "source": [
    "with open('nodes.json', 'r', encoding='utf-8') as f:\n",
    "    res = json.load(f)\n",
    "pprint(res[2])"
   ]
  },
  {
   "cell_type": "code",
   "execution_count": 7,
   "metadata": {},
   "outputs": [
    {
     "name": "stdout",
     "output_type": "stream",
     "text": [
      "{'7487123379533553379': {'id_1': 3919601417933863333,\n",
      "                         'id_2': -443927449806274300,\n",
      "                         'start_at': '18/03/2021',\n",
      "                         'typeof': 1}}\n"
     ]
    }
   ],
   "source": [
    "with open('edges.json', 'r', encoding='utf-8') as f:\n",
    "    res = json.load(f)\n",
    "pprint(res[2])"
   ]
  }
 ],
 "metadata": {
  "kernelspec": {
   "display_name": "Python 3",
   "language": "python",
   "name": "python3"
  },
  "language_info": {
   "codemirror_mode": {
    "name": "ipython",
    "version": 3
   },
   "file_extension": ".py",
   "mimetype": "text/x-python",
   "name": "python",
   "nbconvert_exporter": "python",
   "pygments_lexer": "ipython3",
   "version": "3.8.5"
  },
  "toc": {
   "base_numbering": 1,
   "nav_menu": {},
   "number_sections": true,
   "sideBar": true,
   "skip_h1_title": false,
   "title_cell": "Table of Contents",
   "title_sidebar": "Contents",
   "toc_cell": false,
   "toc_position": {},
   "toc_section_display": true,
   "toc_window_display": false
  }
 },
 "nbformat": 4,
 "nbformat_minor": 4
}
