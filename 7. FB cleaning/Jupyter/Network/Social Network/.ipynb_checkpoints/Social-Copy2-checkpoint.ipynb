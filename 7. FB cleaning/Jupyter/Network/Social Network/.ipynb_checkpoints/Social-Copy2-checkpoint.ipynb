{
 "cells": [
  {
   "cell_type": "markdown",
   "metadata": {},
   "source": [
    "# Conceptual Model"
   ]
  },
  {
   "cell_type": "markdown",
   "metadata": {},
   "source": [
    "The nodes of our graph represent the actors of our social network while the edges represent the link between them. Each node have different attributes, one of them is the unique identifier which is the most important to track it while the others are normal feature as name, surname, gender, age. also the edges have attribute as the date of the begin of the relationship and the type of the relation (friend of follower). "
   ]
  },
  {
   "cell_type": "markdown",
   "metadata": {},
   "source": [
    "# Logical Model"
   ]
  },
  {
   "cell_type": "markdown",
   "metadata": {},
   "source": [
    "Class Actor and Class SocialNetwork!"
   ]
  },
  {
   "cell_type": "code",
   "execution_count": 109,
   "metadata": {},
   "outputs": [],
   "source": [
    "class Actor():\n",
    "    import numpy as np\n",
    "    def __init__(self, full_name, gender=np.nan, age=np.nan):\n",
    "        import numpy as np\n",
    "        self.identifier = hash(full_name)\n",
    "        name,surname = full_name.split(\" \")\n",
    "        self.name = name.capitalize().strip()\n",
    "        self.surname = surname.capitalize().strip()\n",
    "        if type(gender)!=float and gender.lower().startswith(\"m\"):\n",
    "            self.gender = \"M\"\n",
    "        elif type(gender)!= float and gender.lower().startswith(\"f\"):\n",
    "            self.gender = \"F\"\n",
    "        self.age = age\n",
    "        self.relations = {}\n",
    "    def __str__(self):\n",
    "        return (\"Hash: {}\".format(str(self.identifier))+\"\\n\"\\\n",
    "                \"Name: {}\".format(self.name)+\"\\n\" \\\n",
    "                \"Surname: {}\".format(self.surname)+ \"\\n\"+\n",
    "                \"Gender: {}\".format(str(self.age)) + \"\\n\"+\\\n",
    "                \"Relations: {}\".format(str(self.relations)))\n",
    "    def __repr__(self):\n",
    "        return str(self.identifier)\n",
    "    def all_relations(self):\n",
    "        return self.relations\n",
    "    def n_of_relation(self):\n",
    "        return len(self.relations)\n",
    "    \n",
    "    def __eq__(self, other):\n",
    "        if type(other)!= Actor:\n",
    "            return (self.identifier == other)\n",
    "        else:\n",
    "            return (self.identifier == other.identifier)\n",
    "    def __hash__(self):\n",
    "        return hash(self.name)\n",
    "        \n",
    "    def add_relation(self, other, typeof = \"friend\"):\n",
    "        import time\n",
    "        if type(other) != Actor:\n",
    "            raise ValueError(\"Other object is not an actor\")\n",
    "        else:\n",
    "            datetime = time.strftime(\"%d/%m/%Y\")\n",
    "            self.relations[other.identifier] = dict(start_at = datetime, typeof = typeof)\n",
    "            if typeof == \"friend\":\n",
    "                other.relations[self.identifier] = dict(start_at = datetime, typeof = typeof)\n",
    "    def json(self):\n",
    "        res = dict(unique_identifier=self.identifier, name=self.name, surname=self.surname, \\\n",
    "                   gender=self.gender, age= self.age, relations = self.relations)\n",
    "        return res\n",
    "                \n",
    "            \n",
    "class SocialNetwork():\n",
    "    def __init__(self):\n",
    "        self.social = set()\n",
    "        self.utenti = set()\n",
    "    def add_(self, actors):\n",
    "        if type(actors)== list:\n",
    "            for el in actors:\n",
    "                self.social.add(el)\n",
    "                self.utenti.add(el.name+ \" \"+ el.surname)\n",
    "        else:\n",
    "            self.social.add(actors)\n",
    "            self.utenti.add(actors.name+ \" \"+ actors.surname)\n",
    "    def size_network(self):\n",
    "        return len(self.social)\n",
    "    def __str__(self):\n",
    "        return str(self.utenti)\n",
    "    def __repr__(self):\n",
    "        return self.__str__()  \n",
    "    def __iter__(self):\n",
    "        for row in self.social:\n",
    "            yield(row)\n",
    "            \n",
    "    def plot_network(self):\n",
    "        import networkx as nx\n",
    "        import matplotlib.pyplot as plt\n",
    "        import random as rd\n",
    "        rd.seed(8)\n",
    "        G = nx.DiGraph()\n",
    "        for actor in self.social:\n",
    "            for relation in actor.relations:\n",
    "                G.add_edge(actor.identifier, relation)\n",
    "        dim = [300]*len(G.nodes())\n",
    "        plt.figure(3,figsize=(7,7))\n",
    "        pos=nx.spring_layout(G)\n",
    "        nx.draw(G, pos, cmap=plt.get_cmap('jet'),node_size=dim)\n",
    "        plt.title(\"Social Network\", fontsize=20)\n",
    "\n",
    "        "
   ]
  },
  {
   "cell_type": "markdown",
   "metadata": {},
   "source": [
    "## Generate random network:"
   ]
  },
  {
   "cell_type": "code",
   "execution_count": 207,
   "metadata": {},
   "outputs": [],
   "source": [
    "def create_network(n_of_relation =40, seed=42):\n",
    "    import random as rd\n",
    "    rd.seed(seed)\n",
    "    a = Actor(\"gigio brico\", \"male\", 34)\n",
    "    b = Actor(\"mario wario\", \"male\",43)\n",
    "    c = Actor(\"pino since\", \"m\", 32)\n",
    "    d = Actor(\"gina pina\", \"female\", 34)\n",
    "    e = Actor(\"lollo truce\", \"male\",43)\n",
    "    f = Actor(\"gianni panni\", \"m\", 32)\n",
    "    g = Actor(\"kurt cobain\", \"female\", 34)\n",
    "    h = Actor(\"jimi hendrix\", \"female\",43)\n",
    "    i = Actor(\"luca magik\", \"m\", 32)\n",
    "    l = Actor(\"alessandra pro\", \"female\", 34)\n",
    "    m = Actor(\"peach princess\", \"female\",43)\n",
    "    n = Actor(\"ruslan perdem\", \"m\", 32)\n",
    "    o = Actor(\"rodrigo brico\", \"male\", 34)\n",
    "    p = Actor(\"luigi luigino\", \"male\",43)\n",
    "    q = Actor(\"mastro prog\", \"m\", 32)\n",
    "    r = Actor(\"davide vinicius\", \"male\", 34)\n",
    "    s = Actor(\"massospora woa\", \"female\",43)\n",
    "    t = Actor(\"track since_sound\", \"m\", 32)\n",
    "    u = Actor(\"python py\", \"female\", 34)\n",
    "    v = Actor(\"R R\", \"female\",43)\n",
    "    z = Actor(\"ruby ruby\", \"m\", 32)\n",
    "    w = Actor(\"chsharp pro\", \"male\", 34)\n",
    "    y = Actor(\"i'veno fantasy\", \"female\",43)\n",
    "    j = Actor(\"jim morrison\", \"m\", 27)\n",
    "    actors = [a,b,c,d,e,f,g,h,i,l,m,n,o,p,q,r,s,t,u,v,z, w,y,j]\n",
    "    for iel in range(n_of_relation):\n",
    "        da = actors[rd.randint(0,23)]\n",
    "        to = actors[rd.randint(0,23)]\n",
    "        if iel % 7 == 0:\n",
    "            da.add_relation(to,typeof=\"follow\")\n",
    "        else:\n",
    "            da.add_relation(to)\n",
    "    return actors"
   ]
  },
  {
   "cell_type": "markdown",
   "metadata": {},
   "source": [
    "## Plug in the actors in the social network"
   ]
  },
  {
   "cell_type": "code",
   "execution_count": 211,
   "metadata": {},
   "outputs": [
    {
     "data": {
      "image/png": "[encoded data removed]",
      "text/plain": [
       "<Figure size 504x504 with 1 Axes>"
      ]
     },
     "metadata": {},
     "output_type": "display_data"
    }
   ],
   "source": [
    "all_actor = create_network(18,seed=8)\n",
    "net = SocialNetwork()\n",
    "net.add_(all_actor)\n",
    "net.plot_network()"
   ]
  },
  {
   "cell_type": "markdown",
   "metadata": {},
   "source": [
    "## Create JSON file"
   ]
  },
  {
   "cell_type": "markdown",
   "metadata": {},
   "source": [
    "### Create a list of dict"
   ]
  },
  {
   "cell_type": "code",
   "execution_count": 219,
   "metadata": {},
   "outputs": [
    {
     "name": "stdout",
     "output_type": "stream",
     "text": [
      "[{'age': 43,\n",
      "  'gender': 'M',\n",
      "  'name': 'Luigi',\n",
      "  'relations': {5482559634480238698: {'start_at': '17/03/2021',\n",
      "                                      'typeof': 'friend'}},\n",
      "  'surname': 'Luigino',\n",
      "  'unique_identifier': 3133872797835419586}]\n",
      "\n",
      "\n",
      "len of list: 24 type_of: <class 'list'> type_of_element_inside: <class 'dict'>\n"
     ]
    }
   ],
   "source": [
    "from pprint import pprint\n",
    "final_file = []\n",
    "for actor in net:\n",
    "    tmp = {}\n",
    "    tmp[\"unique_identifier\"] = (actor.identifier)\n",
    "    tmp[\"name\"]=(actor.name)\n",
    "    tmp[\"surname\"]=(actor.surname)\n",
    "    tmp[\"age\"]=(actor.age)\n",
    "    tmp[\"gender\"]=(actor.gender)\n",
    "    tmp[\"relations\"]=(actor.relations)\n",
    "    final_file.append(tmp)\n",
    "pprint(final_file[2:3])\n",
    "\n",
    "print(\"\\n\\nlen of list: {}\".format(len(final_file)) + \" type_of: {}\".format(type(final_file)) + \" type_of_element_inside: {}\".format(type(final_file[0])))"
   ]
  },
  {
   "cell_type": "markdown",
   "metadata": {},
   "source": [
    "### Write the JSON file"
   ]
  },
  {
   "cell_type": "code",
   "execution_count": 213,
   "metadata": {},
   "outputs": [],
   "source": [
    "with open('data.json', 'w', encoding='utf-8') as f:\n",
    "    json.dump(final_file, f, indent=2, ensure_ascii=False, sort_keys=True)"
   ]
  },
  {
   "cell_type": "markdown",
   "metadata": {},
   "source": [
    "### Check if saved properly"
   ]
  },
  {
   "cell_type": "code",
   "execution_count": 214,
   "metadata": {},
   "outputs": [
    {
     "name": "stdout",
     "output_type": "stream",
     "text": [
      "[{'age': 43,\n",
      "  'gender': 'M',\n",
      "  'name': 'Luigi',\n",
      "  'relations': {'5482559634480238698': {'start_at': '17/03/2021',\n",
      "                                        'typeof': 'friend'}},\n",
      "  'surname': 'Luigino',\n",
      "  'unique_identifier': 3133872797835419586},\n",
      " {'age': 34,\n",
      "  'gender': 'F',\n",
      "  'name': 'Python',\n",
      "  'relations': {'-9131927294904867781': {'start_at': '17/03/2021',\n",
      "                                         'typeof': 'friend'}},\n",
      "  'surname': 'Py',\n",
      "  'unique_identifier': -4750461888219342783}]\n"
     ]
    }
   ],
   "source": [
    "with open('data.json', 'r', encoding='utf-8') as f:\n",
    "    res = json.load(f)\n",
    "pprint(res[2:4])"
   ]
  },
  {
   "cell_type": "code",
   "execution_count": null,
   "metadata": {},
   "outputs": [],
   "source": []
  }
 ],
 "metadata": {
  "kernelspec": {
   "display_name": "Python 3",
   "language": "python",
   "name": "python3"
  },
  "language_info": {
   "codemirror_mode": {
    "name": "ipython",
    "version": 3
   },
   "file_extension": ".py",
   "mimetype": "text/x-python",
   "name": "python",
   "nbconvert_exporter": "python",
   "pygments_lexer": "ipython3",
   "version": "3.8.5"
  },
  "toc": {
   "base_numbering": 1,
   "nav_menu": {},
   "number_sections": true,
   "sideBar": true,
   "skip_h1_title": false,
   "title_cell": "Table of Contents",
   "title_sidebar": "Contents",
   "toc_cell": false,
   "toc_position": {},
   "toc_section_display": true,
   "toc_window_display": false
  }
 },
 "nbformat": 4,
 "nbformat_minor": 4
}
