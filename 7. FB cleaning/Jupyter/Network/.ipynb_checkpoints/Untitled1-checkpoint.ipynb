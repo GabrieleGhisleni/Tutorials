{
 "cells": [
  {
   "cell_type": "code",
   "execution_count": null,
   "metadata": {},
   "outputs": [],
   "source": [
    "def create_network(n_of_relation =40):\n",
    "    a = Actor(\"gigio brico\", \"male\", 34)\n",
    "    b = Actor(\"mario wario\", \"male\",43)\n",
    "    c = Actor(\"pino since\", \"m\", 32)\n",
    "    d = Actor(\"gina pina\", \"female\", 34)\n",
    "    e = Actor(\"lollo truce\", \"male\",43)\n",
    "    f = Actor(\"gianni panni\", \"m\", 32)\n",
    "    g = Actor(\"kurt cobain\", \"female\", 34)\n",
    "    h = Actor(\"jimi hendrix\", \"female\",43)\n",
    "    i = Actor(\"luca magik\", \"m\", 32)\n",
    "    l = Actor(\"alessandra pro\", \"female\", 34)\n",
    "    m = Actor(\"peach princess\", \"female\",43)\n",
    "    n = Actor(\"ruslan perdem\", \"m\", 32)\n",
    "    o = Actor(\"rodrigo brico\", \"male\", 34)\n",
    "    p = Actor(\"luigi luigino\", \"male\",43)\n",
    "    q = Actor(\"mastro prog\", \"m\", 32)\n",
    "    r = Actor(\"davide vinicius\", \"male\", 34)\n",
    "    s = Actor(\"massospora woa\", \"female\",43)\n",
    "    t = Actor(\"track since_sound\", \"m\", 32)\n",
    "    u = Actor(\"python py\", \"female\", 34)\n",
    "    v = Actor(\"R R\", \"female\",43)\n",
    "    z = Actor(\"ruby ruby\", \"m\", 32)\n",
    "    w = Actor(\"chsharp pro\", \"male\", 34)\n",
    "    y = Actor(\"i'veno fantasy\", \"female\",43)\n",
    "    j = Actor(\"jim morrison\", \"m\", 27)\n",
    "    actors = [a,b,c,d,e,f,g,h,i,l,m,n,o,p,q,r,s,t,u,v,z, w,y,j]\n",
    "    import random as rd\n",
    "    rd.seed(42)\n",
    "    for iel in range(n_of_relation):\n",
    "        da = actors[rd.randint(0,23)]\n",
    "        to = actors[rd.randint(0,23)]\n",
    "        if iel % 7 == 0:\n",
    "            da.add_relation(to,typeof=\"follow\")\n",
    "        else:\n",
    "            da.add_relation(to,typeof=\"follow\")\n",
    "    return actors"
   ]
  }
 ],
 "metadata": {
  "kernelspec": {
   "display_name": "Python 3",
   "language": "python",
   "name": "python3"
  },
  "language_info": {
   "codemirror_mode": {
    "name": "ipython",
    "version": 3
   },
   "file_extension": ".py",
   "mimetype": "text/x-python",
   "name": "python",
   "nbconvert_exporter": "python",
   "pygments_lexer": "ipython3",
   "version": "3.8.5"
  },
  "toc": {
   "base_numbering": 1,
   "nav_menu": {},
   "number_sections": true,
   "sideBar": true,
   "skip_h1_title": false,
   "title_cell": "Table of Contents",
   "title_sidebar": "Contents",
   "toc_cell": false,
   "toc_position": {},
   "toc_section_display": true,
   "toc_window_display": false
  }
 },
 "nbformat": 4,
 "nbformat_minor": 4
}
