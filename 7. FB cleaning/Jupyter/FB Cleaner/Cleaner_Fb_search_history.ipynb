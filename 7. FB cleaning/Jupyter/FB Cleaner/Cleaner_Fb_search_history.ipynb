{
 "cells": [
  {
   "cell_type": "code",
   "execution_count": 2,
   "metadata": {},
   "outputs": [],
   "source": [
    "def cleaning_search_history(filename = \"your_search_history.json\"):\n",
    "    \" it return two object: the clean_df and a table of the value with the frequencies\"\n",
    "    import pandas as pd\n",
    "    import numpy as np\n",
    "    df = pd.read_json(filename, encoding=\"utf-8\")\n",
    "    clean_df = pd.DataFrame()\n",
    "    searched_for = []\n",
    "    timestamp = []\n",
    "    for irow in range(len(df)):\n",
    "        searched_for.append(df[\"searches\"][irow][\"data\"][0][\"text\"].lower().replace(\" \",\"_\"))\n",
    "        timestamp.append(df[\"searches\"][irow][\"timestamp\"])\n",
    "    clean_df[\"searched_for\"] = searched_for\n",
    "    clean_df[\"timestamp\"] = timestamp\n",
    "    clean_df[\"timestamp\"] = pd.to_datetime(clean_df[\"timestamp\"], unit=\"s\").dt.date\n",
    "    table_of_search = pd.DataFrame(clean_df[\"searched_for\"].value_counts())\n",
    "    table_of_search = table_of_search.reset_index()\n",
    "    table_of_search.columns = [\"searched\",\"freq\"]\n",
    "    clean_df.set_index(\"timestamp\",inplace=True)\n",
    "    return((clean_df,table_of_search))"
   ]
  }
 ],
 "metadata": {
  "kernelspec": {
   "display_name": "Python 3",
   "language": "python",
   "name": "python3"
  },
  "language_info": {
   "codemirror_mode": {
    "name": "ipython",
    "version": 3
   },
   "file_extension": ".py",
   "mimetype": "text/x-python",
   "name": "python",
   "nbconvert_exporter": "python",
   "pygments_lexer": "ipython3",
   "version": "3.8.8"
  },
  "toc": {
   "base_numbering": 1,
   "nav_menu": {},
   "number_sections": true,
   "sideBar": true,
   "skip_h1_title": false,
   "title_cell": "Table of Contents",
   "title_sidebar": "Contents",
   "toc_cell": false,
   "toc_position": {},
   "toc_section_display": true,
   "toc_window_display": false
  }
 },
 "nbformat": 4,
 "nbformat_minor": 4
}
