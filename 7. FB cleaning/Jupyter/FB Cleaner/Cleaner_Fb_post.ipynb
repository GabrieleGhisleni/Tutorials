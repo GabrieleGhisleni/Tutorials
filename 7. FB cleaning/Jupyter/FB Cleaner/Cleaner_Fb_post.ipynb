{
 "cells": [
  {
   "cell_type": "code",
   "execution_count": 1,
   "metadata": {},
   "outputs": [],
   "source": [
    "import numpy as np\n",
    "import pandas as pd\n",
    "def cleaning_post_2(filename=\"your_posts_1.json\"):\n",
    "    \"   **it works only with italian data, without it wont recognize the title but works**                   \\\n",
    "    This function require the file obtained from the required Facebook data: 'your_posts_1.json'              \\\n",
    "    some choice are made to extract the data, for instance all the rows without the post in the                \\\n",
    "    data are removed. the final result is a pandas dataframe having as index the timestamp                      \\\n",
    "    as datetime, a column having the posts a columns wich return on what and last column which return the tags.\"\n",
    "\n",
    "    df = pd.read_json(filename, encoding=\"utf-8\")\n",
    "    df= df.dropna(subset=[\"data\"])\n",
    "    df.reset_index(inplace=True)\n",
    "    description = []\n",
    "    timestamp = []\n",
    "    title= []\n",
    "    tags = []\n",
    "    possible_title =[\"era \",\"ha aggiornato\",\"ha aggiunto\",\"ha pubblicato \",\"ha scritto sul \"]\n",
    "    for irow in range(len(df)):\n",
    "        if df[\"data\"][irow] != [] and \"post\" in df[\"data\"][irow][0] and \"aug\" not in df[\"data\"][irow][0][\"post\"] and \"Aug\" not in df[\"data\"][irow][0][\"post\"]:\n",
    "            description.append(df[\"data\"][irow][0][\"post\"])\n",
    "            timestamp.append(df[\"timestamp\"][irow])\n",
    "            if type(df[\"title\"][irow]) != float:\n",
    "                for pos_title in possible_title:\n",
    "                    if pos_title in df[\"title\"][irow]:\n",
    "                        ind = df[\"title\"][irow].find(pos_title) + len(pos_title)\n",
    "                        title.append(df[\"title\"][irow][ind:])\n",
    "            if len(title)!= len(timestamp):\n",
    "                title.append(np.nan)\n",
    "            tags.append(df[\"tags\"][irow])\n",
    "    new_df = pd.DataFrame()\n",
    "    new_df[\"timestamp\"] = timestamp\n",
    "    new_df[\"post\"]=description\n",
    "    new_df[\"what\"]= title\n",
    "    new_df[\"tags\"]=tags\n",
    "    new_df.set_index(\"timestamp\", inplace=True)\n",
    "    return new_df"
   ]
  }
 ],
 "metadata": {
  "kernelspec": {
   "display_name": "Python 3",
   "language": "python",
   "name": "python3"
  },
  "language_info": {
   "codemirror_mode": {
    "name": "ipython",
    "version": 3
   },
   "file_extension": ".py",
   "mimetype": "text/x-python",
   "name": "python",
   "nbconvert_exporter": "python",
   "pygments_lexer": "ipython3",
   "version": "3.8.8"
  },
  "toc": {
   "base_numbering": 1,
   "nav_menu": {},
   "number_sections": true,
   "sideBar": true,
   "skip_h1_title": false,
   "title_cell": "Table of Contents",
   "title_sidebar": "Contents",
   "toc_cell": false,
   "toc_position": {},
   "toc_section_display": true,
   "toc_window_display": false
  }
 },
 "nbformat": 4,
 "nbformat_minor": 4
}
