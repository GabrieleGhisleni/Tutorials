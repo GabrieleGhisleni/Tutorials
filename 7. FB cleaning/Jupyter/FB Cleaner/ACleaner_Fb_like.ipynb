{
 "cells": [
  {
   "cell_type": "code",
   "execution_count": 3,
   "metadata": {},
   "outputs": [],
   "source": [
    "import pandas as pd\n",
    "import numpy as np\n",
    "import random as rd\n",
    "def cleaning_like(filename=\"posts_and_comments.json\"):\n",
    "    ##############################################################\n",
    "    \"   **it works only with italian data**  \\\n",
    "    This function require the file obtained from the required Facebook data: 'posts_and_comments.json'     \\\n",
    "    some choice are made to extract the data, for instance all the rows without 'di' in the                \\\n",
    "    title are removed. the final result is a pandas dataframe having as index the timestamp                \\\n",
    "    as datetime, a column having the persone who received the like last column which return on what        \\\n",
    "    was done the like. the function return two elements, the whole clean_df and another  fancy df regarding \\\n",
    "    a table of likes, person and frequencies suggested way to visualize the result: \\\n",
    "    for index, row in table_of_like.iterrows(): \\\n",
    "    print(row['to_who'], row['how_many']) \"\n",
    "    ##############################################################\n",
    "    df = pd.read_json(filename, encoding=\"utf-8\")\n",
    "    df = df.dropna()\n",
    "    clean_df = pd.DataFrame()\n",
    "    timestamp = []\n",
    "    person = []\n",
    "    to_what = []\n",
    "    for iel in range(len(df)):\n",
    "        s, p = np.nan, np.nan\n",
    "        if \"di\" not in df[\"reactions\"][iel][\"title\"]:\n",
    "            pass\n",
    "        else:\n",
    "            check = len(to_what)\n",
    "            string = df[\"reactions\"][iel][\"title\"]\n",
    "            action = [\"foto\",\"post\",\"link\",\"video\",\"album\",\"commento\",\"avvenimento\"]\n",
    "            for act in action :\n",
    "                if act in string and len(to_what) == check:\n",
    "                    s = act\n",
    "            to_what.append(s)\n",
    "            di_loc = string.find(\"di\")\n",
    "            sul_loc = string.find(\"sul\")\n",
    "            if sul_loc != -1:\n",
    "                p = string[di_loc+2:sul_loc-1]\n",
    "            else:\n",
    "                p = string[di_loc+2:-1]\n",
    "            person.append(p)\n",
    "            timestamp.append(df[\"reactions\"][iel][\"timestamp\"])\n",
    "\n",
    "    clean_df[\"timestamp\"] = timestamp\n",
    "    clean_df[\"timestamp\"] = pd.to_datetime(clean_df[\"timestamp\"], unit='s').dt.date\n",
    "    clean_df[\"to_who\"] = person\n",
    "    clean_df[\"to_what\"] = to_what\n",
    "    clean_df.set_index(\"timestamp\",inplace=True)\n",
    "    table_of_like = pd.DataFrame(clean_df[\"to_who\"].value_counts())\n",
    "    table_of_like.reset_index(False, inplace=True)\n",
    "    table_of_like.columns = [\"to_who\",\"how_many\"]\n",
    "    return ((clean_df, table_of_like))"
   ]
  },
  {
   "cell_type": "code",
   "execution_count": 4,
   "metadata": {},
   "outputs": [],
   "source": [
    "clean_df, table_of_like = cleaning_like()"
   ]
  },
  {
   "cell_type": "code",
   "execution_count": 9,
   "metadata": {},
   "outputs": [
    {
     "data": {
      "text/plain": [
       "to_who      SenzaConfini\n",
       "to_what             foto\n",
       "Name: 2017-05-11, dtype: object"
      ]
     },
     "execution_count": 9,
     "metadata": {},
     "output_type": "execute_result"
    }
   ],
   "source": [
    "clean_df.iloc[602]"
   ]
  },
  {
   "cell_type": "code",
   "execution_count": 6,
   "metadata": {},
   "outputs": [
    {
     "data": {
      "text/plain": [
       "to_who       LINK PER TUTTI\n",
       "how_many                  3\n",
       "Name: 167, dtype: object"
      ]
     },
     "execution_count": 6,
     "metadata": {},
     "output_type": "execute_result"
    }
   ],
   "source": [
    "table_of_like.iloc[167]"
   ]
  },
  {
   "cell_type": "code",
   "execution_count": 7,
   "metadata": {},
   "outputs": [],
   "source": [
    "clean_df.to_csv(\"like.csv\")\n",
    "table_of_like.to_csv(\"table_of_like.csv\")"
   ]
  }
 ],
 "metadata": {
  "kernelspec": {
   "display_name": "Python 3",
   "language": "python",
   "name": "python3"
  },
  "language_info": {
   "codemirror_mode": {
    "name": "ipython",
    "version": 3
   },
   "file_extension": ".py",
   "mimetype": "text/x-python",
   "name": "python",
   "nbconvert_exporter": "python",
   "pygments_lexer": "ipython3",
   "version": "3.8.8"
  },
  "toc": {
   "base_numbering": 1,
   "nav_menu": {},
   "number_sections": true,
   "sideBar": true,
   "skip_h1_title": false,
   "title_cell": "Table of Contents",
   "title_sidebar": "Contents",
   "toc_cell": false,
   "toc_position": {},
   "toc_section_display": true,
   "toc_window_display": false
  }
 },
 "nbformat": 4,
 "nbformat_minor": 4
}
