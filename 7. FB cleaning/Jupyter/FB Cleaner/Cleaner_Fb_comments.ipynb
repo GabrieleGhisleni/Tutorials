{
 "cells": [
  {
   "cell_type": "code",
   "execution_count": 2,
   "metadata": {},
   "outputs": [],
   "source": [
    "def cleaning_comments(filename = \"comments.json\"):\n",
    "    \n",
    "    \"   **it works only with italian data**  \\\n",
    "    This function require the file obtained from the required Facebook data: 'comments.json' \\\n",
    "    some choice are made to extract the data, for instance all the rows without 'di' in the  \\\n",
    "    title are removed. the final result is a pandas dataframe having as index the timestamp  \\\n",
    "    as datetime, a column having the comment that was done and a last column which return    \\\n",
    "    the owner of the post.\"   \n",
    "    \n",
    "    import pandas as pd\n",
    "    import numpy as np\n",
    "    ##########################\n",
    "    def filter_comment(diz):\n",
    "        res = diz[0][\"comment\"]\n",
    "        comment = res[\"comment\"]\n",
    "        return (comment)\n",
    "    def filter_timestamp(diz):\n",
    "        res = diz[0][\"comment\"]\n",
    "        time = pd.to_datetime(res[\"timestamp\"], unit='s')\n",
    "        return (time)\n",
    "    def filter_title(string):\n",
    "        start = string.find(\"ha\")\n",
    "        return string[start:]\n",
    "    ###########################\n",
    "    df = pd.read_json(filename, encoding=\"utf-8\")\n",
    "    timestamp = []\n",
    "    title = []\n",
    "    comment = []\n",
    "    for iel in range(len(df)):\n",
    "        if \"di\" in df[\"comments\"][iel][\"title\"]:\n",
    "            ind = df[\"comments\"][iel][\"title\"].find(\"di\")\n",
    "            title.append(df[\"comments\"][iel][\"title\"][ind:])\n",
    "            timestamp.append(df[\"comments\"][iel][\"timestamp\"])\n",
    "            if \"data\" in df[\"comments\"][iel]:\n",
    "                comment.append(df[\"comments\"][iel][\"data\"][0][\"comment\"][\"comment\"])\n",
    "            else:\n",
    "                comment.append(np.nan)\n",
    "    new_df = pd.DataFrame()\n",
    "    new_df[\"timestamp\"]=timestamp\n",
    "    new_df[\"timestamp\"]=pd.to_datetime(timestamp, unit=\"s\")\n",
    "    new_df[\"comment\"]=comment\n",
    "    new_df[\"title\"]=title\n",
    "    new_df.set_index(\"timestamp\",inplace=True)\n",
    "    return new_df"
   ]
  }
 ],
 "metadata": {
  "kernelspec": {
   "display_name": "Python 3",
   "language": "python",
   "name": "python3"
  },
  "language_info": {
   "codemirror_mode": {
    "name": "ipython",
    "version": 3
   },
   "file_extension": ".py",
   "mimetype": "text/x-python",
   "name": "python",
   "nbconvert_exporter": "python",
   "pygments_lexer": "ipython3",
   "version": "3.8.8"
  },
  "toc": {
   "base_numbering": 1,
   "nav_menu": {},
   "number_sections": true,
   "sideBar": true,
   "skip_h1_title": false,
   "title_cell": "Table of Contents",
   "title_sidebar": "Contents",
   "toc_cell": false,
   "toc_position": {},
   "toc_section_display": true,
   "toc_window_display": false
  }
 },
 "nbformat": 4,
 "nbformat_minor": 4
}
